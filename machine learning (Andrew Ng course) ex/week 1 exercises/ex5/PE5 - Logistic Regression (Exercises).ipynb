{
 "cells": [
  {
   "cell_type": "code",
   "execution_count": 3,
   "metadata": {},
   "outputs": [],
   "source": [
    "import numpy as np\n",
    "import pandas as pd\n",
    "import matplotlib.pylab as plt\n",
    "from scipy.optimize import minimize\n",
    "%matplotlib inline"
   ]
  },
  {
   "cell_type": "markdown",
   "metadata": {},
   "source": [
    "## Regularized Linear Regression\n",
    "\n",
    "---\n",
    "In the first half of the exercise, you will implement regularized linear regres- sion to predict the amount of water flowing out of a dam using the change of water level in a reservoir. In the next half, you will go through some diag- nostics of debugging learning algorithms and examine the effects of bias v.s. variance.\n",
    "\n",
    "Start by loading the data."
   ]
  },
  {
   "cell_type": "code",
   "execution_count": 4,
   "metadata": {},
   "outputs": [],
   "source": [
    "import scipy.io as sio\n",
    "\n",
    "# Load data\n",
    "data = sio.loadmat(\"ex5data1.mat\")\n",
    "X = data[\"X\"]\n",
    "m, n = X.shape\n",
    "y = data[\"y\"].reshape(m)\n",
    "Xval = data['Xval']\n",
    "mval, nval = Xval.shape\n",
    "yval = data['yval'].reshape(mval)\n",
    "\n",
    "# Add bias to X\n",
    "X = np.hstack((np.ones((m, 1)), X))\n",
    "Xval = np.hstack((np.ones((mval, 1)), Xval))"
   ]
  },
  {
   "cell_type": "markdown",
   "metadata": {},
   "source": [
    "### Visualising the data"
   ]
  },
  {
   "cell_type": "code",
   "execution_count": 5,
   "metadata": {},
   "outputs": [
    {
     "data": {
      "text/plain": [
       "Text(0, 0.5, 'Water flowing out of the dam (y)')"
      ]
     },
     "execution_count": 5,
     "metadata": {},
     "output_type": "execute_result"
    },
    {
     "data": {
      "image/png": "[encoded data removed]",
      "text/plain": [
       "<Figure size 432x288 with 1 Axes>"
      ]
     },
     "metadata": {
      "needs_background": "light"
     },
     "output_type": "display_data"
    }
   ],
   "source": [
    "plt.plot(X[:, 1], y, 'rx')\n",
    "plt.xlabel('Change in water leven (x)')\n",
    "plt.ylabel('Water flowing out of the dam (y)')"
   ]
  },
  {
   "cell_type": "markdown",
   "metadata": {},
   "source": [
    "Recall the cost function for regularized linear regression: \n",
    "\n",
    "$$J(\\theta) = \\frac{1}{m}(\\displaystyle\\sum_{i=1}^{m}(h_\\theta(x^{(i)}) - y^{(i)})^2) + \\frac{\\lambda}{m}\\displaystyle\\sum_{j=1}^{n}{\\theta_j}^2$$\n",
    "\n",
    "**Exercise**: Write a regularized vectorized linear regression function."
   ]
  },
  {
   "cell_type": "code",
   "execution_count": 6,
   "metadata": {},
   "outputs": [],
   "source": [
    "def hypothesis_function(X, theta):\n",
    "    \"\"\"computing the hypothesis with the parameter theta\"\"\"\n",
    "    hypothesis = X@theta\n",
    "    return hypothesis"
   ]
  },
  {
   "cell_type": "code",
   "execution_count": 7,
   "metadata": {},
   "outputs": [],
   "source": [
    "def linear_reg_cost_function(theta, X, y, _lambda):\n",
    "    \"\"\"implementation of cost function with regularization for linear regression\"\"\"\n",
    "    m = len(y)\n",
    "    hypothesis = hypothesis_function(X, theta)\n",
    "    cost = ((hypothesis-y).T@(hypothesis-y))/(2*m)\n",
    "    regularization = (_lambda/(2*m)) * (theta[1:].T@theta[1:])\n",
    "    return cost + regularization"
   ]
  },
  {
   "cell_type": "markdown",
   "metadata": {},
   "source": [
    "According to the exercise, using ones for theta should return 303.993 as intial cost."
   ]
  },
  {
   "cell_type": "code",
   "execution_count": 8,
   "metadata": {},
   "outputs": [
    {
     "data": {
      "text/plain": [
       "303.9931922202643"
      ]
     },
     "execution_count": 8,
     "metadata": {},
     "output_type": "execute_result"
    }
   ],
   "source": [
    "initial_theta = np.ones(2)\n",
    "linear_reg_cost_function(initial_theta, X, y, _lambda=1)"
   ]
  },
  {
   "cell_type": "markdown",
   "metadata": {},
   "source": [
    "### Regularized linear regression gradient\n",
    "\n",
    "The partial derrivatives for $\\theta_j$:\n",
    "\n",
    "$$\\frac{\\delta J(\\theta)}{\\delta\\theta_j} = \\frac{1}{m}\\displaystyle\\sum_{i=1}^{m}(h_\\theta(x^{(i)}) - y^{(i)})x_i^{(i)}$$ for $j=0$\n",
    "\n",
    "$$\\frac{\\delta J(\\theta)}{\\delta\\theta_j} = (\\frac{1}{m}\\displaystyle\\sum_{i=1}^{m}(h_\\theta(x^{(i)}) - y^{(i)})x_i^{(i)}) + \\frac{\\lambda}{m}\\theta_j$$ for $j\\geqslant 1$\n",
    "\n",
    "Vectorized: \n",
    "\n",
    "$$\\frac{\\delta J(\\theta)}{\\delta\\theta_j} = \\frac{1}{m} \\cdot X^T \\cdot (X\\theta - \\vec{y}) $$\n",
    "\n",
    "**Exercise**: Find the partial derrivatives of $J(\\theta)$. Your code should not contain any loops."
   ]
  },
  {
   "cell_type": "code",
   "execution_count": 9,
   "metadata": {},
   "outputs": [],
   "source": [
    "def compute_gradient(theta, X, y, _lambda):\n",
    "    \"\"\"Compute the partial derivative of cost function at theta \"\"\"\n",
    "    m = len(y)\n",
    "    hypothesis = hypothesis_function(X, theta)\n",
    "    regularization = (_lambda/m) * theta[1:]\n",
    "    gradient = (1/m) * (X.T@(hypothesis-y))\n",
    "    gradient[1:] = gradient[1:] + regularization\n",
    "    return gradient"
   ]
  },
  {
   "cell_type": "markdown",
   "metadata": {},
   "source": [
    "You should get the following values: $\\begin{bmatrix}-15.30 && 598.250 \\end{bmatrix}$."
   ]
  },
  {
   "cell_type": "code",
   "execution_count": 10,
   "metadata": {},
   "outputs": [
    {
     "data": {
      "text/plain": [
       "array([-15.30301567, 598.25074417])"
      ]
     },
     "execution_count": 10,
     "metadata": {},
     "output_type": "execute_result"
    }
   ],
   "source": [
    "compute_gradient(initial_theta, X, y, _lambda=1)"
   ]
  },
  {
   "cell_type": "markdown",
   "metadata": {},
   "source": [
    "### Training the mdoel\n",
    "Now we can train the model using `scipy.optimize.minimize`. In this implementation, we set $\\lambda$ to 0."
   ]
  },
  {
   "cell_type": "code",
   "execution_count": 11,
   "metadata": {},
   "outputs": [
    {
     "name": "stdout",
     "output_type": "stream",
     "text": [
      "Optimization terminated successfully.\n",
      "         Current function value: 22.373906\n",
      "         Iterations: 18\n",
      "         Function evaluations: 28\n",
      "         Gradient evaluations: 28\n"
     ]
    },
    {
     "data": {
      "text/plain": [
       "array([13.08790734,  0.36777925])"
      ]
     },
     "execution_count": 11,
     "metadata": {},
     "output_type": "execute_result"
    }
   ],
   "source": [
    "_lambda = 0\n",
    "args = (X, y, _lambda)\n",
    "result = minimize(linear_reg_cost_function, initial_theta, args=args,\n",
    "                  method='CG', jac=compute_gradient,\n",
    "                  options={'maxiter': 50, 'disp': True})\n",
    "theta = result.x\n",
    "theta"
   ]
  },
  {
   "cell_type": "markdown",
   "metadata": {},
   "source": [
    "### Visualize the found $\\theta$\n",
    "\n",
    "Althought the found value is not a good value, it's the best conjugate gradient could find using our model."
   ]
  },
  {
   "cell_type": "code",
   "execution_count": 12,
   "metadata": {},
   "outputs": [
    {
     "data": {
      "image/png": "[encoded data removed]",
      "text/plain": [
       "<Figure size 432x288 with 1 Axes>"
      ]
     },
     "metadata": {
      "needs_background": "light"
     },
     "output_type": "display_data"
    }
   ],
   "source": [
    "plt.plot(X[:,1], y, 'rx', label='Training data')\n",
    "plt.plot(X[:,1], X.dot(theta), label='Regression')\n",
    "plt.legend()\n",
    "plt.xlabel('Change in water leven (x)')\n",
    "plt.ylabel('Water flowing out of the dam (y)')\n",
    "plt.show()"
   ]
  },
  {
   "cell_type": "markdown",
   "metadata": {},
   "source": [
    "## Bias Variance\n",
    "Models with high bias are not complex enough for the data and tend to underfit, while models with high variance overfit to the training data.\n",
    "\n",
    "### Learning Curves\n",
    "You will now implement code to generate the learning curves that will be useful in debugging learning algorithms. Recall that a learning curve plots training and cross validation error as a function of training set size.\n",
    "\n",
    "This model has a high bias problem.\n",
    "\n",
    "**Exercise**: Implement the learning curve function."
   ]
  },
  {
   "cell_type": "code",
   "execution_count": 13,
   "metadata": {},
   "outputs": [],
   "source": [
    "def learning_curve(X, y, Xval, yval, _lambda):\n",
    "    \"\"\" Get the learning curves for each value of m\n",
    "    \n",
    "    Returns:\n",
    "    :error_train: The training error of the dataset until i\n",
    "    :error_val:   The error of the _entire_ cross validation set\n",
    "    \"\"\"\n",
    "    m, n = X.shape\n",
    "    error_train = np.zeros((m, 1))\n",
    "    error_val   = np.zeros((m, 1))\n",
    "    \n",
    "    for i in range(1, m+1):\n",
    "        X_temp = X[:i]\n",
    "        y_temp = y[:i]\n",
    "\n",
    "        theta = np.zeros(n)\n",
    "        from scipy.optimize import minimize\n",
    "        result = minimize(linear_reg_cost_function, theta, \n",
    "                          args = (X_temp, y_temp, _lambda),\n",
    "                          method = 'CG', jac = compute_gradient, \n",
    "                          options = {\"maxiter\": 400, \"disp\" : 1})\n",
    "        \n",
    "        theta = result.x\n",
    "\n",
    "        error_train[i-1] = linear_reg_cost_function(theta, X_temp, y_temp, 0)\n",
    "        error_val[i-1] = linear_reg_cost_function(theta, Xval, yval, 0)\n",
    "    \n",
    "    return error_train, error_val"
   ]
  },
  {
   "cell_type": "code",
   "execution_count": 14,
   "metadata": {},
   "outputs": [
    {
     "name": "stdout",
     "output_type": "stream",
     "text": [
      "Optimization terminated successfully.\n",
      "         Current function value: 0.000000\n",
      "         Iterations: 1\n",
      "         Function evaluations: 3\n",
      "         Gradient evaluations: 3\n",
      "Optimization terminated successfully.\n",
      "         Current function value: 0.000000\n",
      "         Iterations: 2\n",
      "         Function evaluations: 6\n",
      "         Gradient evaluations: 6\n",
      "Optimization terminated successfully.\n",
      "         Current function value: 3.286595\n",
      "         Iterations: 9\n",
      "         Function evaluations: 15\n",
      "         Gradient evaluations: 15\n",
      "Optimization terminated successfully.\n",
      "         Current function value: 2.842678\n",
      "         Iterations: 8\n",
      "         Function evaluations: 14\n",
      "         Gradient evaluations: 14\n",
      "Optimization terminated successfully.\n",
      "         Current function value: 13.154049\n",
      "         Iterations: 22\n",
      "         Function evaluations: 34\n",
      "         Gradient evaluations: 34\n",
      "Optimization terminated successfully.\n",
      "         Current function value: 19.443963\n",
      "         Iterations: 22\n",
      "         Function evaluations: 34\n",
      "         Gradient evaluations: 34\n",
      "Optimization terminated successfully.\n",
      "         Current function value: 20.098522\n",
      "         Iterations: 18\n",
      "         Function evaluations: 28\n",
      "         Gradient evaluations: 28\n",
      "Optimization terminated successfully.\n",
      "         Current function value: 18.172859\n",
      "         Iterations: 2\n",
      "         Function evaluations: 5\n",
      "         Gradient evaluations: 5\n",
      "Optimization terminated successfully.\n",
      "         Current function value: 22.609405\n",
      "         Iterations: 2\n",
      "         Function evaluations: 5\n",
      "         Gradient evaluations: 5\n",
      "Optimization terminated successfully.\n",
      "         Current function value: 23.261462\n",
      "         Iterations: 2\n",
      "         Function evaluations: 5\n",
      "         Gradient evaluations: 5\n",
      "Optimization terminated successfully.\n",
      "         Current function value: 24.317250\n",
      "         Iterations: 2\n",
      "         Function evaluations: 5\n",
      "         Gradient evaluations: 5\n",
      "Optimization terminated successfully.\n",
      "         Current function value: 22.373906\n",
      "         Iterations: 2\n",
      "         Function evaluations: 5\n",
      "         Gradient evaluations: 5\n"
     ]
    },
    {
     "data": {
      "text/plain": [
       "<matplotlib.legend.Legend at 0x11aff338ee0>"
      ]
     },
     "execution_count": 14,
     "metadata": {},
     "output_type": "execute_result"
    },
    {
     "data": {
      "image/png": "[encoded data removed]",
      "text/plain": [
       "<Figure size 432x288 with 1 Axes>"
      ]
     },
     "metadata": {
      "needs_background": "light"
     },
     "output_type": "display_data"
    }
   ],
   "source": [
    "error_train, error_val = learning_curve(X, y, Xval, yval, _lambda)\n",
    "plt.plot(error_train, label='train')\n",
    "plt.plot(error_val, label='validation')\n",
    "plt.legend()"
   ]
  },
  {
   "cell_type": "markdown",
   "metadata": {},
   "source": [
    "## Polynomial Regression\n",
    "The problem with our linear model was that it was too simple for the data and resulted in underfitting (high bias). In this part of the exercise, you will address this problem by adding more features.\n",
    "\n",
    "**Exercise**: Implement the function that maps the original training set X of size $m \\times 1$ into its higher powers. Specifically, when a training set X of size m × 1 is passed into the function, the function should return a $m \\times p$ matrix."
   ]
  },
  {
   "cell_type": "code",
   "execution_count": 15,
   "metadata": {},
   "outputs": [],
   "source": [
    "def polynomial_features(X, p):\n",
    "    \"\"\"implementation of the function that map the original training set into its higher powers\"\"\"\n",
    "    X_poly = X\n",
    "    for i in range(1, p):\n",
    "         X_poly = np.hstack((X_poly, np.power(X, (i+1))))\n",
    "    return X_poly"
   ]
  },
  {
   "cell_type": "markdown",
   "metadata": {},
   "source": [
    "Remember feature scaling:\n",
    "\n",
    "$$X := \\frac{X - \\mu}{\\sigma}$$\n",
    "\n",
    "Where $\\mu$ is the average value of $X$ and $\\sigma$ is the standard deviation.\n",
    "\n",
    "**Exercise**: Implement feature scaling."
   ]
  },
  {
   "cell_type": "code",
   "execution_count": 16,
   "metadata": {},
   "outputs": [],
   "source": [
    "def scale_features(X):\n",
    "    \"\"\"implementation of feature scaling function\"\"\"\n",
    "    X_norm = X\n",
    "    mu = np.mean(X_norm, axis = 0)\n",
    "    sigma = np.std(X_norm, axis = 0)\n",
    "    X_norm = (X_norm-mu)/sigma\n",
    "    return X_norm, mu, sigma"
   ]
  },
  {
   "cell_type": "markdown",
   "metadata": {},
   "source": [
    "Add polynomial features to $X$ and normalize it."
   ]
  },
  {
   "cell_type": "code",
   "execution_count": 17,
   "metadata": {},
   "outputs": [],
   "source": [
    "p = 8\n",
    "\n",
    "# X\n",
    "X_poly = polynomial_features(X[:, 1:], p) # ignore the bias column when adding polynomial features.\n",
    "X_poly, mu, sigma = scale_features(X_poly)\n",
    "X_poly = np.hstack((np.ones((m, 1)), X_poly))\n",
    "\n",
    "# X_val\n",
    "X_val_poly = polynomial_features(X[:, 1:], p) # ignore the bias column when adding polynomial features.\n",
    "X_val_poly = (X_val_poly - mu) / sigma\n",
    "X_val_poly = np.hstack((np.ones((m, 1)), X_val_poly))\n",
    "\n",
    "# X_test\n",
    "X_test_poly = polynomial_features(X[:, 1:], p) # ignore the bias column when adding polynomial features.\n",
    "X_test_poly = (X_test_poly - mu) / sigma\n",
    "X_test_poly = np.hstack((np.ones((m, 1)), X_test_poly))"
   ]
  },
  {
   "cell_type": "markdown",
   "metadata": {},
   "source": [
    "### Learning polynomial regression\n",
    "\n",
    "This example shows the learning curve and fit without regularization (high variance)."
   ]
  },
  {
   "cell_type": "code",
   "execution_count": 18,
   "metadata": {},
   "outputs": [
    {
     "name": "stdout",
     "output_type": "stream",
     "text": [
      "Optimization terminated successfully.\n",
      "         Current function value: 0.028891\n",
      "         Iterations: 852\n",
      "         Function evaluations: 1681\n",
      "         Gradient evaluations: 1681\n"
     ]
    }
   ],
   "source": [
    "_lambda = 0\n",
    "args = (X_poly, y, _lambda)\n",
    "initial_theta = np.ones(p+1)\n",
    "result = minimize(linear_reg_cost_function, initial_theta, args=args,\n",
    "                  method='CG', jac=compute_gradient,\n",
    "                  options={'maxiter': 1000, 'disp': True})\n",
    "theta = result.x"
   ]
  },
  {
   "cell_type": "code",
   "execution_count": 19,
   "metadata": {},
   "outputs": [
    {
     "data": {
      "image/png": "[encoded data removed]",
      "text/plain": [
       "<Figure size 432x288 with 1 Axes>"
      ]
     },
     "metadata": {
      "needs_background": "light"
     },
     "output_type": "display_data"
    }
   ],
   "source": [
    "# Plot training data\n",
    "plt.plot(X[:,1], y, 'rx', label='Training data')\n",
    "\n",
    "# Plot polynomial fit\n",
    "space = np.array(np.arange(np.min(X) - 5, np.max(X) + 5, 0.05)).reshape((1912, 1))\n",
    "X_poly_plt = polynomial_features(space, p)\n",
    "X_poly_plt = (X_poly_plt - mu) / sigma\n",
    "X_poly_plt = np.hstack((np.ones((X_poly_plt.shape[0], 1)), X_poly_plt))\n",
    "plt.plot(space, X_poly_plt @ theta, '--', label='Polynomial fit')\n",
    "\n",
    "# Plot\n",
    "plt.legend()\n",
    "plt.xlabel('Change in water leven (x)')\n",
    "plt.ylabel('Water flowing out of the dam (y)')\n",
    "plt.show()"
   ]
  },
  {
   "cell_type": "code",
   "execution_count": 20,
   "metadata": {},
   "outputs": [
    {
     "name": "stdout",
     "output_type": "stream",
     "text": [
      "Optimization terminated successfully.\n",
      "         Current function value: 0.000000\n",
      "         Iterations: 2\n",
      "         Function evaluations: 4\n",
      "         Gradient evaluations: 4\n",
      "Optimization terminated successfully.\n",
      "         Current function value: 0.000000\n",
      "         Iterations: 6\n",
      "         Function evaluations: 9\n",
      "         Gradient evaluations: 9\n",
      "Optimization terminated successfully.\n",
      "         Current function value: 0.000000\n",
      "         Iterations: 15\n",
      "         Function evaluations: 27\n",
      "         Gradient evaluations: 27\n",
      "Optimization terminated successfully.\n",
      "         Current function value: 0.000000\n",
      "         Iterations: 4\n",
      "         Function evaluations: 13\n",
      "         Gradient evaluations: 13\n",
      "Optimization terminated successfully.\n",
      "         Current function value: 0.000000\n",
      "         Iterations: 17\n",
      "         Function evaluations: 35\n",
      "         Gradient evaluations: 35\n",
      "Optimization terminated successfully.\n",
      "         Current function value: 0.000000\n",
      "         Iterations: 90\n",
      "         Function evaluations: 170\n",
      "         Gradient evaluations: 170\n",
      "Optimization terminated successfully.\n",
      "         Current function value: 0.000000\n",
      "         Iterations: 70\n",
      "         Function evaluations: 138\n",
      "         Gradient evaluations: 138\n",
      "Warning: Maximum number of iterations has been exceeded.\n",
      "         Current function value: 0.000039\n",
      "         Iterations: 400\n",
      "         Function evaluations: 754\n",
      "         Gradient evaluations: 754\n",
      "Warning: Maximum number of iterations has been exceeded.\n",
      "         Current function value: 0.003119\n",
      "         Iterations: 400\n",
      "         Function evaluations: 707\n",
      "         Gradient evaluations: 707\n",
      "Warning: Maximum number of iterations has been exceeded.\n",
      "         Current function value: 0.035132\n",
      "         Iterations: 400\n",
      "         Function evaluations: 743\n",
      "         Gradient evaluations: 743\n",
      "Warning: Maximum number of iterations has been exceeded.\n",
      "         Current function value: 0.039748\n",
      "         Iterations: 400\n",
      "         Function evaluations: 730\n",
      "         Gradient evaluations: 730\n",
      "Warning: Maximum number of iterations has been exceeded.\n",
      "         Current function value: 0.029314\n",
      "         Iterations: 400\n",
      "         Function evaluations: 807\n",
      "         Gradient evaluations: 807\n"
     ]
    },
    {
     "data": {
      "text/plain": [
       "<matplotlib.legend.Legend at 0x11aff3c5bb0>"
      ]
     },
     "execution_count": 20,
     "metadata": {},
     "output_type": "execute_result"
    },
    {
     "data": {
      "image/png": "[encoded data removed]",
      "text/plain": [
       "<Figure size 432x288 with 1 Axes>"
      ]
     },
     "metadata": {
      "needs_background": "light"
     },
     "output_type": "display_data"
    }
   ],
   "source": [
    "error_train, error_val = learning_curve(X_poly, y, X_val_poly, y, _lambda)\n",
    "plt.plot(error_train, label='train')\n",
    "plt.plot(error_val, label='validation')\n",
    "plt.title('Learning curve with no regularization')\n",
    "plt.legend()"
   ]
  },
  {
   "cell_type": "markdown",
   "metadata": {},
   "source": [
    "### Adjusting the regularization parameter"
   ]
  },
  {
   "cell_type": "code",
   "execution_count": 21,
   "metadata": {},
   "outputs": [],
   "source": [
    "def plot_regularization(_lambda):\n",
    "    \"\"\" Plot the fit and learning curve for a regularization parameter _lambda \"\"\"\n",
    "    \n",
    "    # 1. Fit\n",
    "    \n",
    "    # Find theta\n",
    "    args = (X_poly, y, _lambda)\n",
    "    initial_theta = np.ones(p+1)\n",
    "    result = minimize(linear_reg_cost_function, initial_theta, args=args,\n",
    "                      method='CG', jac=compute_gradient,\n",
    "                      options={'maxiter': 1000, 'disp': False})\n",
    "    theta = result.x\n",
    "    \n",
    "    # Plot training data\n",
    "    plt.plot(X[:,1], y, 'rx', label='Training data')\n",
    "\n",
    "    # Plot polynomial fit\n",
    "    space = np.array(np.arange(np.min(X) - 5, np.max(X) + 5, 0.05)).reshape((1912, 1))\n",
    "    X_poly_plt = polynomial_features(space, p)\n",
    "    X_poly_plt = (X_poly_plt - mu) / sigma\n",
    "    X_poly_plt = np.hstack((np.ones((X_poly_plt.shape[0], 1)), X_poly_plt))\n",
    "    plt.plot(space, X_poly_plt @ theta, '--', label='Polynomial fit')\n",
    "\n",
    "    # Plot\n",
    "    plt.legend()\n",
    "    plt.xlabel('Change in water leven (x)')\n",
    "    plt.ylabel('Water flowing out of the dam (y)')\n",
    "    plt.show()\n",
    "    \n",
    "    \n",
    "    # 2. Learning curve\n",
    "    \n",
    "    # Plot learning curve\n",
    "    error_train, error_val = learning_curve(X_poly, y, X_val_poly, y, _lambda)\n",
    "    plt.plot(error_train, label='train')\n",
    "    plt.plot(error_val, label='validation')\n",
    "    plt.title('Learning curve with no regularization')\n",
    "    plt.legend()\n",
    "    \n",
    "    plt.show()"
   ]
  },
  {
   "cell_type": "code",
   "execution_count": 22,
   "metadata": {},
   "outputs": [
    {
     "data": {
      "image/png": "[encoded data removed]",
      "text/plain": [
       "<Figure size 432x288 with 1 Axes>"
      ]
     },
     "metadata": {
      "needs_background": "light"
     },
     "output_type": "display_data"
    },
    {
     "name": "stdout",
     "output_type": "stream",
     "text": [
      "Optimization terminated successfully.\n",
      "         Current function value: 0.000000\n",
      "         Iterations: 4\n",
      "         Function evaluations: 8\n",
      "         Gradient evaluations: 8\n",
      "Optimization terminated successfully.\n",
      "         Current function value: 0.070327\n",
      "         Iterations: 20\n",
      "         Function evaluations: 29\n",
      "         Gradient evaluations: 29\n",
      "Optimization terminated successfully.\n",
      "         Current function value: 17.182727\n",
      "         Iterations: 22\n",
      "         Function evaluations: 37\n",
      "         Gradient evaluations: 37\n",
      "Optimization terminated successfully.\n",
      "         Current function value: 13.476899\n",
      "         Iterations: 17\n",
      "         Function evaluations: 34\n",
      "         Gradient evaluations: 34\n",
      "Optimization terminated successfully.\n",
      "         Current function value: 10.781524\n",
      "         Iterations: 8\n",
      "         Function evaluations: 18\n",
      "         Gradient evaluations: 18\n",
      "Optimization terminated successfully.\n",
      "         Current function value: 9.347014\n",
      "         Iterations: 32\n",
      "         Function evaluations: 53\n",
      "         Gradient evaluations: 53\n",
      "Optimization terminated successfully.\n",
      "         Current function value: 8.754387\n",
      "         Iterations: 32\n",
      "         Function evaluations: 57\n",
      "         Gradient evaluations: 57\n",
      "Optimization terminated successfully.\n",
      "         Current function value: 7.682189\n",
      "         Iterations: 34\n",
      "         Function evaluations: 57\n",
      "         Gradient evaluations: 57\n",
      "Optimization terminated successfully.\n",
      "         Current function value: 7.277291\n",
      "         Iterations: 36\n",
      "         Function evaluations: 62\n",
      "         Gradient evaluations: 62\n",
      "Optimization terminated successfully.\n",
      "         Current function value: 6.592031\n",
      "         Iterations: 31\n",
      "         Function evaluations: 58\n",
      "         Gradient evaluations: 58\n",
      "Optimization terminated successfully.\n",
      "         Current function value: 5.994056\n",
      "         Iterations: 17\n",
      "         Function evaluations: 34\n",
      "         Gradient evaluations: 34\n",
      "Optimization terminated successfully.\n",
      "         Current function value: 6.830463\n",
      "         Iterations: 34\n",
      "         Function evaluations: 62\n",
      "         Gradient evaluations: 62\n"
     ]
    },
    {
     "data": {
      "image/png": "[encoded data removed]",
      "text/plain": [
       "<Figure size 432x288 with 1 Axes>"
      ]
     },
     "metadata": {
      "needs_background": "light"
     },
     "output_type": "display_data"
    }
   ],
   "source": [
    "# Good regularization\n",
    "plot_regularization(1)"
   ]
  },
  {
   "cell_type": "code",
   "execution_count": 24,
   "metadata": {},
   "outputs": [
    {
     "data": {
      "image/png": "[encoded data removed]",
      "text/plain": [
       "<Figure size 432x288 with 1 Axes>"
      ]
     },
     "metadata": {
      "needs_background": "light"
     },
     "output_type": "display_data"
    },
    {
     "name": "stdout",
     "output_type": "stream",
     "text": [
      "Optimization terminated successfully.\n",
      "         Current function value: 0.000000\n",
      "         Iterations: 6\n",
      "         Function evaluations: 16\n",
      "         Gradient evaluations: 16\n",
      "Optimization terminated successfully.\n",
      "         Current function value: 0.114717\n",
      "         Iterations: 3\n",
      "         Function evaluations: 8\n",
      "         Gradient evaluations: 8\n",
      "Optimization terminated successfully.\n",
      "         Current function value: 112.255156\n",
      "         Iterations: 13\n",
      "         Function evaluations: 26\n",
      "         Gradient evaluations: 26\n",
      "Optimization terminated successfully.\n",
      "         Current function value: 131.638608\n",
      "         Iterations: 4\n",
      "         Function evaluations: 9\n",
      "         Gradient evaluations: 9\n",
      "Optimization terminated successfully.\n",
      "         Current function value: 116.062526\n",
      "         Iterations: 8\n",
      "         Function evaluations: 16\n",
      "         Gradient evaluations: 16\n",
      "Optimization terminated successfully.\n",
      "         Current function value: 108.778507\n",
      "         Iterations: 8\n",
      "         Function evaluations: 16\n",
      "         Gradient evaluations: 16\n",
      "Optimization terminated successfully.\n",
      "         Current function value: 93.297101\n",
      "         Iterations: 8\n",
      "         Function evaluations: 15\n",
      "         Gradient evaluations: 15\n",
      "Optimization terminated successfully.\n",
      "         Current function value: 86.349367\n",
      "         Iterations: 13\n",
      "         Function evaluations: 23\n",
      "         Gradient evaluations: 23\n",
      "Optimization terminated successfully.\n",
      "         Current function value: 80.206754\n",
      "         Iterations: 15\n",
      "         Function evaluations: 27\n",
      "         Gradient evaluations: 27\n",
      "Optimization terminated successfully.\n",
      "         Current function value: 73.060272\n",
      "         Iterations: 8\n",
      "         Function evaluations: 15\n",
      "         Gradient evaluations: 15\n",
      "Optimization terminated successfully.\n",
      "         Current function value: 66.883255\n",
      "         Iterations: 8\n",
      "         Function evaluations: 15\n",
      "         Gradient evaluations: 15\n",
      "Optimization terminated successfully.\n",
      "         Current function value: 65.950955\n",
      "         Iterations: 9\n",
      "         Function evaluations: 17\n",
      "         Gradient evaluations: 17\n"
     ]
    },
    {
     "data": {
      "image/png": "[encoded data removed]",
      "text/plain": [
       "<Figure size 432x288 with 1 Axes>"
      ]
     },
     "metadata": {
      "needs_background": "light"
     },
     "output_type": "display_data"
    }
   ],
   "source": [
    "# (Way) too much regularization\n",
    "plot_regularization(100)"
   ]
  },
  {
   "cell_type": "code",
   "execution_count": null,
   "metadata": {},
   "outputs": [],
   "source": []
  }
 ],
 "metadata": {
  "kernelspec": {
   "display_name": "Python 3",
   "language": "python",
   "name": "python3"
  },
  "language_info": {
   "codemirror_mode": {
    "name": "ipython",
    "version": 3
   },
   "file_extension": ".py",
   "mimetype": "text/x-python",
   "name": "python",
   "nbconvert_exporter": "python",
   "pygments_lexer": "ipython3",
   "version": "3.9.1"
  }
 },
 "nbformat": 4,
 "nbformat_minor": 2
}
