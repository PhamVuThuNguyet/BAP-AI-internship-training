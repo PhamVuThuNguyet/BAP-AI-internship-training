{
 "cells": [
  {
   "cell_type": "code",
   "execution_count": 1,
   "id": "b6929c3b",
   "metadata": {},
   "outputs": [],
   "source": [
    "import cv2\n",
    "import numpy as np"
   ]
  },
  {
   "cell_type": "code",
   "execution_count": 2,
   "id": "d8cc8fbc",
   "metadata": {},
   "outputs": [
    {
     "data": {
      "text/plain": [
       "True"
      ]
     },
     "execution_count": 2,
     "metadata": {},
     "output_type": "execute_result"
    }
   ],
   "source": [
    "img = cv2.imread(\"img/0.png\") \n",
    "gray = cv2.cvtColor(img, cv2.COLOR_BGR2GRAY) \n",
    "\n",
    "ret, thresh1 = cv2.threshold(gray, 100, 255, cv2.THRESH_BINARY_INV) \n",
    "\n",
    "kernel = np.ones((15,15), np.uint8)\n",
    "morph = cv2.morphologyEx(thresh1, cv2.MORPH_CLOSE, kernel)\n",
    "morph = cv2.morphologyEx(morph, cv2.MORPH_OPEN, kernel)\n",
    "\n",
    "kernel = np.ones((8,8), np.uint8)\n",
    "morph = cv2.morphologyEx(morph, cv2.MORPH_ERODE, kernel)\n",
    "\n",
    "\n",
    "contours, hierarchy = cv2.findContours(morph, cv2.RETR_EXTERNAL, \n",
    "                                                cv2.CHAIN_APPROX_NONE) \n",
    "\n",
    "for cnt in contours: \n",
    "    x, y, w, h = cv2.boundingRect(cnt) \n",
    "    \n",
    "    # Drawing a rectangle on copied image \n",
    "    rect = cv2.rectangle(img, (x, y), (x + w, y + h), (0, 255, 0), 3) \n",
    "    \n",
    "cv2.imwrite('img/drawed.png', rect)"
   ]
  },
  {
   "cell_type": "code",
   "execution_count": 3,
   "id": "f32f4988",
   "metadata": {},
   "outputs": [
    {
     "data": {
      "text/plain": [
       "-1"
      ]
     },
     "execution_count": 3,
     "metadata": {},
     "output_type": "execute_result"
    }
   ],
   "source": [
    "img = cv2.imread('img/drawed.png')\n",
    "cv2.imshow(\"\", img)\n",
    "cv2.waitKey()"
   ]
  },
  {
   "cell_type": "code",
   "execution_count": null,
   "id": "2cefe526",
   "metadata": {},
   "outputs": [],
   "source": []
  }
 ],
 "metadata": {
  "kernelspec": {
   "display_name": "Python 3",
   "language": "python",
   "name": "python3"
  },
  "language_info": {
   "codemirror_mode": {
    "name": "ipython",
    "version": 3
   },
   "file_extension": ".py",
   "mimetype": "text/x-python",
   "name": "python",
   "nbconvert_exporter": "python",
   "pygments_lexer": "ipython3",
   "version": "3.9.6"
  }
 },
 "nbformat": 4,
 "nbformat_minor": 5
}
