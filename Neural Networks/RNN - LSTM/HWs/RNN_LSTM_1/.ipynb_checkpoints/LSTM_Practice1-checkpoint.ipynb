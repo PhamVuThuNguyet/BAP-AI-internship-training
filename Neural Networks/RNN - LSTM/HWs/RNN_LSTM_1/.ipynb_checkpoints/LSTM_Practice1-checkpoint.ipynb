{
 "cells": [
  {
   "cell_type": "markdown",
   "metadata": {
    "id": "NM5s0GL_v7W5"
   },
   "source": [
    "**Connect with google drive**"
   ]
  },
  {
   "cell_type": "markdown",
   "metadata": {
    "id": "GQZKZP8QEbvU"
   },
   "source": [
    "**Step_1: Get the data of 20 companies from yahoo web and store in google drive**"
   ]
  },
  {
   "cell_type": "code",
   "execution_count": 1,
   "metadata": {},
   "outputs": [],
   "source": [
    "from pandas_datareader import data as pdr\n",
    "from datetime import date\n",
    "import yfinance as yf\n",
    "import pandas as pd\n",
    "import datetime"
   ]
  },
  {
   "cell_type": "code",
   "execution_count": 32,
   "metadata": {
    "colab": {
     "base_uri": "https://localhost:8080/"
    },
    "executionInfo": {
     "elapsed": 13137,
     "status": "ok",
     "timestamp": 1620449592429,
     "user": {
      "displayName": "黎美英",
      "photoUrl": "",
      "userId": "17348745847824899947"
     },
     "user_tz": -480
    },
    "id": "pE7Sw87NBvrZ",
    "outputId": "44090dae-d474-4eba-85b3-419f275d19b8"
   },
   "outputs": [
    {
     "name": "stdout",
     "output_type": "stream",
     "text": [
      "Today is 2021-07-17 16:25:48.213439\n",
      "INTC\n",
      "[*********************100%***********************]  1 of 1 completed\n",
      "AMD\n",
      "[*********************100%***********************]  1 of 1 completed\n",
      "CSCO\n",
      "[*********************100%***********************]  1 of 1 completed\n",
      "AAPL\n",
      "[*********************100%***********************]  1 of 1 completed\n",
      "MU\n",
      "[*********************100%***********************]  1 of 1 completed\n",
      "NVDA\n",
      "[*********************100%***********************]  1 of 1 completed\n",
      "QCOM\n",
      "[*********************100%***********************]  1 of 1 completed\n",
      "AMZN\n",
      "[*********************100%***********************]  1 of 1 completed\n",
      "NFLX\n",
      "[*********************100%***********************]  1 of 1 completed\n",
      "FB\n",
      "[*********************100%***********************]  1 of 1 completed\n",
      "GOOG\n",
      "[*********************100%***********************]  1 of 1 completed\n",
      "BABA\n",
      "[*********************100%***********************]  1 of 1 completed\n",
      "EBAY\n",
      "[*********************100%***********************]  1 of 1 completed\n",
      "IBM\n",
      "[*********************100%***********************]  1 of 1 completed\n",
      "XLNX\n",
      "[*********************100%***********************]  1 of 1 completed\n",
      "TXN\n",
      "[*********************100%***********************]  1 of 1 completed\n",
      "NOK\n",
      "[*********************100%***********************]  1 of 1 completed\n",
      "TSLA\n",
      "[*********************100%***********************]  1 of 1 completed\n",
      "MSFT\n",
      "[*********************100%***********************]  1 of 1 completed\n",
      "SNPS\n",
      "[*********************100%***********************]  1 of 1 completed\n"
     ]
    }
   ],
   "source": [
    "\n",
    "yf.pdr_override()\n",
    "\n",
    "\n",
    "#datetime is a Python module\n",
    "\n",
    "\n",
    "# Set the start and end date\n",
    "start_date = '2017-01-01'\n",
    "\n",
    "# Get data to today\n",
    "today = datetime.datetime.today()\n",
    "\n",
    "# Set the list including 20'str' acronym of 20 companies\n",
    "list = ['INTC','AMD', 'CSCO', 'AAPL', 'MU', 'NVDA', 'QCOM', 'AMZN', 'NFLX', 'FB', 'GOOG', 'BABA', 'EBAY', 'IBM', 'XLNX', 'TXN', 'NOK', 'TSLA', 'MSFT', 'SNPS']\n",
    "\n",
    "# Get the data\n",
    "files=[]\n",
    "\n",
    "# Create a data folder in my google drive.\n",
    "def SaveData(df, filename):\n",
    "  df.to_csv('Dataset/'+filename+'.csv')\n",
    "\n",
    "def GetData(acronym):\n",
    "  print (acronym)\n",
    "  data = pdr.get_data_yahoo(acronym, start = start_date, end = today )\n",
    "  dataname= acronym\n",
    "  files.append(dataname)\n",
    "  SaveData(data, dataname)\n",
    "\n",
    "print(\"Today is \" + str(today))\n",
    "#Get data, and save that data as \"str\".csv\n",
    "for i in list:\n",
    "  GetData(i)\n",
    "  "
   ]
  },
  {
   "cell_type": "markdown",
   "metadata": {
    "id": "guZIhj8hKKD0"
   },
   "source": [
    "### Requirement: \n",
    "30 ngày liên tiếp là input đầu vào của cột Adj => Predict ra cho ngày 31 "
   ]
  },
  {
   "cell_type": "code",
   "execution_count": 27,
   "metadata": {},
   "outputs": [
    {
     "data": {
      "text/html": [
       "<div>\n",
       "<style scoped>\n",
       "    .dataframe tbody tr th:only-of-type {\n",
       "        vertical-align: middle;\n",
       "    }\n",
       "\n",
       "    .dataframe tbody tr th {\n",
       "        vertical-align: top;\n",
       "    }\n",
       "\n",
       "    .dataframe thead th {\n",
       "        text-align: right;\n",
       "    }\n",
       "</style>\n",
       "<table border=\"1\" class=\"dataframe\">\n",
       "  <thead>\n",
       "    <tr style=\"text-align: right;\">\n",
       "      <th></th>\n",
       "      <th>Date</th>\n",
       "      <th>Open</th>\n",
       "      <th>High</th>\n",
       "      <th>Low</th>\n",
       "      <th>Close</th>\n",
       "      <th>Adj Close</th>\n",
       "      <th>Volume</th>\n",
       "    </tr>\n",
       "  </thead>\n",
       "  <tbody>\n",
       "    <tr>\n",
       "      <th>0</th>\n",
       "      <td>2017-01-03</td>\n",
       "      <td>28.950001</td>\n",
       "      <td>29.082500</td>\n",
       "      <td>28.690001</td>\n",
       "      <td>29.037500</td>\n",
       "      <td>27.413372</td>\n",
       "      <td>115127600</td>\n",
       "    </tr>\n",
       "    <tr>\n",
       "      <th>1</th>\n",
       "      <td>2017-01-04</td>\n",
       "      <td>28.962500</td>\n",
       "      <td>29.127501</td>\n",
       "      <td>28.937500</td>\n",
       "      <td>29.004999</td>\n",
       "      <td>27.382690</td>\n",
       "      <td>84472400</td>\n",
       "    </tr>\n",
       "    <tr>\n",
       "      <th>2</th>\n",
       "      <td>2017-01-05</td>\n",
       "      <td>28.980000</td>\n",
       "      <td>29.215000</td>\n",
       "      <td>28.952499</td>\n",
       "      <td>29.152500</td>\n",
       "      <td>27.521944</td>\n",
       "      <td>88774400</td>\n",
       "    </tr>\n",
       "    <tr>\n",
       "      <th>3</th>\n",
       "      <td>2017-01-06</td>\n",
       "      <td>29.195000</td>\n",
       "      <td>29.540001</td>\n",
       "      <td>29.117500</td>\n",
       "      <td>29.477501</td>\n",
       "      <td>27.828764</td>\n",
       "      <td>127007600</td>\n",
       "    </tr>\n",
       "    <tr>\n",
       "      <th>4</th>\n",
       "      <td>2017-01-09</td>\n",
       "      <td>29.487499</td>\n",
       "      <td>29.857500</td>\n",
       "      <td>29.485001</td>\n",
       "      <td>29.747499</td>\n",
       "      <td>28.083660</td>\n",
       "      <td>134247600</td>\n",
       "    </tr>\n",
       "    <tr>\n",
       "      <th>...</th>\n",
       "      <td>...</td>\n",
       "      <td>...</td>\n",
       "      <td>...</td>\n",
       "      <td>...</td>\n",
       "      <td>...</td>\n",
       "      <td>...</td>\n",
       "      <td>...</td>\n",
       "    </tr>\n",
       "    <tr>\n",
       "      <th>1137</th>\n",
       "      <td>2021-07-12</td>\n",
       "      <td>146.210007</td>\n",
       "      <td>146.320007</td>\n",
       "      <td>144.000000</td>\n",
       "      <td>144.500000</td>\n",
       "      <td>144.500000</td>\n",
       "      <td>76299700</td>\n",
       "    </tr>\n",
       "    <tr>\n",
       "      <th>1138</th>\n",
       "      <td>2021-07-13</td>\n",
       "      <td>144.029999</td>\n",
       "      <td>147.460007</td>\n",
       "      <td>143.630005</td>\n",
       "      <td>145.639999</td>\n",
       "      <td>145.639999</td>\n",
       "      <td>100698900</td>\n",
       "    </tr>\n",
       "    <tr>\n",
       "      <th>1139</th>\n",
       "      <td>2021-07-14</td>\n",
       "      <td>148.100006</td>\n",
       "      <td>149.570007</td>\n",
       "      <td>147.679993</td>\n",
       "      <td>149.149994</td>\n",
       "      <td>149.149994</td>\n",
       "      <td>127050800</td>\n",
       "    </tr>\n",
       "    <tr>\n",
       "      <th>1140</th>\n",
       "      <td>2021-07-15</td>\n",
       "      <td>149.240005</td>\n",
       "      <td>150.000000</td>\n",
       "      <td>147.089996</td>\n",
       "      <td>148.479996</td>\n",
       "      <td>148.479996</td>\n",
       "      <td>106820300</td>\n",
       "    </tr>\n",
       "    <tr>\n",
       "      <th>1141</th>\n",
       "      <td>2021-07-16</td>\n",
       "      <td>148.460007</td>\n",
       "      <td>149.759995</td>\n",
       "      <td>145.880005</td>\n",
       "      <td>146.389999</td>\n",
       "      <td>146.389999</td>\n",
       "      <td>93100300</td>\n",
       "    </tr>\n",
       "  </tbody>\n",
       "</table>\n",
       "<p>1142 rows × 7 columns</p>\n",
       "</div>"
      ],
      "text/plain": [
       "            Date        Open        High         Low       Close   Adj Close  \\\n",
       "0     2017-01-03   28.950001   29.082500   28.690001   29.037500   27.413372   \n",
       "1     2017-01-04   28.962500   29.127501   28.937500   29.004999   27.382690   \n",
       "2     2017-01-05   28.980000   29.215000   28.952499   29.152500   27.521944   \n",
       "3     2017-01-06   29.195000   29.540001   29.117500   29.477501   27.828764   \n",
       "4     2017-01-09   29.487499   29.857500   29.485001   29.747499   28.083660   \n",
       "...          ...         ...         ...         ...         ...         ...   \n",
       "1137  2021-07-12  146.210007  146.320007  144.000000  144.500000  144.500000   \n",
       "1138  2021-07-13  144.029999  147.460007  143.630005  145.639999  145.639999   \n",
       "1139  2021-07-14  148.100006  149.570007  147.679993  149.149994  149.149994   \n",
       "1140  2021-07-15  149.240005  150.000000  147.089996  148.479996  148.479996   \n",
       "1141  2021-07-16  148.460007  149.759995  145.880005  146.389999  146.389999   \n",
       "\n",
       "         Volume  \n",
       "0     115127600  \n",
       "1      84472400  \n",
       "2      88774400  \n",
       "3     127007600  \n",
       "4     134247600  \n",
       "...         ...  \n",
       "1137   76299700  \n",
       "1138  100698900  \n",
       "1139  127050800  \n",
       "1140  106820300  \n",
       "1141   93100300  \n",
       "\n",
       "[1142 rows x 7 columns]"
      ]
     },
     "execution_count": 27,
     "metadata": {},
     "output_type": "execute_result"
    }
   ],
   "source": [
    "df = pd.read_csv(\"Dataset/AAPL.csv\")\n",
    "df"
   ]
  },
  {
   "cell_type": "code",
   "execution_count": 28,
   "metadata": {},
   "outputs": [
    {
     "data": {
      "text/plain": [
       "0        27.413372\n",
       "1        27.382690\n",
       "2        27.521944\n",
       "3        27.828764\n",
       "4        28.083660\n",
       "           ...    \n",
       "1137    144.500000\n",
       "1138    145.639999\n",
       "1139    149.149994\n",
       "1140    148.479996\n",
       "1141    146.389999\n",
       "Name: Adj Close, Length: 1142, dtype: float64"
      ]
     },
     "execution_count": 28,
     "metadata": {},
     "output_type": "execute_result"
    }
   ],
   "source": [
    "df = df.reset_index()['Adj Close']\n",
    "df"
   ]
  },
  {
   "cell_type": "code",
   "execution_count": 29,
   "metadata": {},
   "outputs": [],
   "source": [
    "# LSTM are sensitive to the scale of the data. so we apply MinMax scaler\n",
    "from sklearn.preprocessing import MinMaxScaler\n",
    "import numpy as np\n",
    "scaler = MinMaxScaler(feature_range=(0, 1))\n",
    "df = scaler.fit_transform(np.array(df).reshape(-1,1))"
   ]
  },
  {
   "cell_type": "code",
   "execution_count": 30,
   "metadata": {},
   "outputs": [
    {
     "name": "stdout",
     "output_type": "stream",
     "text": [
      "[[2.51969201e-04]\n",
      " [0.00000000e+00]\n",
      " [1.14360434e-03]\n",
      " ...\n",
      " [1.00000000e+00]\n",
      " [9.94497717e-01]\n",
      " [9.77333862e-01]]\n"
     ]
    }
   ],
   "source": [
    "print(df)"
   ]
  },
  {
   "cell_type": "code",
   "execution_count": 31,
   "metadata": {},
   "outputs": [
    {
     "data": {
      "text/plain": [
       "(799, 343)"
      ]
     },
     "execution_count": 31,
     "metadata": {},
     "output_type": "execute_result"
    }
   ],
   "source": [
    "#splitting dataset into train and test split\n",
    "training_size = int(len(df)*0.7)\n",
    "test_size = len(df)-training_size\n",
    "train_data, test_data = df[0:training_size, :], df[training_size:len(df), :1]\n",
    "training_size, test_size"
   ]
  },
  {
   "cell_type": "code",
   "execution_count": 32,
   "metadata": {},
   "outputs": [],
   "source": [
    "# convert an array of values into a dataset matrix\n",
    "def create_dataset(dataset, time_step=1):\n",
    "    dataX, dataY = [], []\n",
    "    for i in range(len(dataset) - time_step - 1):\n",
    "        a = dataset[i:(i+time_step), 0]\n",
    "        dataX.append(a)\n",
    "        dataY.append(dataset[i + time_step, 0])\n",
    "    return np.array(dataX), np.array(dataY)"
   ]
  },
  {
   "cell_type": "code",
   "execution_count": 33,
   "metadata": {},
   "outputs": [],
   "source": [
    "time_step = 30\n",
    "X_train, y_train = create_dataset(train_data, time_step)\n",
    "X_test, ytest = create_dataset(test_data, time_step)"
   ]
  },
  {
   "cell_type": "code",
   "execution_count": 34,
   "metadata": {},
   "outputs": [
    {
     "data": {
      "text/plain": [
       "(768, 30)"
      ]
     },
     "execution_count": 34,
     "metadata": {},
     "output_type": "execute_result"
    }
   ],
   "source": [
    "X_train.shape"
   ]
  },
  {
   "cell_type": "code",
   "execution_count": 35,
   "metadata": {},
   "outputs": [],
   "source": [
    "# reshape input to be [samples, time steps, features] which is required for LSTM\n",
    "X_train = X_train.reshape(X_train.shape[0], X_train.shape[1], 1)\n",
    "X_test = X_test.reshape(X_test.shape[0], X_test.shape[1], 1)"
   ]
  },
  {
   "cell_type": "code",
   "execution_count": 36,
   "metadata": {},
   "outputs": [
    {
     "data": {
      "text/plain": [
       "(768, 30, 1)"
      ]
     },
     "execution_count": 36,
     "metadata": {},
     "output_type": "execute_result"
    }
   ],
   "source": [
    "X_train.shape"
   ]
  },
  {
   "cell_type": "markdown",
   "metadata": {
    "id": "jTFi7KBJJril"
   },
   "source": [
    "**Step_2: Working with LSTM model**"
   ]
  },
  {
   "cell_type": "code",
   "execution_count": 37,
   "metadata": {},
   "outputs": [],
   "source": [
    "from tensorflow.keras.models import Sequential\n",
    "from tensorflow.keras.layers import Dense\n",
    "from tensorflow.keras.layers import LSTM\n",
    "import numpy as np\n",
    "import tensorflow as tf"
   ]
  },
  {
   "cell_type": "code",
   "execution_count": 38,
   "metadata": {},
   "outputs": [],
   "source": [
    "model = Sequential()\n",
    "model.add(LSTM(15, return_sequences=True,input_shape=(30,1)))\n",
    "model.add(LSTM(15, return_sequences=True))\n",
    "model.add(LSTM(15))\n",
    "model.add(Dense(1))\n",
    "model.compile(loss='mean_squared_error', optimizer='adam')"
   ]
  },
  {
   "cell_type": "code",
   "execution_count": 39,
   "metadata": {},
   "outputs": [
    {
     "name": "stdout",
     "output_type": "stream",
     "text": [
      "Model: \"sequential_1\"\n",
      "_________________________________________________________________\n",
      "Layer (type)                 Output Shape              Param #   \n",
      "=================================================================\n",
      "lstm_3 (LSTM)                (None, 30, 15)            1020      \n",
      "_________________________________________________________________\n",
      "lstm_4 (LSTM)                (None, 30, 15)            1860      \n",
      "_________________________________________________________________\n",
      "lstm_5 (LSTM)                (None, 15)                1860      \n",
      "_________________________________________________________________\n",
      "dense_1 (Dense)              (None, 1)                 16        \n",
      "=================================================================\n",
      "Total params: 4,756\n",
      "Trainable params: 4,756\n",
      "Non-trainable params: 0\n",
      "_________________________________________________________________\n"
     ]
    }
   ],
   "source": [
    "model.summary()"
   ]
  },
  {
   "cell_type": "code",
   "execution_count": 40,
   "metadata": {},
   "outputs": [
    {
     "name": "stdout",
     "output_type": "stream",
     "text": [
      "Epoch 1/200\n",
      "12/12 [==============================] - 4s 96ms/step - loss: 0.0181 - val_loss: 0.1986\n",
      "Epoch 2/200\n",
      "12/12 [==============================] - 0s 21ms/step - loss: 0.0052 - val_loss: 0.1609\n",
      "Epoch 3/200\n",
      "12/12 [==============================] - 0s 21ms/step - loss: 0.0034 - val_loss: 0.1041\n",
      "Epoch 4/200\n",
      "12/12 [==============================] - 0s 20ms/step - loss: 0.0016 - val_loss: 0.0231\n",
      "Epoch 5/200\n",
      "12/12 [==============================] - 0s 22ms/step - loss: 5.7014e-04 - val_loss: 0.0037\n",
      "Epoch 6/200\n",
      "12/12 [==============================] - 0s 19ms/step - loss: 5.7270e-04 - val_loss: 0.0032\n",
      "Epoch 7/200\n",
      "12/12 [==============================] - 0s 22ms/step - loss: 4.5046e-04 - val_loss: 0.0071\n",
      "Epoch 8/200\n",
      "12/12 [==============================] - 0s 22ms/step - loss: 4.4922e-04 - val_loss: 0.0058\n",
      "Epoch 9/200\n",
      "12/12 [==============================] - 0s 21ms/step - loss: 4.5654e-04 - val_loss: 0.0050\n",
      "Epoch 10/200\n",
      "12/12 [==============================] - 0s 20ms/step - loss: 4.4909e-04 - val_loss: 0.0062\n",
      "Epoch 11/200\n",
      "12/12 [==============================] - 0s 23ms/step - loss: 4.2795e-04 - val_loss: 0.0065\n",
      "Epoch 12/200\n",
      "12/12 [==============================] - 0s 21ms/step - loss: 4.3900e-04 - val_loss: 0.0074\n",
      "Epoch 13/200\n",
      "12/12 [==============================] - 0s 19ms/step - loss: 4.3075e-04 - val_loss: 0.0064\n",
      "Epoch 14/200\n",
      "12/12 [==============================] - 0s 21ms/step - loss: 4.2436e-04 - val_loss: 0.0078\n",
      "Epoch 15/200\n",
      "12/12 [==============================] - 0s 21ms/step - loss: 4.1212e-04 - val_loss: 0.0089\n",
      "Epoch 16/200\n",
      "12/12 [==============================] - 0s 22ms/step - loss: 4.0909e-04 - val_loss: 0.0101\n",
      "Epoch 17/200\n",
      "12/12 [==============================] - 0s 20ms/step - loss: 4.1566e-04 - val_loss: 0.0116\n",
      "Epoch 18/200\n",
      "12/12 [==============================] - 0s 21ms/step - loss: 4.1986e-04 - val_loss: 0.0115\n",
      "Epoch 19/200\n",
      "12/12 [==============================] - 0s 21ms/step - loss: 4.1128e-04 - val_loss: 0.0129\n",
      "Epoch 20/200\n",
      "12/12 [==============================] - 0s 22ms/step - loss: 4.2327e-04 - val_loss: 0.0135\n",
      "Epoch 21/200\n",
      "12/12 [==============================] - 0s 21ms/step - loss: 4.1830e-04 - val_loss: 0.0119\n",
      "Epoch 22/200\n",
      "12/12 [==============================] - 0s 21ms/step - loss: 4.0635e-04 - val_loss: 0.0133\n",
      "Epoch 23/200\n",
      "12/12 [==============================] - 0s 21ms/step - loss: 3.9033e-04 - val_loss: 0.0126\n",
      "Epoch 24/200\n",
      "12/12 [==============================] - 0s 21ms/step - loss: 3.8221e-04 - val_loss: 0.0100\n",
      "Epoch 25/200\n",
      "12/12 [==============================] - 0s 20ms/step - loss: 3.7910e-04 - val_loss: 0.0103\n",
      "Epoch 26/200\n",
      "12/12 [==============================] - 0s 21ms/step - loss: 3.6991e-04 - val_loss: 0.0099\n",
      "Epoch 27/200\n",
      "12/12 [==============================] - 0s 21ms/step - loss: 3.9043e-04 - val_loss: 0.0086\n",
      "Epoch 28/200\n",
      "12/12 [==============================] - 0s 20ms/step - loss: 3.9627e-04 - val_loss: 0.0081\n",
      "Epoch 29/200\n",
      "12/12 [==============================] - 0s 20ms/step - loss: 3.6868e-04 - val_loss: 0.0089\n",
      "Epoch 30/200\n",
      "12/12 [==============================] - 0s 20ms/step - loss: 3.7545e-04 - val_loss: 0.0092\n",
      "Epoch 31/200\n",
      "12/12 [==============================] - 0s 21ms/step - loss: 3.6589e-04 - val_loss: 0.0100\n",
      "Epoch 32/200\n",
      "12/12 [==============================] - 0s 21ms/step - loss: 3.4812e-04 - val_loss: 0.0104\n",
      "Epoch 33/200\n",
      "12/12 [==============================] - 0s 21ms/step - loss: 3.4337e-04 - val_loss: 0.0110\n",
      "Epoch 34/200\n",
      "12/12 [==============================] - 0s 21ms/step - loss: 3.5331e-04 - val_loss: 0.0084\n",
      "Epoch 35/200\n",
      "12/12 [==============================] - 0s 19ms/step - loss: 3.6781e-04 - val_loss: 0.0096\n",
      "Epoch 36/200\n",
      "12/12 [==============================] - 0s 20ms/step - loss: 3.4325e-04 - val_loss: 0.0100\n",
      "Epoch 37/200\n",
      "12/12 [==============================] - 0s 22ms/step - loss: 3.3389e-04 - val_loss: 0.0101\n",
      "Epoch 38/200\n",
      "12/12 [==============================] - 0s 21ms/step - loss: 3.2425e-04 - val_loss: 0.0110\n",
      "Epoch 39/200\n",
      "12/12 [==============================] - 0s 18ms/step - loss: 3.2019e-04 - val_loss: 0.0119\n",
      "Epoch 40/200\n",
      "12/12 [==============================] - 0s 18ms/step - loss: 3.1062e-04 - val_loss: 0.0097\n",
      "Epoch 41/200\n",
      "12/12 [==============================] - 0s 21ms/step - loss: 3.0921e-04 - val_loss: 0.0103\n",
      "Epoch 42/200\n",
      "12/12 [==============================] - 0s 21ms/step - loss: 3.0015e-04 - val_loss: 0.0136\n",
      "Epoch 43/200\n",
      "12/12 [==============================] - 0s 21ms/step - loss: 3.0970e-04 - val_loss: 0.0126\n",
      "Epoch 44/200\n",
      "12/12 [==============================] - 0s 20ms/step - loss: 3.1239e-04 - val_loss: 0.0137\n",
      "Epoch 45/200\n",
      "12/12 [==============================] - 0s 22ms/step - loss: 3.0962e-04 - val_loss: 0.0109\n",
      "Epoch 46/200\n",
      "12/12 [==============================] - 0s 21ms/step - loss: 2.8610e-04 - val_loss: 0.0134\n",
      "Epoch 47/200\n",
      "12/12 [==============================] - 0s 20ms/step - loss: 2.7411e-04 - val_loss: 0.0139\n",
      "Epoch 48/200\n",
      "12/12 [==============================] - 0s 20ms/step - loss: 2.7779e-04 - val_loss: 0.0154\n",
      "Epoch 49/200\n",
      "12/12 [==============================] - 0s 19ms/step - loss: 2.6858e-04 - val_loss: 0.0138\n",
      "Epoch 50/200\n",
      "12/12 [==============================] - 0s 20ms/step - loss: 2.5668e-04 - val_loss: 0.0196\n",
      "Epoch 51/200\n",
      "12/12 [==============================] - 0s 20ms/step - loss: 2.6676e-04 - val_loss: 0.0141\n",
      "Epoch 52/200\n",
      "12/12 [==============================] - 0s 20ms/step - loss: 2.5215e-04 - val_loss: 0.0171\n",
      "Epoch 53/200\n",
      "12/12 [==============================] - 0s 20ms/step - loss: 2.4997e-04 - val_loss: 0.0162\n",
      "Epoch 54/200\n",
      "12/12 [==============================] - 0s 22ms/step - loss: 2.3724e-04 - val_loss: 0.0228\n",
      "Epoch 55/200\n",
      "12/12 [==============================] - 0s 20ms/step - loss: 2.6119e-04 - val_loss: 0.0140\n",
      "Epoch 56/200\n",
      "12/12 [==============================] - 0s 20ms/step - loss: 2.3905e-04 - val_loss: 0.0185\n",
      "Epoch 57/200\n",
      "12/12 [==============================] - 0s 20ms/step - loss: 2.2405e-04 - val_loss: 0.0213\n",
      "Epoch 58/200\n",
      "12/12 [==============================] - 0s 20ms/step - loss: 2.2691e-04 - val_loss: 0.0160\n",
      "Epoch 59/200\n",
      "12/12 [==============================] - 0s 20ms/step - loss: 2.2420e-04 - val_loss: 0.0253\n",
      "Epoch 60/200\n",
      "12/12 [==============================] - 0s 20ms/step - loss: 2.2158e-04 - val_loss: 0.0223\n",
      "Epoch 61/200\n",
      "12/12 [==============================] - 0s 19ms/step - loss: 2.0941e-04 - val_loss: 0.0198\n",
      "Epoch 62/200\n",
      "12/12 [==============================] - 0s 19ms/step - loss: 2.0650e-04 - val_loss: 0.0183\n",
      "Epoch 63/200\n",
      "12/12 [==============================] - 0s 20ms/step - loss: 2.0100e-04 - val_loss: 0.0215\n",
      "Epoch 64/200\n",
      "12/12 [==============================] - 0s 23ms/step - loss: 2.1365e-04 - val_loss: 0.0209\n",
      "Epoch 65/200\n",
      "12/12 [==============================] - 0s 22ms/step - loss: 2.1444e-04 - val_loss: 0.0155\n",
      "Epoch 66/200\n",
      "12/12 [==============================] - 0s 21ms/step - loss: 1.9312e-04 - val_loss: 0.0168\n",
      "Epoch 67/200\n",
      "12/12 [==============================] - 0s 20ms/step - loss: 1.9706e-04 - val_loss: 0.0156\n",
      "Epoch 68/200\n",
      "12/12 [==============================] - 0s 21ms/step - loss: 2.0144e-04 - val_loss: 0.0202\n",
      "Epoch 69/200\n",
      "12/12 [==============================] - 0s 21ms/step - loss: 2.1409e-04 - val_loss: 0.0138\n",
      "Epoch 70/200\n",
      "12/12 [==============================] - 0s 19ms/step - loss: 2.0006e-04 - val_loss: 0.0145\n",
      "Epoch 71/200\n",
      "12/12 [==============================] - 0s 19ms/step - loss: 1.9074e-04 - val_loss: 0.0149\n",
      "Epoch 72/200\n",
      "12/12 [==============================] - 0s 19ms/step - loss: 1.8742e-04 - val_loss: 0.0133\n",
      "Epoch 73/200\n",
      "12/12 [==============================] - 0s 20ms/step - loss: 1.8844e-04 - val_loss: 0.0130\n",
      "Epoch 74/200\n",
      "12/12 [==============================] - 0s 19ms/step - loss: 1.8643e-04 - val_loss: 0.0122\n",
      "Epoch 75/200\n",
      "12/12 [==============================] - 0s 20ms/step - loss: 1.9011e-04 - val_loss: 0.0143\n",
      "Epoch 76/200\n",
      "12/12 [==============================] - 0s 20ms/step - loss: 1.9069e-04 - val_loss: 0.0079\n",
      "Epoch 77/200\n",
      "12/12 [==============================] - 0s 21ms/step - loss: 2.2511e-04 - val_loss: 0.0204\n",
      "Epoch 78/200\n",
      "12/12 [==============================] - 0s 20ms/step - loss: 2.2011e-04 - val_loss: 0.0108\n",
      "Epoch 79/200\n"
     ]
    },
    {
     "name": "stdout",
     "output_type": "stream",
     "text": [
      "12/12 [==============================] - 0s 20ms/step - loss: 1.8250e-04 - val_loss: 0.0081\n",
      "Epoch 80/200\n",
      "12/12 [==============================] - 0s 20ms/step - loss: 1.9921e-04 - val_loss: 0.0127\n",
      "Epoch 81/200\n",
      "12/12 [==============================] - 0s 20ms/step - loss: 1.8196e-04 - val_loss: 0.0130\n",
      "Epoch 82/200\n",
      "12/12 [==============================] - 0s 18ms/step - loss: 1.8722e-04 - val_loss: 0.0126\n",
      "Epoch 83/200\n",
      "12/12 [==============================] - 0s 20ms/step - loss: 2.0459e-04 - val_loss: 0.0156\n",
      "Epoch 84/200\n",
      "12/12 [==============================] - 0s 20ms/step - loss: 1.9976e-04 - val_loss: 0.0104\n",
      "Epoch 85/200\n",
      "12/12 [==============================] - 0s 20ms/step - loss: 1.8702e-04 - val_loss: 0.0145\n",
      "Epoch 86/200\n",
      "12/12 [==============================] - 0s 20ms/step - loss: 1.9587e-04 - val_loss: 0.0099\n",
      "Epoch 87/200\n",
      "12/12 [==============================] - 0s 18ms/step - loss: 1.8787e-04 - val_loss: 0.0143\n",
      "Epoch 88/200\n",
      "12/12 [==============================] - 0s 20ms/step - loss: 1.7844e-04 - val_loss: 0.0094\n",
      "Epoch 89/200\n",
      "12/12 [==============================] - 0s 21ms/step - loss: 1.8745e-04 - val_loss: 0.0140\n",
      "Epoch 90/200\n",
      "12/12 [==============================] - 0s 20ms/step - loss: 1.7876e-04 - val_loss: 0.0162\n",
      "Epoch 91/200\n",
      "12/12 [==============================] - 0s 20ms/step - loss: 1.8139e-04 - val_loss: 0.0077\n",
      "Epoch 92/200\n",
      "12/12 [==============================] - 0s 21ms/step - loss: 1.8237e-04 - val_loss: 0.0135\n",
      "Epoch 93/200\n",
      "12/12 [==============================] - 0s 20ms/step - loss: 1.7755e-04 - val_loss: 0.0092\n",
      "Epoch 94/200\n",
      "12/12 [==============================] - 0s 20ms/step - loss: 1.7717e-04 - val_loss: 0.0113\n",
      "Epoch 95/200\n",
      "12/12 [==============================] - 0s 20ms/step - loss: 1.7193e-04 - val_loss: 0.0137\n",
      "Epoch 96/200\n",
      "12/12 [==============================] - 0s 20ms/step - loss: 1.7330e-04 - val_loss: 0.0120\n",
      "Epoch 97/200\n",
      "12/12 [==============================] - 0s 21ms/step - loss: 1.7206e-04 - val_loss: 0.0131\n",
      "Epoch 98/200\n",
      "12/12 [==============================] - 0s 21ms/step - loss: 1.7394e-04 - val_loss: 0.0119\n",
      "Epoch 99/200\n",
      "12/12 [==============================] - 0s 19ms/step - loss: 1.7764e-04 - val_loss: 0.0115\n",
      "Epoch 100/200\n",
      "12/12 [==============================] - 0s 19ms/step - loss: 1.7223e-04 - val_loss: 0.0125\n",
      "Epoch 101/200\n",
      "12/12 [==============================] - 0s 22ms/step - loss: 1.6956e-04 - val_loss: 0.0107\n",
      "Epoch 102/200\n",
      "12/12 [==============================] - 0s 23ms/step - loss: 1.8009e-04 - val_loss: 0.0110\n",
      "Epoch 103/200\n",
      "12/12 [==============================] - 0s 23ms/step - loss: 1.8480e-04 - val_loss: 0.0115\n",
      "Epoch 104/200\n",
      "12/12 [==============================] - 0s 21ms/step - loss: 1.8654e-04 - val_loss: 0.0095\n",
      "Epoch 105/200\n",
      "12/12 [==============================] - 0s 19ms/step - loss: 1.9632e-04 - val_loss: 0.0129\n",
      "Epoch 106/200\n",
      "12/12 [==============================] - 0s 19ms/step - loss: 1.7607e-04 - val_loss: 0.0120\n",
      "Epoch 107/200\n",
      "12/12 [==============================] - 0s 18ms/step - loss: 1.7041e-04 - val_loss: 0.0108\n",
      "Epoch 108/200\n",
      "12/12 [==============================] - 0s 19ms/step - loss: 1.8195e-04 - val_loss: 0.0088\n",
      "Epoch 109/200\n",
      "12/12 [==============================] - 0s 20ms/step - loss: 1.8924e-04 - val_loss: 0.0163\n",
      "Epoch 110/200\n",
      "12/12 [==============================] - 0s 19ms/step - loss: 1.6862e-04 - val_loss: 0.0098\n",
      "Epoch 111/200\n",
      "12/12 [==============================] - 0s 18ms/step - loss: 1.7041e-04 - val_loss: 0.0111\n",
      "Epoch 112/200\n",
      "12/12 [==============================] - 0s 18ms/step - loss: 1.6957e-04 - val_loss: 0.0143\n",
      "Epoch 113/200\n",
      "12/12 [==============================] - 0s 19ms/step - loss: 1.6247e-04 - val_loss: 0.0147\n",
      "Epoch 114/200\n",
      "12/12 [==============================] - 0s 19ms/step - loss: 1.7683e-04 - val_loss: 0.0092\n",
      "Epoch 115/200\n",
      "12/12 [==============================] - 0s 19ms/step - loss: 1.7503e-04 - val_loss: 0.0165\n",
      "Epoch 116/200\n",
      "12/12 [==============================] - 0s 19ms/step - loss: 1.6640e-04 - val_loss: 0.0105\n",
      "Epoch 117/200\n",
      "12/12 [==============================] - 0s 19ms/step - loss: 1.6106e-04 - val_loss: 0.0116\n",
      "Epoch 118/200\n",
      "12/12 [==============================] - 0s 19ms/step - loss: 1.6016e-04 - val_loss: 0.0128\n",
      "Epoch 119/200\n",
      "12/12 [==============================] - 0s 18ms/step - loss: 1.7014e-04 - val_loss: 0.0114\n",
      "Epoch 120/200\n",
      "12/12 [==============================] - 0s 19ms/step - loss: 1.5639e-04 - val_loss: 0.0136\n",
      "Epoch 121/200\n",
      "12/12 [==============================] - 0s 21ms/step - loss: 1.6552e-04 - val_loss: 0.0125\n",
      "Epoch 122/200\n",
      "12/12 [==============================] - 0s 19ms/step - loss: 1.5868e-04 - val_loss: 0.0105\n",
      "Epoch 123/200\n",
      "12/12 [==============================] - 0s 20ms/step - loss: 2.0204e-04 - val_loss: 0.0162\n",
      "Epoch 124/200\n",
      "12/12 [==============================] - 0s 19ms/step - loss: 2.0715e-04 - val_loss: 0.0170\n",
      "Epoch 125/200\n",
      "12/12 [==============================] - 0s 20ms/step - loss: 1.8974e-04 - val_loss: 0.0084\n",
      "Epoch 126/200\n",
      "12/12 [==============================] - 0s 21ms/step - loss: 1.7201e-04 - val_loss: 0.0157\n",
      "Epoch 127/200\n",
      "12/12 [==============================] - 0s 19ms/step - loss: 1.6366e-04 - val_loss: 0.0141\n",
      "Epoch 128/200\n",
      "12/12 [==============================] - 0s 19ms/step - loss: 1.5819e-04 - val_loss: 0.0119\n",
      "Epoch 129/200\n",
      "12/12 [==============================] - 0s 20ms/step - loss: 1.5804e-04 - val_loss: 0.0129\n",
      "Epoch 130/200\n",
      "12/12 [==============================] - 0s 21ms/step - loss: 1.5620e-04 - val_loss: 0.0131\n",
      "Epoch 131/200\n",
      "12/12 [==============================] - 0s 21ms/step - loss: 1.6254e-04 - val_loss: 0.0178\n",
      "Epoch 132/200\n",
      "12/12 [==============================] - 0s 20ms/step - loss: 1.6637e-04 - val_loss: 0.0160\n",
      "Epoch 133/200\n",
      "12/12 [==============================] - 0s 19ms/step - loss: 1.5759e-04 - val_loss: 0.0109\n",
      "Epoch 134/200\n",
      "12/12 [==============================] - 0s 19ms/step - loss: 1.7217e-04 - val_loss: 0.0107\n",
      "Epoch 135/200\n",
      "12/12 [==============================] - 0s 20ms/step - loss: 1.7263e-04 - val_loss: 0.0186\n",
      "Epoch 136/200\n",
      "12/12 [==============================] - 0s 19ms/step - loss: 1.9236e-04 - val_loss: 0.0119\n",
      "Epoch 137/200\n",
      "12/12 [==============================] - 0s 19ms/step - loss: 1.8408e-04 - val_loss: 0.0122\n",
      "Epoch 138/200\n",
      "12/12 [==============================] - 0s 19ms/step - loss: 1.7693e-04 - val_loss: 0.0172\n",
      "Epoch 139/200\n",
      "12/12 [==============================] - 0s 19ms/step - loss: 1.7070e-04 - val_loss: 0.0145\n",
      "Epoch 140/200\n",
      "12/12 [==============================] - 0s 19ms/step - loss: 1.7703e-04 - val_loss: 0.0108\n",
      "Epoch 141/200\n",
      "12/12 [==============================] - 0s 19ms/step - loss: 1.7463e-04 - val_loss: 0.0161\n",
      "Epoch 142/200\n",
      "12/12 [==============================] - 0s 20ms/step - loss: 1.6445e-04 - val_loss: 0.0150\n",
      "Epoch 143/200\n",
      "12/12 [==============================] - 0s 19ms/step - loss: 1.4614e-04 - val_loss: 0.0137\n",
      "Epoch 144/200\n",
      "12/12 [==============================] - 0s 19ms/step - loss: 1.5779e-04 - val_loss: 0.0119\n",
      "Epoch 145/200\n",
      "12/12 [==============================] - 0s 19ms/step - loss: 1.4716e-04 - val_loss: 0.0166\n",
      "Epoch 146/200\n",
      "12/12 [==============================] - 0s 20ms/step - loss: 1.4662e-04 - val_loss: 0.0140\n",
      "Epoch 147/200\n",
      "12/12 [==============================] - 0s 19ms/step - loss: 1.4535e-04 - val_loss: 0.0147\n",
      "Epoch 148/200\n",
      "12/12 [==============================] - 0s 19ms/step - loss: 1.4743e-04 - val_loss: 0.0148\n",
      "Epoch 149/200\n",
      "12/12 [==============================] - 0s 19ms/step - loss: 1.5626e-04 - val_loss: 0.0172\n",
      "Epoch 150/200\n",
      "12/12 [==============================] - 0s 19ms/step - loss: 1.4534e-04 - val_loss: 0.0128\n",
      "Epoch 151/200\n",
      "12/12 [==============================] - 0s 20ms/step - loss: 1.4469e-04 - val_loss: 0.0160\n",
      "Epoch 152/200\n",
      "12/12 [==============================] - 0s 21ms/step - loss: 1.3956e-04 - val_loss: 0.0106\n",
      "Epoch 153/200\n",
      "12/12 [==============================] - 0s 19ms/step - loss: 1.4772e-04 - val_loss: 0.0130\n",
      "Epoch 154/200\n",
      "12/12 [==============================] - 0s 19ms/step - loss: 1.5098e-04 - val_loss: 0.0144\n",
      "Epoch 155/200\n",
      "12/12 [==============================] - 0s 19ms/step - loss: 1.6250e-04 - val_loss: 0.0151\n",
      "Epoch 156/200\n"
     ]
    },
    {
     "name": "stdout",
     "output_type": "stream",
     "text": [
      "12/12 [==============================] - 0s 19ms/step - loss: 1.4700e-04 - val_loss: 0.0135\n",
      "Epoch 157/200\n",
      "12/12 [==============================] - 0s 20ms/step - loss: 1.4236e-04 - val_loss: 0.0129\n",
      "Epoch 158/200\n",
      "12/12 [==============================] - 0s 20ms/step - loss: 1.4010e-04 - val_loss: 0.0116\n",
      "Epoch 159/200\n",
      "12/12 [==============================] - 0s 19ms/step - loss: 1.4652e-04 - val_loss: 0.0123\n",
      "Epoch 160/200\n",
      "12/12 [==============================] - 0s 19ms/step - loss: 1.4187e-04 - val_loss: 0.0129\n",
      "Epoch 161/200\n",
      "12/12 [==============================] - 0s 19ms/step - loss: 1.4278e-04 - val_loss: 0.0134\n",
      "Epoch 162/200\n",
      "12/12 [==============================] - 0s 19ms/step - loss: 1.4196e-04 - val_loss: 0.0148\n",
      "Epoch 163/200\n",
      "12/12 [==============================] - 0s 19ms/step - loss: 1.4713e-04 - val_loss: 0.0093\n",
      "Epoch 164/200\n",
      "12/12 [==============================] - 0s 21ms/step - loss: 1.6060e-04 - val_loss: 0.0118\n",
      "Epoch 165/200\n",
      "12/12 [==============================] - 0s 20ms/step - loss: 1.4580e-04 - val_loss: 0.0155\n",
      "Epoch 166/200\n",
      "12/12 [==============================] - 0s 21ms/step - loss: 1.5830e-04 - val_loss: 0.0091\n",
      "Epoch 167/200\n",
      "12/12 [==============================] - 0s 18ms/step - loss: 1.4462e-04 - val_loss: 0.0107\n",
      "Epoch 168/200\n",
      "12/12 [==============================] - 0s 19ms/step - loss: 1.5148e-04 - val_loss: 0.0142\n",
      "Epoch 169/200\n",
      "12/12 [==============================] - 0s 22ms/step - loss: 1.3965e-04 - val_loss: 0.0127\n",
      "Epoch 170/200\n",
      "12/12 [==============================] - 0s 20ms/step - loss: 1.3577e-04 - val_loss: 0.0119\n",
      "Epoch 171/200\n",
      "12/12 [==============================] - 0s 19ms/step - loss: 1.3091e-04 - val_loss: 0.0152\n",
      "Epoch 172/200\n",
      "12/12 [==============================] - 0s 20ms/step - loss: 1.3713e-04 - val_loss: 0.0136\n",
      "Epoch 173/200\n",
      "12/12 [==============================] - 0s 19ms/step - loss: 1.3275e-04 - val_loss: 0.0117\n",
      "Epoch 174/200\n",
      "12/12 [==============================] - 0s 19ms/step - loss: 1.4017e-04 - val_loss: 0.0150\n",
      "Epoch 175/200\n",
      "12/12 [==============================] - 0s 19ms/step - loss: 1.3585e-04 - val_loss: 0.0139\n",
      "Epoch 176/200\n",
      "12/12 [==============================] - 0s 19ms/step - loss: 1.2879e-04 - val_loss: 0.0139\n",
      "Epoch 177/200\n",
      "12/12 [==============================] - 0s 19ms/step - loss: 1.2924e-04 - val_loss: 0.0111\n",
      "Epoch 178/200\n",
      "12/12 [==============================] - 0s 19ms/step - loss: 1.3020e-04 - val_loss: 0.0151\n",
      "Epoch 179/200\n",
      "12/12 [==============================] - 0s 21ms/step - loss: 1.3757e-04 - val_loss: 0.0112\n",
      "Epoch 180/200\n",
      "12/12 [==============================] - 0s 20ms/step - loss: 1.3261e-04 - val_loss: 0.0148\n",
      "Epoch 181/200\n",
      "12/12 [==============================] - 0s 19ms/step - loss: 1.2760e-04 - val_loss: 0.0117\n",
      "Epoch 182/200\n",
      "12/12 [==============================] - 0s 19ms/step - loss: 1.2480e-04 - val_loss: 0.0124\n",
      "Epoch 183/200\n",
      "12/12 [==============================] - 0s 19ms/step - loss: 1.2470e-04 - val_loss: 0.0134\n",
      "Epoch 184/200\n",
      "12/12 [==============================] - 0s 20ms/step - loss: 1.2346e-04 - val_loss: 0.0132\n",
      "Epoch 185/200\n",
      "12/12 [==============================] - 0s 19ms/step - loss: 1.2193e-04 - val_loss: 0.0148\n",
      "Epoch 186/200\n",
      "12/12 [==============================] - 0s 19ms/step - loss: 1.2269e-04 - val_loss: 0.0125\n",
      "Epoch 187/200\n",
      "12/12 [==============================] - 0s 19ms/step - loss: 1.2512e-04 - val_loss: 0.0120\n",
      "Epoch 188/200\n",
      "12/12 [==============================] - 0s 19ms/step - loss: 1.2060e-04 - val_loss: 0.0118\n",
      "Epoch 189/200\n",
      "12/12 [==============================] - 0s 19ms/step - loss: 1.1913e-04 - val_loss: 0.0118\n",
      "Epoch 190/200\n",
      "12/12 [==============================] - 0s 19ms/step - loss: 1.2530e-04 - val_loss: 0.0124\n",
      "Epoch 191/200\n",
      "12/12 [==============================] - 0s 19ms/step - loss: 1.1840e-04 - val_loss: 0.0109\n",
      "Epoch 192/200\n",
      "12/12 [==============================] - 0s 19ms/step - loss: 1.2564e-04 - val_loss: 0.0144\n",
      "Epoch 193/200\n",
      "12/12 [==============================] - 0s 19ms/step - loss: 1.2099e-04 - val_loss: 0.0113\n",
      "Epoch 194/200\n",
      "12/12 [==============================] - 0s 19ms/step - loss: 1.2241e-04 - val_loss: 0.0124\n",
      "Epoch 195/200\n",
      "12/12 [==============================] - 0s 19ms/step - loss: 1.1723e-04 - val_loss: 0.0126\n",
      "Epoch 196/200\n",
      "12/12 [==============================] - 0s 19ms/step - loss: 1.1810e-04 - val_loss: 0.0136\n",
      "Epoch 197/200\n",
      "12/12 [==============================] - 0s 19ms/step - loss: 1.2202e-04 - val_loss: 0.0126\n",
      "Epoch 198/200\n",
      "12/12 [==============================] - 0s 19ms/step - loss: 1.2872e-04 - val_loss: 0.0106\n",
      "Epoch 199/200\n",
      "12/12 [==============================] - 0s 18ms/step - loss: 1.1793e-04 - val_loss: 0.0133\n",
      "Epoch 200/200\n",
      "12/12 [==============================] - 0s 19ms/step - loss: 1.1283e-04 - val_loss: 0.0093\n"
     ]
    },
    {
     "data": {
      "text/plain": [
       "<tensorflow.python.keras.callbacks.History at 0x1e198764c70>"
      ]
     },
     "execution_count": 40,
     "metadata": {},
     "output_type": "execute_result"
    }
   ],
   "source": [
    "model.fit(X_train, y_train, validation_data = (X_test,ytest), epochs=200, batch_size=64, verbose=1)"
   ]
  },
  {
   "cell_type": "markdown",
   "metadata": {
    "id": "eJyw3fTCMBr4"
   },
   "source": [
    "**Step_3: Get results**"
   ]
  },
  {
   "cell_type": "code",
   "execution_count": 43,
   "metadata": {},
   "outputs": [],
   "source": [
    "train_predict = model.predict(X_train)\n",
    "test_predict = model.predict(X_test)"
   ]
  },
  {
   "cell_type": "code",
   "execution_count": 44,
   "metadata": {},
   "outputs": [],
   "source": [
    "#Transformback to original form\n",
    "train_predict = scaler.inverse_transform(train_predict)\n",
    "test_predict = scaler.inverse_transform(test_predict)"
   ]
  },
  {
   "cell_type": "markdown",
   "metadata": {
    "id": "rwAlq5MftPVL"
   },
   "source": [
    "**Step_4: Check**"
   ]
  },
  {
   "cell_type": "code",
   "execution_count": 45,
   "metadata": {},
   "outputs": [
    {
     "data": {
      "text/plain": [
       "48.5219832476966"
      ]
     },
     "execution_count": 45,
     "metadata": {},
     "output_type": "execute_result"
    }
   ],
   "source": [
    "import math\n",
    "from sklearn.metrics import mean_squared_error\n",
    "math.sqrt(mean_squared_error(y_train, train_predict))"
   ]
  },
  {
   "cell_type": "code",
   "execution_count": 46,
   "metadata": {},
   "outputs": [
    {
     "data": {
      "text/plain": [
       "105.82502297105673"
      ]
     },
     "execution_count": 46,
     "metadata": {},
     "output_type": "execute_result"
    }
   ],
   "source": [
    "math.sqrt(mean_squared_error(ytest, test_predict))"
   ]
  },
  {
   "cell_type": "code",
   "execution_count": 47,
   "metadata": {},
   "outputs": [
    {
     "data": {
      "image/png": "[encoded data removed]",
      "text/plain": [
       "<Figure size 432x288 with 1 Axes>"
      ]
     },
     "metadata": {
      "needs_background": "light"
     },
     "output_type": "display_data"
    }
   ],
   "source": [
    "import matplotlib.pyplot as plt\n",
    "plt.plot(scaler.inverse_transform(ytest.reshape(-1,1)), color = 'black', label = 'AAPL Stock Price')\n",
    "plt.plot(test_predict, color = 'green', label = 'Predicted AAPL Stock Price')\n",
    "plt.title('AAPL Stock Price Prediction')\n",
    "plt.xlabel('Time')\n",
    "plt.ylabel('AAPL Stock Price')\n",
    "plt.legend()\n",
    "plt.show()"
   ]
  },
  {
   "cell_type": "code",
   "execution_count": null,
   "metadata": {},
   "outputs": [],
   "source": []
  }
 ],
 "metadata": {
  "colab": {
   "collapsed_sections": [],
   "name": "LSTM_Practice1.ipynb",
   "provenance": []
  },
  "kernelspec": {
   "display_name": "Internship",
   "language": "python",
   "name": "internship"
  },
  "language_info": {
   "codemirror_mode": {
    "name": "ipython",
    "version": 3
   },
   "file_extension": ".py",
   "mimetype": "text/x-python",
   "name": "python",
   "nbconvert_exporter": "python",
   "pygments_lexer": "ipython3",
   "version": "3.9.6"
  }
 },
 "nbformat": 4,
 "nbformat_minor": 1
}
