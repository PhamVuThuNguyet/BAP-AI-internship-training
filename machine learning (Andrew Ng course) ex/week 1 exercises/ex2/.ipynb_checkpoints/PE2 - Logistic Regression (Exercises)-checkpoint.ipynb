{
 "cells": [
  {
   "cell_type": "code",
   "execution_count": 1,
   "metadata": {},
   "outputs": [],
   "source": [
    "import numpy as np\n",
    "import pandas as pd\n",
    "import matplotlib.pylab as plt\n",
    "%matplotlib inline"
   ]
  },
  {
   "cell_type": "markdown",
   "metadata": {},
   "source": [
    "## Logistic Regression\n",
    "\n",
    "---\n",
    "Logistic regression is predicting in which category a given data point is. In binary classifiction, there are only two categories:\n",
    "\n",
    "$$y \\in \\{0,1\\}$$\n",
    "\n",
    "In this exercise, you will implement logistic regression and apply it to two different datasets. Before starting on the programming exercise, we strongly recommend watching the video lectures and completing the review questions for the associated topics."
   ]
  },
  {
   "cell_type": "code",
   "execution_count": 2,
   "metadata": {},
   "outputs": [
    {
     "data": {
      "text/plain": [
       "array([[ 1.        , 34.62365962, 78.02469282],\n",
       "       [ 1.        , 30.28671077, 43.89499752],\n",
       "       [ 1.        , 35.84740877, 72.90219803],\n",
       "       [ 1.        , 60.18259939, 86.3085521 ],\n",
       "       [ 1.        , 79.03273605, 75.34437644]])"
      ]
     },
     "execution_count": 2,
     "metadata": {},
     "output_type": "execute_result"
    }
   ],
   "source": [
    "# start by loading the data\n",
    "data = pd.read_csv(\"ex2data1.txt\", header = None, \n",
    "                   names = [\"Exam 1 Score\", \"Exam 2 Score\", \"Accepted\"])\n",
    "\n",
    "# initialize some useful variables\n",
    "m = len(data[\"Accepted\"])\n",
    "x0 = np.ones(m)\n",
    "exam1_score = np.array((data[\"Exam 1 Score\"]))\n",
    "exam2_score = np.array((data[\"Exam 2 Score\"]))\n",
    "X = np.array([x0, exam1_score, exam2_score]).T\n",
    "y = np.array(data[\"Accepted\"]).reshape((m,1))\n",
    "m, n = X.shape\n",
    "\n",
    "X[:5]"
   ]
  },
  {
   "cell_type": "markdown",
   "metadata": {},
   "source": [
    "### Visualising the data\n",
    "A blue cross means accepted. A yellow oval means rejected."
   ]
  },
  {
   "cell_type": "code",
   "execution_count": 3,
   "metadata": {},
   "outputs": [
    {
     "data": {
      "image/png": "[encoded data removed]",
      "text/plain": [
       "<Figure size 432x288 with 1 Axes>"
      ]
     },
     "metadata": {
      "needs_background": "light"
     },
     "output_type": "display_data"
    }
   ],
   "source": [
    "# Find indices of positive and negative examples\n",
    "pos = np.where(y==1)[0]\n",
    "neg = np.where(y==0)[0]\n",
    "\n",
    "# Plot examples\n",
    "plt.plot(X[pos, 1], X[pos, 2], 'b+', label='Admitted')\n",
    "plt.plot(X[neg, 1], X[neg, 2], 'yo', label='Not admitted')\n",
    "plt.legend()\n",
    "plt.show()"
   ]
  },
  {
   "cell_type": "markdown",
   "metadata": {},
   "source": [
    "### Sigmoid\n",
    "The sigmoid function, or logistic function, is a function that asymptotes at 0 and 1. The value at 0 is $\\frac{1}{2}$.\n",
    "\n",
    "$h_\\theta(x) = g(\\theta^Tx) = g(z) = \\frac{1}{1+ e^{-z}} = \\frac{1}{1+ e^{-\\theta^Tx}}$\n",
    "\n",
    "A plot of the sigmoid function:\n",
    "![sigmoid](notes/sigmoid.png)\n",
    "\n",
    "We are going to use the sigmoid function to predict how likely it is that a given data point is in category 0. Our hypothesis:\n",
    "\n",
    "$h_\\theta(x) = P(y = 0|x;\\theta)$\n",
    "\n",
    "Because there are only two categories (in this case), we can derrive that:\n",
    "\n",
    "$P(y = 0|x;\\theta) + P(y = 1|x;\\theta)= 1$\n",
    "\n",
    "**Exercise**: Implement the sigmoid function in Python."
   ]
  },
  {
   "cell_type": "code",
   "execution_count": 4,
   "metadata": {},
   "outputs": [],
   "source": [
    "def sigmoid(z):\n",
    "    \"\"\"implementation of sigmoid function\"\"\"\n",
    "    z = 1/(1 + np.exp(-z))\n",
    "    return z"
   ]
  },
  {
   "cell_type": "markdown",
   "metadata": {},
   "source": [
    "### Compute the Cost and Gradient\n",
    "\n",
    "#### The cost function\n",
    "\n",
    "The cost function in logistic regression differs from the one used in linear regression. The cost function in logistic regression:\n",
    "\n",
    "$$J(\\theta) = - \\begin{bmatrix}\\frac{1}{m}\\displaystyle\\sum_{i=1}^{m}-y^{(i)}\\log h(x^{(i)}-(1-y^{(i)})\\log(1-h_\\theta(x^{(i)}))\\end{bmatrix}$$\n",
    "\n",
    "Assume our hypothesis for an example is wrong, the higher probability $h_\\theta$ had predicted, the higher the penatly.\n",
    "\n",
    "A vectorized version of the cost function:\n",
    "\n",
    "$$J(\\theta) = \\frac{1}{m} ⋅(−y^T \\log(h)−(1−y)^T \\log(1−h))$$\n",
    "\n",
    "**Exercise**: Implement the vectorized cost function in Python."
   ]
  },
  {
   "cell_type": "code",
   "execution_count": 5,
   "metadata": {},
   "outputs": [],
   "source": [
    "def hypothesis_function(X, theta):\n",
    "    \"\"\"computing the hypothesis with the parameter theta\"\"\"\n",
    "    hypothesis = X@theta\n",
    "    return hypothesis"
   ]
  },
  {
   "cell_type": "code",
   "execution_count": 6,
   "metadata": {},
   "outputs": [],
   "source": [
    "def compute_cost(theta, X, y):\n",
    "    \"\"\"compute the value of cost function for logistic regression with the paramether theta and data sample (X,y)\"\"\"\n",
    "    m = len(y)\n",
    "    hypothesis = hypothesis_function(X, theta)\n",
    "    total_cost = -(1 / m) * np.sum(y * np.log(sigmoid(hypothesis)) + (1 - y) * np.log(1 - sigmoid(hypothesis)))\n",
    "    return total_cost"
   ]
  },
  {
   "cell_type": "markdown",
   "metadata": {},
   "source": [
    "#### The gradient\n",
    "\n",
    "The gradient is the step a minimization algorithm, like gradient descent, takes to get to the (local) minimum. Note that this step can be taken in a higher dimension and hence the gradient is a vector. In the previous programming exercise we used gradient descent. This time, we are going to use an algorithm called conjugate gradient to find the minimum. How that algorithm works is beyond the scope if this course. If you are interested, you can learn more about it [here](https://en.wikipedia.org/wiki/Conjugate_gradient_method).\n",
    "\n",
    "The partial derrivative or $J(\\theta)$:\n",
    "\n",
    "$$\\frac{\\delta}{\\delta\\theta_J} = \\frac{1}{m}\\displaystyle\\sum_{i = 1}^{m} \\begin{bmatrix}(h_\\theta(x^{(i)}) - y^{(i)}\\end{bmatrix}x_j^{(i)}$$\n",
    "\n",
    "Vectorized:\n",
    "\n",
    "$$\\frac{\\delta}{\\delta\\theta_J} = \\frac{1}{m} \\cdot X^T \\cdot (g(X\\cdot\\theta)-\\vec{y})$$\n",
    "\n",
    "**Exercise**: Write a function to compute the gradient."
   ]
  },
  {
   "cell_type": "code",
   "execution_count": 7,
   "metadata": {},
   "outputs": [],
   "source": [
    "def compute_gradient(theta, X, y):\n",
    "    \"\"\" compute the partial derrivative gradient at theta.\n",
    "    Returns the gradient\n",
    "    \"\"\"\n",
    "    m = len(y)\n",
    "    hypothesis = hypothesis_function(X, theta)\n",
    "    gradient = (1/m) * (X.T @ (sigmoid(hypothesis) - y))\n",
    "    return gradient"
   ]
  },
  {
   "cell_type": "markdown",
   "metadata": {},
   "source": [
    "Test the cost and gradient function. We expect $J \\approx 0.693$ and $\\frac{\\delta}{\\delta\\theta_J} \\approx \\begin{bmatrix}-0.1000 & -12.0092 & -11.2628 \\end{bmatrix}$"
   ]
  },
  {
   "cell_type": "code",
   "execution_count": 8,
   "metadata": {},
   "outputs": [
    {
     "name": "stdout",
     "output_type": "stream",
     "text": [
      "Cost: \n",
      "0.6931471805599453\n",
      "\n",
      "Gradient: \n",
      "[ -0.1        -12.00921659 -11.26284221]\n"
     ]
    }
   ],
   "source": [
    "initial_theta = np.zeros(n)\n",
    "y = y.reshape(m)\n",
    "print('Cost: \\n{}\\n'.format(compute_cost(initial_theta, X, y)))\n",
    "print('Gradient: \\n{}'.format(compute_gradient(initial_theta, X, y)))"
   ]
  },
  {
   "cell_type": "markdown",
   "metadata": {},
   "source": [
    "### Learning $\\theta$ using conjugate gradient\n",
    "\n",
    "The optimization library we are going to use is `scipy.optimize`. We have to provide the algorithm with our cost function, initial guess, gradient among with some other (optional) configuration options.\n",
    "\n",
    "Please scan [the docs](https://docs.scipy.org/doc/scipy/reference/generated/scipy.optimize.minimize.html) of `minimize` first."
   ]
  },
  {
   "cell_type": "code",
   "execution_count": 9,
   "metadata": {
    "scrolled": true
   },
   "outputs": [
    {
     "name": "stdout",
     "output_type": "stream",
     "text": [
      "Optimization terminated successfully.\n",
      "         Current function value: 0.203498\n",
      "         Iterations: 46\n",
      "         Function evaluations: 107\n",
      "         Gradient evaluations: 107\n",
      "Conjugate gradient found the following values for theta: [-25.17594986   0.20634863   0.20158987]\n"
     ]
    },
    {
     "name": "stderr",
     "output_type": "stream",
     "text": [
      "<ipython-input-6-3860de111804>:5: RuntimeWarning: divide by zero encountered in log\n",
      "  total_cost = -(1 / m) * np.sum(y * np.log(sigmoid(hypothesis)) + (1 - y) * np.log(1 - sigmoid(hypothesis)))\n",
      "<ipython-input-6-3860de111804>:5: RuntimeWarning: invalid value encountered in multiply\n",
      "  total_cost = -(1 / m) * np.sum(y * np.log(sigmoid(hypothesis)) + (1 - y) * np.log(1 - sigmoid(hypothesis)))\n"
     ]
    }
   ],
   "source": [
    "from scipy.optimize import minimize\n",
    "result = minimize(compute_cost, initial_theta, args = (X, y),\n",
    "                   method = 'CG', jac = compute_gradient, \n",
    "                   options = {\"maxiter\": 400, \"disp\" : 1})\n",
    "theta = result.x\n",
    "print('Conjugate gradient found the following values for theta: {}'.format(theta))"
   ]
  },
  {
   "cell_type": "markdown",
   "metadata": {},
   "source": [
    "### The decision boundary\n",
    "The decision boundary is a line (in case of a 2d plane) that seperates the area where we predict $y=1$ and $y=0$."
   ]
  },
  {
   "cell_type": "code",
   "execution_count": 15,
   "metadata": {},
   "outputs": [
    {
     "data": {
      "text/plain": [
       "<matplotlib.legend.Legend at 0x273bd5f6610>"
      ]
     },
     "execution_count": 15,
     "metadata": {},
     "output_type": "execute_result"
    },
    {
     "data": {
      "image/png": "[encoded data removed]",
      "text/plain": [
       "<Figure size 432x288 with 1 Axes>"
      ]
     },
     "metadata": {
      "needs_background": "light"
     },
     "output_type": "display_data"
    }
   ],
   "source": [
    "# Find indices of positive and negative examples\n",
    "pos = np.where(y==1)[0]\n",
    "neg = np.where(y==0)[0]\n",
    "\n",
    "# Plot examples\n",
    "plt.plot(X[pos, 1], X[pos, 2], 'b+', label='Admitted')\n",
    "plt.plot(X[neg, 1], X[neg, 2], 'yo', label='Not admitted')\n",
    "plt.legend()\n",
    "\n",
    "# Plot the decision boundary\n",
    "plot_x = np.array([min(X[:,1])-2,  max(X[:,1])+2])\n",
    "plot_y = (-1./theta[2]) * ((theta[1] * (plot_x) + theta[0]))\n",
    "\n",
    "plt.plot(plot_x, plot_y, label='Decision boundary')\n",
    "\n",
    "# Legend, specific for the exercise\n",
    "plt.legend()"
   ]
  },
  {
   "cell_type": "code",
   "execution_count": 10,
   "metadata": {},
   "outputs": [
    {
     "data": {
      "text/plain": [
       "array([-25.17594986,   0.20634863,   0.20158987])"
      ]
     },
     "execution_count": 10,
     "metadata": {},
     "output_type": "execute_result"
    }
   ],
   "source": [
    "theta"
   ]
  },
  {
   "cell_type": "code",
   "execution_count": 27,
   "metadata": {},
   "outputs": [
    {
     "data": {
      "text/plain": [
       "array([[ 1.        , 34.62365962, 78.02469282],\n",
       "       [ 1.        , 30.28671077, 43.89499752],\n",
       "       [ 1.        , 35.84740877, 72.90219803],\n",
       "       [ 1.        , 60.18259939, 86.3085521 ],\n",
       "       [ 1.        , 79.03273605, 75.34437644],\n",
       "       [ 1.        , 45.08327748, 56.31637178],\n",
       "       [ 1.        , 61.10666454, 96.51142588],\n",
       "       [ 1.        , 75.02474557, 46.55401354],\n",
       "       [ 1.        , 76.0987867 , 87.42056972],\n",
       "       [ 1.        , 84.43281996, 43.53339331],\n",
       "       [ 1.        , 95.86155507, 38.22527806],\n",
       "       [ 1.        , 75.01365839, 30.60326323],\n",
       "       [ 1.        , 82.30705337, 76.4819633 ],\n",
       "       [ 1.        , 69.36458876, 97.71869196],\n",
       "       [ 1.        , 39.53833914, 76.03681085],\n",
       "       [ 1.        , 53.97105215, 89.20735014],\n",
       "       [ 1.        , 69.07014406, 52.74046973],\n",
       "       [ 1.        , 67.94685548, 46.67857411],\n",
       "       [ 1.        , 70.66150955, 92.92713789],\n",
       "       [ 1.        , 76.97878373, 47.57596365],\n",
       "       [ 1.        , 67.37202755, 42.83843832],\n",
       "       [ 1.        , 89.67677575, 65.79936593],\n",
       "       [ 1.        , 50.53478829, 48.85581153],\n",
       "       [ 1.        , 34.21206098, 44.2095286 ],\n",
       "       [ 1.        , 77.92409145, 68.97235999],\n",
       "       [ 1.        , 62.27101367, 69.95445795],\n",
       "       [ 1.        , 80.19018075, 44.82162893],\n",
       "       [ 1.        , 93.1143888 , 38.80067034],\n",
       "       [ 1.        , 61.83020602, 50.25610789],\n",
       "       [ 1.        , 38.7858038 , 64.99568096],\n",
       "       [ 1.        , 61.37928945, 72.80788731],\n",
       "       [ 1.        , 85.40451939, 57.05198398],\n",
       "       [ 1.        , 52.10797973, 63.12762377],\n",
       "       [ 1.        , 52.04540477, 69.43286012],\n",
       "       [ 1.        , 40.23689374, 71.16774802],\n",
       "       [ 1.        , 54.63510555, 52.21388588],\n",
       "       [ 1.        , 33.91550011, 98.86943574],\n",
       "       [ 1.        , 64.17698887, 80.90806059],\n",
       "       [ 1.        , 74.78925296, 41.57341523],\n",
       "       [ 1.        , 34.18364003, 75.23772034],\n",
       "       [ 1.        , 83.90239366, 56.30804622],\n",
       "       [ 1.        , 51.54772027, 46.85629026],\n",
       "       [ 1.        , 94.44336777, 65.56892161],\n",
       "       [ 1.        , 82.36875376, 40.61825516],\n",
       "       [ 1.        , 51.04775177, 45.82270146],\n",
       "       [ 1.        , 62.22267576, 52.06099195],\n",
       "       [ 1.        , 77.19303493, 70.4582    ],\n",
       "       [ 1.        , 97.77159928, 86.72782233],\n",
       "       [ 1.        , 62.0730638 , 96.76882412],\n",
       "       [ 1.        , 91.5649745 , 88.69629255],\n",
       "       [ 1.        , 79.94481794, 74.16311935],\n",
       "       [ 1.        , 99.27252693, 60.999031  ],\n",
       "       [ 1.        , 90.54671411, 43.39060181],\n",
       "       [ 1.        , 34.52451385, 60.39634246],\n",
       "       [ 1.        , 50.28649612, 49.80453881],\n",
       "       [ 1.        , 49.58667722, 59.80895099],\n",
       "       [ 1.        , 97.64563396, 68.86157272],\n",
       "       [ 1.        , 32.57720017, 95.59854761],\n",
       "       [ 1.        , 74.24869137, 69.82457123],\n",
       "       [ 1.        , 71.79646206, 78.45356225],\n",
       "       [ 1.        , 75.39561147, 85.75993667],\n",
       "       [ 1.        , 35.28611282, 47.02051395],\n",
       "       [ 1.        , 56.2538175 , 39.26147251],\n",
       "       [ 1.        , 30.05882245, 49.59297387],\n",
       "       [ 1.        , 44.66826172, 66.45008615],\n",
       "       [ 1.        , 66.56089447, 41.09209808],\n",
       "       [ 1.        , 40.45755098, 97.53518549],\n",
       "       [ 1.        , 49.07256322, 51.88321182],\n",
       "       [ 1.        , 80.27957401, 92.11606081],\n",
       "       [ 1.        , 66.74671857, 60.99139403],\n",
       "       [ 1.        , 32.72283304, 43.30717306],\n",
       "       [ 1.        , 64.03932042, 78.03168802],\n",
       "       [ 1.        , 72.34649423, 96.22759297],\n",
       "       [ 1.        , 60.45788574, 73.0949981 ],\n",
       "       [ 1.        , 58.84095622, 75.85844831],\n",
       "       [ 1.        , 99.8278578 , 72.36925193],\n",
       "       [ 1.        , 47.26426911, 88.475865  ],\n",
       "       [ 1.        , 50.4581598 , 75.80985953],\n",
       "       [ 1.        , 60.45555629, 42.50840944],\n",
       "       [ 1.        , 82.22666158, 42.71987854],\n",
       "       [ 1.        , 88.91389642, 69.8037889 ],\n",
       "       [ 1.        , 94.83450672, 45.6943068 ],\n",
       "       [ 1.        , 67.31925747, 66.58935318],\n",
       "       [ 1.        , 57.23870632, 59.51428198],\n",
       "       [ 1.        , 80.366756  , 90.9601479 ],\n",
       "       [ 1.        , 68.46852179, 85.5943071 ],\n",
       "       [ 1.        , 42.07545454, 78.844786  ],\n",
       "       [ 1.        , 75.47770201, 90.424539  ],\n",
       "       [ 1.        , 78.63542435, 96.64742717],\n",
       "       [ 1.        , 52.34800399, 60.76950526],\n",
       "       [ 1.        , 94.09433113, 77.15910509],\n",
       "       [ 1.        , 90.44855097, 87.50879176],\n",
       "       [ 1.        , 55.48216114, 35.57070347],\n",
       "       [ 1.        , 74.49269242, 84.84513685],\n",
       "       [ 1.        , 89.84580671, 45.35828361],\n",
       "       [ 1.        , 83.48916274, 48.3802858 ],\n",
       "       [ 1.        , 42.26170081, 87.10385094],\n",
       "       [ 1.        , 99.31500881, 68.77540947],\n",
       "       [ 1.        , 55.34001756, 64.93193801],\n",
       "       [ 1.        , 74.775893  , 89.5298129 ]])"
      ]
     },
     "execution_count": 27,
     "metadata": {},
     "output_type": "execute_result"
    }
   ],
   "source": [
    "X"
   ]
  },
  {
   "cell_type": "code",
   "execution_count": 13,
   "metadata": {},
   "outputs": [
    {
     "data": {
      "text/plain": [
       "array([96.16579738, 20.6553574 ])"
      ]
     },
     "execution_count": 13,
     "metadata": {},
     "output_type": "execute_result"
    }
   ],
   "source": [
    "plot_y"
   ]
  },
  {
   "cell_type": "markdown",
   "metadata": {},
   "source": [
    "### Evaluation\n",
    "#### Probability that a given student will be admitted"
   ]
  },
  {
   "cell_type": "code",
   "execution_count": 14,
   "metadata": {},
   "outputs": [
    {
     "name": "stdout",
     "output_type": "stream",
     "text": [
      "For a student with scores 45 and 85, we predict an admission probability of 0.78\n"
     ]
    }
   ],
   "source": [
    "prob = sigmoid(np.array([1, 45, 85]).dot(theta))\n",
    "print('For a student with scores 45 and 85, we predict an admission probability of {:.2}'.format(prob))"
   ]
  },
  {
   "cell_type": "markdown",
   "metadata": {},
   "source": [
    "#### Accuracy\n",
    "It's often a good idea to see how well your model trained. You can do that by checking how much datapoints we can predict correctly using $\\theta$. In a real world application, you should consider splitting your data (eg 80% - 20%) and test on data the model has not seen before. This gives you more realistic insight in how your model would perform in the real world - and that's your ultimate goal ;)\n",
    "\n",
    "In this example, we expect a training accuracy of 89.0%."
   ]
  },
  {
   "cell_type": "code",
   "execution_count": 15,
   "metadata": {},
   "outputs": [
    {
     "name": "stdout",
     "output_type": "stream",
     "text": [
      "Training Accuracy: 89.0%\n"
     ]
    }
   ],
   "source": [
    "p = np.zeros((m, 1))\n",
    "for (i, example) in enumerate(X):\n",
    "    prob = sigmoid(np.array(example.dot(theta)))\n",
    "    if prob >= 0.5:\n",
    "        p[i] = 1\n",
    "    else:\n",
    "        p[i] = 0\n",
    "print('Training Accuracy: {}%'.format(np.mean(p == y.reshape((m, 1))) * 100))"
   ]
  },
  {
   "cell_type": "markdown",
   "metadata": {},
   "source": [
    "## Regularized linear regression\n",
    "\n",
    "---\n",
    "Regularization is a meganism for preventing overfitting. _Overfitting_ means that our model works extremely well on the training set but bad in the real world. It's focussed on the training data. _Underfitting_ is either a not well trained model or the feature mapping is not done (correctly). We will use regularization in this exercise. Furtermore, we are going to look at a more complex decision boundary\n",
    "\n",
    "In this part of the exercise, you will implement regularized logistic regression to predict whether microchips from a fabrication plant passes quality assur- ance (QA). During QA, each microchip goes through various tests to ensure it is functioning correctly.\n",
    "\n",
    "Suppose you are the product manager of the factory and you have the test results for some microchips on two different tests. From these two tests, you would like to determine whether the microchips should be accepted or rejected. To help you make the decision, you have a dataset of test results on past microchips, from which you can build a logistic regression model."
   ]
  },
  {
   "cell_type": "code",
   "execution_count": 16,
   "metadata": {},
   "outputs": [
    {
     "data": {
      "text/plain": [
       "array([[ 0.051267,  0.69956 ],\n",
       "       [-0.092742,  0.68494 ],\n",
       "       [-0.21371 ,  0.69225 ],\n",
       "       [-0.375   ,  0.50219 ],\n",
       "       [-0.51325 ,  0.46564 ]])"
      ]
     },
     "execution_count": 16,
     "metadata": {},
     "output_type": "execute_result"
    }
   ],
   "source": [
    "# start by loading the data\n",
    "data = pd.read_csv(\"ex2data2.txt\", header = None, \n",
    "                   names = [\"Test 1\", \"Test 2\", \"Status\"])\n",
    "\n",
    "# initialize some useful variables\n",
    "m = len(data[\"Status\"])\n",
    "size = np.array((data[\"Test 1\"]))\n",
    "bedrooms = np.array((data[\"Test 2\"]))\n",
    "X = np.array([size, bedrooms]).T # don't add a column of ones yet.\n",
    "y = np.array(data[\"Status\"])\n",
    "\n",
    "X[:5]"
   ]
  },
  {
   "cell_type": "markdown",
   "metadata": {},
   "source": [
    "### Visualising the data"
   ]
  },
  {
   "cell_type": "code",
   "execution_count": 17,
   "metadata": {},
   "outputs": [
    {
     "data": {
      "image/png": "[encoded data removed]",
      "text/plain": [
       "<Figure size 432x288 with 1 Axes>"
      ]
     },
     "metadata": {
      "needs_background": "light"
     },
     "output_type": "display_data"
    }
   ],
   "source": [
    "# Find indices of positive and negative examples\n",
    "pos = np.where(y==1)[0]\n",
    "neg = np.where(y==0)[0]\n",
    "\n",
    "# Plot examples\n",
    "plt.plot(X[pos, 0], X[pos, 1], 'b+', label='Admitted')\n",
    "plt.plot(X[neg, 0], X[neg, 1], 'yo', label='Not admitted')\n",
    "plt.legend()\n",
    "plt.show()"
   ]
  },
  {
   "cell_type": "markdown",
   "metadata": {},
   "source": [
    "### Feature Mapping\n",
    "\n",
    "One way to fit the data better is to create more features from each data point. While the feature mapping allows us to build a more expressive classifier, it also more susceptible to overfitting. This will also add $x_0$."
   ]
  },
  {
   "cell_type": "code",
   "execution_count": 18,
   "metadata": {},
   "outputs": [],
   "source": [
    "def map_feature(X1, X2, degree):\n",
    "    if not type(X1) == np.ndarray:\n",
    "        X1 = np.array([X1])\n",
    "\n",
    "    if not type(X2) == np.ndarray:\n",
    "        X2 = np.array([X2])\n",
    "\n",
    "    assert X1.shape == X2.shape\n",
    "    \n",
    "    out = np.ones((len(X1), 1))\n",
    "    for i in range(1, degree+1):\n",
    "        for j in range(i + 1):\n",
    "            new = (X1 ** (i-j) * X2 ** j).reshape(len(X1), 1)\n",
    "            out = np.hstack((out, new))\n",
    "    return out\n",
    "\n",
    "X = map_feature(X[:,0], X[:,1], degree=6)\n",
    "m, n = X.shape"
   ]
  },
  {
   "cell_type": "markdown",
   "metadata": {},
   "source": [
    "### Computing Cost and Gradient\n",
    "#### Cost function\n",
    "Regularization works by penalizing theta. Theta values can be high when an overfit occurs so we prefer to keep them low. $\\lambda$ is the regularization parameter. If $\\lambda=0$, no regularization happens. If $\\lambda$ is some big number, $\\theta$ has a very high penalty. Just like the learning rate $\\alpha$ you have to try out certain values and see which work.\n",
    "\n",
    "The cost function with regularization:\n",
    "\n",
    "$$J(\\theta) = \\frac{1}{m}\\displaystyle\\sum_{i=1}^{m}-\\begin{bmatrix}y^{(i)}\\log h(x^{(i)}+(1-y^{(i)}\\log(1-h_\\theta(x^{(i)})) \\end{bmatrix} + \\frac{\\lambda}{m}\\displaystyle\\sum_{j=1}^{n}{\\theta_j}^2$$\n",
    "\n",
    "**Exercise**: Implement the regularized cost function."
   ]
  },
  {
   "cell_type": "code",
   "execution_count": 19,
   "metadata": {},
   "outputs": [],
   "source": [
    "def compute_regularized_cost(theta, X, y, _lambda):\n",
    "    \"\"\" Computes the cost of logistic regression with regularization using theta and _lambda as the parameter\"\"\"\n",
    "    m = len(y)\n",
    "    hypothesis = hypothesis_function(X, theta)\n",
    "    regularization = (_lambda/(2*m)) * (theta[1:].T @ theta[1:])\n",
    "    cost =  -(1 / m) * np.sum(y * np.log(sigmoid(hypothesis)) + (1 - y) * np.log(1 - sigmoid(hypothesis)))\n",
    "    return cost + regularization"
   ]
  },
  {
   "cell_type": "markdown",
   "metadata": {},
   "source": [
    "#### Gradient descent\n",
    "Gradient descent, just like the cost function, is slightly modified for regularization.\n",
    "\n",
    "For $\\theta_{j}$ where $j = 0$: \n",
    "\n",
    "$$\\theta_j := \\theta_j -\\alpha \\begin{bmatrix}\\frac{1}{m}\\displaystyle\\sum_{i=1}^{m}(h_\\theta(x^{(i)}-y^{(i)}){x_0}^{(i)}\\end{bmatrix}$$\n",
    "\n",
    "For $\\theta_{j}$ where $j \\in \\{1, 2, ..., n\\} $: \n",
    "\n",
    "$$\\theta_j := \\theta_j -\\alpha \\begin{bmatrix}\\frac{1}{m}\\displaystyle\\sum_{i=1}^{m}(h_\\theta(x^{(i)}-y^{(i)})x_j^{(i)} + \\frac{\\lambda}{m}{\\theta_j} \\end{bmatrix}$$\n",
    "\n",
    "Note that we don't penalize our bias vector $X_1$.\n",
    "\n",
    "**Exercise**: Implement `compute_regularized_gradient`."
   ]
  },
  {
   "cell_type": "code",
   "execution_count": 20,
   "metadata": {},
   "outputs": [],
   "source": [
    "def compute_regularized_gradient(theta, X, y, _lambda):\n",
    "    \"\"\" Computes the gradient of logistic regression with regularization using theta and _lambda as the parameter\"\"\"\n",
    "    m = len(y)\n",
    "    hypothesis = hypothesis_function(X, theta)\n",
    "    regularization = (_lambda / m) * theta[1:]\n",
    "    gradient = (1/m) * (X.T @ (sigmoid(hypothesis) - y))\n",
    "    gradient[1:] = gradient[1:] + regularization\n",
    "    return gradient"
   ]
  },
  {
   "cell_type": "markdown",
   "metadata": {},
   "source": [
    "We expect: $J \\approx 0.693$ and the first five values of $\\theta$: $\\begin{bmatrix} 0.0085 && 0.0188 && 0.0001 && 0.0503 && 0.0115 \\end{bmatrix}$"
   ]
  },
  {
   "cell_type": "code",
   "execution_count": 21,
   "metadata": {},
   "outputs": [
    {
     "name": "stdout",
     "output_type": "stream",
     "text": [
      "Cost at initial theta (zeros): 2.13\n",
      "Gradient at initial theta (zeros) - first five values only: \n",
      "[0.34604507 0.08508073 0.11852457 0.1505916  0.01591449]\n"
     ]
    }
   ],
   "source": [
    "_lambda = 1\n",
    "initial_theta = np.ones(n)\n",
    "\n",
    "cost = compute_regularized_cost(initial_theta, X, y, _lambda)\n",
    "grad = compute_regularized_gradient(initial_theta, X, y, _lambda)\n",
    "\n",
    "print('Cost at initial theta (zeros): {:.3}'.format(cost))\n",
    "print('Gradient at initial theta (zeros) - first five values only: \\n{}'.format(grad[:5]))"
   ]
  },
  {
   "cell_type": "markdown",
   "metadata": {},
   "source": [
    "Find an optimimal value for theta using conjugate gradient."
   ]
  },
  {
   "cell_type": "code",
   "execution_count": 22,
   "metadata": {},
   "outputs": [
    {
     "name": "stdout",
     "output_type": "stream",
     "text": [
      "Optimization terminated successfully.\n",
      "         Current function value: 0.529003\n",
      "         Iterations: 28\n",
      "         Function evaluations: 76\n",
      "         Gradient evaluations: 76\n",
      "Conjugate gradient found the following values for theta - first five values only: [ 1.27278161  0.62533885  1.18105652 -2.02009623 -0.91762257]\n"
     ]
    }
   ],
   "source": [
    "from scipy.optimize import minimize\n",
    "result = minimize(compute_regularized_cost, initial_theta, args = (X, y, _lambda),\n",
    "                  method = 'CG', jac = compute_regularized_gradient, \n",
    "                  options = {\"maxiter\": 400, \"disp\" : 1})\n",
    "theta = result.x\n",
    "print('Conjugate gradient found the following values for theta - first five values only: {}'.format(theta[:5]))"
   ]
  },
  {
   "cell_type": "markdown",
   "metadata": {},
   "source": [
    "### Plotting the decision boundary\n",
    "We can plot a more complex decision boundary using `np.linspace` and `contour`."
   ]
  },
  {
   "cell_type": "code",
   "execution_count": 23,
   "metadata": {},
   "outputs": [
    {
     "data": {
      "text/plain": [
       "<matplotlib.contour.QuadContourSet at 0x2d4d0e39d90>"
      ]
     },
     "execution_count": 23,
     "metadata": {},
     "output_type": "execute_result"
    },
    {
     "data": {
      "image/png": "[encoded data removed]",
      "text/plain": [
       "<Figure size 432x288 with 1 Axes>"
      ]
     },
     "metadata": {
      "needs_background": "light"
     },
     "output_type": "display_data"
    }
   ],
   "source": [
    "# Find indices of positive and negative examples\n",
    "pos = np.where(y==1)[0]\n",
    "neg = np.where(y==0)[0]\n",
    "\n",
    "# Plot examples\n",
    "plt.plot(X[pos, 1], X[pos, 2], 'b+', label='Admitted')\n",
    "plt.plot(X[neg, 1], X[neg, 2], 'yo', label='Not admitted')\n",
    "plt.legend()\n",
    "\n",
    "# Here is the grid range\n",
    "u = np.linspace(-1, 1.5, 50).reshape(50)\n",
    "v = np.linspace(-1, 1.5, 50).reshape(50)\n",
    "z = np.zeros((len(u), len(v)))\n",
    "\n",
    "# Evaluate z = theta*x over the grid\n",
    "for i in range(len(u)):\n",
    "    for j in range(len(v)):\n",
    "        z[i,j] = map_feature(u[i], v[j], degree=6).dot(theta)\n",
    "\n",
    "# Plot z = 0\n",
    "# Notice you need to specify the range [0, 0]\n",
    "#z = z.reshape(len(u), len(v))\n",
    "plt.contour(u, v, z.T, 0)"
   ]
  },
  {
   "cell_type": "markdown",
   "metadata": {},
   "source": [
    "### Exploring regularization\n",
    "As mentioned before, $\\lambda$ is used to control the problem of overfitting. In the following graphs, models trained with different values of lambda are shown to give you some intuition on the problem of over/underfitting."
   ]
  },
  {
   "cell_type": "code",
   "execution_count": 24,
   "metadata": {},
   "outputs": [],
   "source": [
    "def create_plot_for_lambda(X, y, _lambda):\n",
    "    from scipy.optimize import minimize\n",
    "    result = minimize(compute_regularized_cost, initial_theta, args = (X, y, _lambda),\n",
    "                      method = 'CG', jac = compute_regularized_gradient, \n",
    "                      options = {\"maxiter\": 400, \"disp\" : 1})\n",
    "    theta = result.x\n",
    "    print('Conjugate gradient found the following values for theta - first five values only: {}'.format(theta[:5]))\n",
    "\n",
    "    # Find indices of positive and negative examples\n",
    "    pos = np.where(y==1)[0]\n",
    "    neg = np.where(y==0)[0]\n",
    "\n",
    "    # Plot examples\n",
    "    plt.plot(X[pos, 1], X[pos, 2], 'b+', label='Admitted')\n",
    "    plt.plot(X[neg, 1], X[neg, 2], 'yo', label='Not admitted')\n",
    "    plt.legend()\n",
    "\n",
    "    # Here is the grid range\n",
    "    u = np.linspace(-1, 1.5, 50).reshape(50)\n",
    "    v = np.linspace(-1, 1.5, 50).reshape(50)\n",
    "    z = np.zeros((len(u), len(v)))\n",
    "\n",
    "    # Evaluate z = theta*x over the grid\n",
    "    for i in range(len(u)):\n",
    "        for j in range(len(v)):\n",
    "            z[i,j] = map_feature(u[i], v[j], degree=6).dot(theta)\n",
    "\n",
    "    # Plot z = 0\n",
    "    # Notice you need to specify the range [0, 0]\n",
    "    #z = z.reshape(len(u), len(v))\n",
    "    plt.contour(u, v, z.T, 0)"
   ]
  },
  {
   "cell_type": "markdown",
   "metadata": {},
   "source": [
    "#### Overfitting\n",
    "Remember: overfitting means the model probably only works on the training set and not well in the real world. If you model is overfit, consider adding regularization or choosing a higher value for $\\lambda$.\n",
    "\n",
    "You can check out other values of $\\lambda$ yourself."
   ]
  },
  {
   "cell_type": "code",
   "execution_count": 25,
   "metadata": {},
   "outputs": [
    {
     "name": "stdout",
     "output_type": "stream",
     "text": [
      "Warning: Maximum number of iterations has been exceeded.\n",
      "         Current function value: 0.275020\n",
      "         Iterations: 400\n",
      "         Function evaluations: 1432\n",
      "         Gradient evaluations: 1432\n",
      "Conjugate gradient found the following values for theta - first five values only: [  2.69805734  -1.66240412   0.6741274  -15.57627561  -7.69460206]\n"
     ]
    },
    {
     "data": {
      "image/png": "[encoded data removed]",
      "text/plain": [
       "<Figure size 432x288 with 1 Axes>"
      ]
     },
     "metadata": {
      "needs_background": "light"
     },
     "output_type": "display_data"
    }
   ],
   "source": [
    "create_plot_for_lambda(X, y, 0)"
   ]
  },
  {
   "cell_type": "markdown",
   "metadata": {},
   "source": [
    "#### Underfitting\n",
    "Underfitting means the model is not well trained. Having a high $\\lambda$ can cause underfitting."
   ]
  },
  {
   "cell_type": "code",
   "execution_count": 26,
   "metadata": {},
   "outputs": [
    {
     "name": "stdout",
     "output_type": "stream",
     "text": [
      "Optimization terminated successfully.\n",
      "         Current function value: 0.648216\n",
      "         Iterations: 14\n",
      "         Function evaluations: 29\n",
      "         Gradient evaluations: 29\n",
      "Conjugate gradient found the following values for theta - first five values only: [ 0.326144   -0.00815789  0.16580133 -0.44666092 -0.11177511]\n"
     ]
    },
    {
     "data": {
      "image/png": "[encoded data removed]",
      "text/plain": [
       "<Figure size 432x288 with 1 Axes>"
      ]
     },
     "metadata": {
      "needs_background": "light"
     },
     "output_type": "display_data"
    }
   ],
   "source": [
    "create_plot_for_lambda(X, y, 10)"
   ]
  },
  {
   "cell_type": "markdown",
   "metadata": {},
   "source": [
    "#### Underfitting$^2$\n",
    "This is what model trained with an extremely high value of $\\lambda$ looks like:"
   ]
  },
  {
   "cell_type": "code",
   "execution_count": 144,
   "metadata": {},
   "outputs": [
    {
     "name": "stdout",
     "output_type": "stream",
     "text": [
      "Optimization terminated successfully.\n",
      "         Current function value: 0.687913\n",
      "         Iterations: 10\n",
      "         Function evaluations: 22\n",
      "         Gradient evaluations: 22\n",
      "Conjugate gradient found the following values for theta - first five values only: [ 0.00980668 -0.01412537  0.00377853 -0.042739   -0.01022205]\n"
     ]
    },
    {
     "data": {
      "image/png": "[encoded data removed]",
      "text/plain": [
       "<Figure size 432x288 with 1 Axes>"
      ]
     },
     "metadata": {
      "needs_background": "light"
     },
     "output_type": "display_data"
    }
   ],
   "source": [
    "create_plot_for_lambda(X, y, 130)"
   ]
  },
  {
   "cell_type": "markdown",
   "metadata": {},
   "source": [
    "### Adjusted normal equation\n",
    "As you would have expected, the normal equation changes when you add normalization to your machine learning model. The adjusted version of the normal equation: \n",
    "\n",
    "$$\\theta=(X^TX+\\lambda\\begin{bmatrix} 0&\\dotsi&\\dotsi&\\dotsi &0\\\\\\vdots &1&0& 0 & \\vdots&\\\\\\vdots&0&1 &0 & \\vdots\\\\\\vdots&0&0&1&\\vdots\\\\0&\\dotsi&\\dotsi&\\dotsi&1 \\end{bmatrix})^{-1}X^Ty$$\n",
    "\n",
    "If $m < n$, $X$ is [non-invertable](https://www.quora.com/What-is-a-non-invertible-matrix-What-are-some-examples)."
   ]
  },
  {
   "cell_type": "code",
   "execution_count": 27,
   "metadata": {},
   "outputs": [
    {
     "data": {
      "text/plain": [
       "array([ 0.94416708,  0.2315894 ,  0.41142826, -0.7380916 , -0.50116657,\n",
       "       -0.69193639,  0.1003575 , -0.10718673, -0.06667559, -0.05556887,\n",
       "       -0.45471969,  0.09321721, -0.23956536, -0.07088082, -0.40279421,\n",
       "        0.04618662, -0.01432296,  0.04153635, -0.10356044, -0.02654812,\n",
       "        0.05619122, -0.18296629,  0.12363998, -0.11445861,  0.06788982,\n",
       "       -0.10602358,  0.04149463, -0.05781815])"
      ]
     },
     "execution_count": 27,
     "metadata": {},
     "output_type": "execute_result"
    }
   ],
   "source": [
    "L = np.eye(n)\n",
    "L[0] = 0\n",
    "_lambda = 1\n",
    "theta = np.linalg.inv(X.T @ X + _lambda * L)@X.T@y\n",
    "theta"
   ]
  }
 ],
 "metadata": {
  "kernelspec": {
   "display_name": "Python 3",
   "language": "python",
   "name": "python3"
  },
  "language_info": {
   "codemirror_mode": {
    "name": "ipython",
    "version": 3
   },
   "file_extension": ".py",
   "mimetype": "text/x-python",
   "name": "python",
   "nbconvert_exporter": "python",
   "pygments_lexer": "ipython3",
   "version": "3.9.6"
  }
 },
 "nbformat": 4,
 "nbformat_minor": 2
}
