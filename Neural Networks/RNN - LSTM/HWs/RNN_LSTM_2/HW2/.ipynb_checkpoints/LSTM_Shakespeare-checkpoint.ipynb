{
 "cells": [
  {
   "cell_type": "markdown",
   "id": "8cb15d82",
   "metadata": {},
   "source": [
    "Given a character or sequence of characters, we want to predict the next character at each time step.\n",
    "Model is trained to follow a language similar to the works of Shakespeare. The tinyshakespear dataset is used for training."
   ]
  },
  {
   "cell_type": "code",
   "execution_count": 80,
   "id": "88e449b9",
   "metadata": {},
   "outputs": [],
   "source": [
    "import numpy as np\n",
    "import io\n",
    "import re\n",
    "import tensorflow as tf\n",
    "import time\n",
    "import os"
   ]
  },
  {
   "cell_type": "markdown",
   "id": "dc4b84c3",
   "metadata": {},
   "source": [
    "# Get data"
   ]
  },
  {
   "cell_type": "code",
   "execution_count": 62,
   "id": "b00a5916",
   "metadata": {},
   "outputs": [],
   "source": [
    "def read_text(URL):\n",
    "    with io.open(URL, 'r', encoding='utf8') as f:\n",
    "        text = f.read()\n",
    "    # Character's collection\n",
    "    return text"
   ]
  },
  {
   "cell_type": "code",
   "execution_count": 63,
   "id": "ed514b1f",
   "metadata": {},
   "outputs": [
    {
     "name": "stdout",
     "output_type": "stream",
     "text": [
      "First Citizen:\n",
      "Before we proceed any further, hear me speak.\n",
      "\n",
      "All:\n",
      "Speak, speak.\n",
      "\n",
      "First Citizen:\n",
      "You\n"
     ]
    }
   ],
   "source": [
    "# test\n",
    "print(read_text(\"shakespeare_train.txt\")[:100])"
   ]
  },
  {
   "cell_type": "markdown",
   "id": "1a4ddb0a",
   "metadata": {},
   "source": [
    "# Preprocessing"
   ]
  },
  {
   "cell_type": "code",
   "execution_count": 64,
   "id": "912254f5",
   "metadata": {},
   "outputs": [],
   "source": [
    "#character to index\n",
    "def character_to_index(sub_txt, dict_int):\n",
    "    encoded_text = np.array([dict_int[c] for c in sub_txt], dtype=np.int32)  # encode data\n",
    "    return encoded_text"
   ]
  },
  {
   "cell_type": "code",
   "execution_count": 65,
   "id": "050449c6",
   "metadata": {},
   "outputs": [],
   "source": [
    "#index to character\n",
    "def index_to_char(index_list, dict_char):\n",
    "    text = []\n",
    "    for i in index_list:\n",
    "        text.append(dict_char[i])\n",
    "    return (repr( ''.join(text)))"
   ]
  },
  {
   "cell_type": "code",
   "execution_count": 66,
   "id": "ccac9200",
   "metadata": {},
   "outputs": [],
   "source": [
    "dict_int = {u:i for i, u in enumerate(read_text(\"shakespeare_train.txt\")[:100])}\n",
    "dict_char = dict(enumerate(read_text(\"shakespeare_train.txt\")[:100]))"
   ]
  },
  {
   "cell_type": "code",
   "execution_count": 67,
   "id": "6f15ab1f",
   "metadata": {},
   "outputs": [
    {
     "name": "stdout",
     "output_type": "stream",
     "text": [
      "Character to Index: \n",
      "\n",
      "  'F' :  82\n",
      "  'i' :  91\n",
      "  'r' :  84\n",
      "  's' :  85\n",
      "  't' :  90\n",
      "  ' ' :  87\n",
      "  'C' :  88\n",
      "  'z' :  92\n",
      "  'e' :  93\n",
      "  'n' :  94\n",
      "  ':' :  95\n",
      "  '\\n':  96\n",
      "  'B' :  15\n",
      "  'f' :  37\n",
      "  'o' :  98\n",
      "  'w' :  22\n",
      "  'p' :  75\n",
      "  'c' :  28\n",
      "  'd' :  31\n",
      "  'a' :  77\n",
      "  'y' :  35\n",
      "  'u' :  99\n",
      "  'h' :  46\n",
      "  ',' :  72\n",
      "  'm' :  51\n",
      "  'k' :  78\n",
      "  '.' :  79\n",
      "  'A' :  62\n",
      "  'l' :  64\n",
      "  'S' :  67\n",
      "  'Y' :  97\n"
     ]
    }
   ],
   "source": [
    "# test\n",
    "print(\"Character to Index: \\n\")\n",
    "for char,_ in zip(dict_int, range(65)):\n",
    "    print('  {:4s}: {:3d}'.format(repr(char), dict_int[char]))"
   ]
  },
  {
   "cell_type": "markdown",
   "id": "8d8e3f03",
   "metadata": {},
   "source": [
    "# Create training examples / targets"
   ]
  },
  {
   "cell_type": "markdown",
   "id": "fdc1b096",
   "metadata": {},
   "source": [
    "Target value: for each sequence of characters, we return that sequence, shifted one position to the right, along with the new character that is predicted to follow the sequence.\n",
    "\n",
    "To create training examples of (input, target) pairs, we take the given sequence. The input is sequence with last word removed. Target is sequence with first word removed. Example: sequence: abc d ef input: abc d e target: bc d ef"
   ]
  },
  {
   "cell_type": "code",
   "execution_count": 68,
   "id": "a8b292c9",
   "metadata": {},
   "outputs": [],
   "source": [
    "def split_input_target(chunk):\n",
    "    input_text = chunk[:-1]\n",
    "    target_text = chunk[1:]\n",
    "    return input_text, target_text"
   ]
  },
  {
   "cell_type": "code",
   "execution_count": 69,
   "id": "556bf543",
   "metadata": {},
   "outputs": [],
   "source": [
    "# Create training examples / targets\n",
    "def handle_data(data, seq_len):\n",
    "    \"\"\"\n",
    "    this function to create data from row data\n",
    "\n",
    "    :param data: row data with int type\n",
    "    :param seq_len: max len of input and output sequence\n",
    "    :return: data for training\n",
    "    \"\"\"\n",
    "    #data4epoch = len(data) // (seq_len+1)\n",
    "    # Create training examples / targets\n",
    "    char_dataset = tf.data.Dataset.from_tensor_slices(data)\n",
    "    sequences = char_dataset.batch(seq_len + 1, drop_remainder=True)\n",
    "    dataset = sequences.map(split_input_target)\n",
    "    return dataset"
   ]
  },
  {
   "cell_type": "code",
   "execution_count": 70,
   "id": "28a8b78c",
   "metadata": {},
   "outputs": [],
   "source": [
    "training_set = read_text('shakespeare_train.txt')\n",
    "val_set = read_text('shakespeare_valid.txt')"
   ]
  },
  {
   "cell_type": "code",
   "execution_count": 71,
   "id": "bc733e7e",
   "metadata": {},
   "outputs": [],
   "source": [
    "#union vocab\n",
    "vocab_train = set(training_set)\n",
    "vocab_val = set(val_set)\n",
    "vocab = vocab_train.union(vocab_val)"
   ]
  },
  {
   "cell_type": "code",
   "execution_count": 72,
   "id": "0a36f87c",
   "metadata": {},
   "outputs": [],
   "source": [
    "# set character that were found in text to the dict\n",
    "dict_int = {u:i for i, u in enumerate(vocab)}\n",
    "dict_char =dict(enumerate(vocab))\n",
    "\n",
    "train_x = character_to_index(training_set, dict_int)\n",
    "val_x = character_to_index(val_set, dict_int)\n",
    "\n",
    "seq_len = 50 # max number of characters that can be fed as a single input\n",
    "\n",
    "#Create sequences from the individual characters. Our required size will be seq_len + 1 (character RNN)\n",
    "train_seq = len(train_x) // (seq_len + 1)\n",
    "val_seq = len(val_x) // (seq_len + 1)\n",
    "\n",
    "data_train = handle_data(train_x, seq_len) # include input and target\n",
    "data_val = handle_data(val_x, seq_len)  # include input and target"
   ]
  },
  {
   "cell_type": "markdown",
   "id": "1b9f9071",
   "metadata": {},
   "source": [
    "# Build model"
   ]
  },
  {
   "cell_type": "code",
   "execution_count": 73,
   "id": "2f7b712a",
   "metadata": {},
   "outputs": [],
   "source": [
    "BATCH_SIZE = 64\n",
    "iterator_train = train_seq // BATCH_SIZE\n",
    "iterator_val = val_seq // BATCH_SIZE\n",
    "\n",
    "# Buffer used to shuffle the dataset\n",
    "BUFFER_SIZE = train_seq + val_seq\n",
    "data_train = data_train.shuffle(BUFFER_SIZE).batch(BATCH_SIZE, drop_remainder=True)\n",
    "data_val = data_val.batch(BATCH_SIZE, drop_remainder=True)"
   ]
  },
  {
   "cell_type": "code",
   "execution_count": 74,
   "id": "8388d2ba",
   "metadata": {},
   "outputs": [],
   "source": [
    "def built_model(cellType, vocab_size, embedding_dim, rnn_units, BATCH_SIZE):\n",
    "    if (cellType == \"LSTM\"):\n",
    "        rnn = tf.keras.layers.LSTM\n",
    "    elif (cellType == \"GRU\"):\n",
    "        rnn = tf.keras.layers.GRU\n",
    "    else:\n",
    "        rnn = tf.keras.layers.SimpleRNN\n",
    "\n",
    "    model = tf.keras.Sequential([tf.keras.layers.Embedding(vocab_size, embedding_dim, batch_input_shape=[BATCH_SIZE, None]),\n",
    "                                 rnn(rnn_units, return_sequences=True, stateful=True, recurrent_initializer='glorot_uniform'),\n",
    "                                 tf.keras.layers.Dense(vocab_size)])\n",
    "    return model "
   ]
  },
  {
   "cell_type": "code",
   "execution_count": 75,
   "id": "9daa56cd",
   "metadata": {},
   "outputs": [],
   "source": [
    "vocab_size = len(vocab)\n",
    "embedding_dim = 256\n",
    "rnn_units = 1024"
   ]
  },
  {
   "cell_type": "code",
   "execution_count": 76,
   "id": "4f32f665",
   "metadata": {},
   "outputs": [
    {
     "name": "stdout",
     "output_type": "stream",
     "text": [
      "Model: \"sequential_4\"\n",
      "_________________________________________________________________\n",
      "Layer (type)                 Output Shape              Param #   \n",
      "=================================================================\n",
      "embedding_4 (Embedding)      (64, None, 256)           17152     \n",
      "_________________________________________________________________\n",
      "lstm_4 (LSTM)                (64, None, 1024)          5246976   \n",
      "_________________________________________________________________\n",
      "dense_4 (Dense)              (64, None, 67)            68675     \n",
      "=================================================================\n",
      "Total params: 5,332,803\n",
      "Trainable params: 5,332,803\n",
      "Non-trainable params: 0\n",
      "_________________________________________________________________\n",
      "None\n"
     ]
    }
   ],
   "source": [
    "cellType  = \"LSTM\" \n",
    "model = built_model(cellType, vocab_size, embedding_dim, rnn_units, BATCH_SIZE)\n",
    "print(model.summary())"
   ]
  },
  {
   "cell_type": "markdown",
   "id": "419a6b91",
   "metadata": {},
   "source": [
    "# Training model"
   ]
  },
  {
   "cell_type": "code",
   "execution_count": 77,
   "id": "3c3c3317",
   "metadata": {},
   "outputs": [],
   "source": [
    "def loss(labels, logits):\n",
    "    return tf.keras.losses.sparse_categorical_crossentropy(labels, logits, from_logits=True)"
   ]
  },
  {
   "cell_type": "code",
   "execution_count": 78,
   "id": "8f716edd",
   "metadata": {},
   "outputs": [],
   "source": [
    "model.compile(optimizer='adam', loss=loss)"
   ]
  },
  {
   "cell_type": "code",
   "execution_count": 81,
   "id": "53757d5a",
   "metadata": {},
   "outputs": [],
   "source": [
    "lstm_dir_checkpoints= 'training_checkpoints_LSTM'\n",
    "checkpoint_prefix = os.path.join(lstm_dir_checkpoints, \"chkpt_{epoch}\")\n",
    "checkpoint_callback=tf.keras.callbacks.ModelCheckpoint(filepath=checkpoint_prefix,save_weights_only=True)"
   ]
  },
  {
   "cell_type": "code",
   "execution_count": null,
   "id": "2e679f60",
   "metadata": {},
   "outputs": [
    {
     "name": "stdout",
     "output_type": "stream",
     "text": [
      "Epoch 1/100\n"
     ]
    }
   ],
   "source": [
    "EPOCHS=100\n",
    "history = model.fit(data_train, epochs=EPOCHS, callbacks=[checkpoint_callback])"
   ]
  },
  {
   "cell_type": "markdown",
   "id": "e1c15f86",
   "metadata": {},
   "source": [
    "# Predicting"
   ]
  },
  {
   "cell_type": "code",
   "execution_count": null,
   "id": "be6e138c",
   "metadata": {},
   "outputs": [],
   "source": [
    "model = built_model(cellType, vocab_size, embedding_dim, rnn_units, BATCH_SIZE)\n",
    "lstm_model = build_model_lstm(vocab_size, embedding_dim, rnn_units, batch_size=1)\n",
    "lstm_model.load_weights(tf.train.latest_checkpoint(lstm_dir_checkpoints))\n",
    "lstm_model.build(tf.TensorShape([1, None]))\n",
    "\n",
    "lstm_model.summary()"
   ]
  },
  {
   "cell_type": "code",
   "execution_count": null,
   "id": "70818e21",
   "metadata": {},
   "outputs": [],
   "source": [
    "\n",
    "\n",
    "\n",
    "\n",
    "\n",
    "\n",
    "\n",
    "\n",
    "\n",
    "\n",
    "def print_data(data,number,dict_char):\n",
    "    for input_example, target_example in data.take(number):\n",
    "        print('Input data: ', repr(''.join(i2c(input_example.numpy(), dict_char))))\n",
    "        print('Target data:', repr(''.join(i2c(target_example.numpy(), dict_char))))\n",
    "\n",
    "# correct solution:\n",
    "def softmax(x):\n",
    "    \"\"\"Compute softmax values for each sets of scores in x.\"\"\"\n",
    "    e_x = np.exp(x - np.max(x))\n",
    "    return e_x / e_x.sum(axis=0)\n",
    "\n",
    "\n",
    "\n",
    "\n",
    "def lossValue(labels, predicted,batch_size,seq_len):\n",
    "    predictedLabel = np.argmax(predicted, axis=2)\n",
    "    loss = 0\n",
    "    BATCH_SIZE = batch_size\n",
    "    seq_len = seq_len\n",
    "\n",
    "    for i in range(BATCH_SIZE):\n",
    "        for s in range(seq_len):\n",
    "            predicted[i, s] = softmax(predicted[i, s])\n",
    "            loss += np.log(predicted[i, s, labels[i, s]])\n",
    "\n",
    "    return -loss / (BATCH_SIZE * seq_len)\n",
    "\n"
   ]
  }
 ],
 "metadata": {
  "kernelspec": {
   "display_name": "Internship",
   "language": "python",
   "name": "internship"
  },
  "language_info": {
   "codemirror_mode": {
    "name": "ipython",
    "version": 3
   },
   "file_extension": ".py",
   "mimetype": "text/x-python",
   "name": "python",
   "nbconvert_exporter": "python",
   "pygments_lexer": "ipython3",
   "version": "3.9.6"
  }
 },
 "nbformat": 4,
 "nbformat_minor": 5
}
