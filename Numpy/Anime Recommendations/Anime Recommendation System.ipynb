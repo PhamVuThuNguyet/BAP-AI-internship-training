{
 "cells": [
  {
   "cell_type": "code",
   "execution_count": 71,
   "id": "e8453f5f",
   "metadata": {},
   "outputs": [],
   "source": [
    "# import required libraries\n",
    "import numpy as np\n",
    "import pandas as pd\n",
    "from sklearn.model_selection import train_test_split"
   ]
  },
  {
   "cell_type": "code",
   "execution_count": 72,
   "id": "fe6e3bdb",
   "metadata": {},
   "outputs": [],
   "source": [
    "# load in the data\n",
    "# the anime dataset\n",
    "anime = pd.read_csv(\"anime.csv\")\n",
    "\n",
    "# the users rating dataset\n",
    "user_ratings = pd.read_csv(\"rating.csv\")"
   ]
  },
  {
   "cell_type": "code",
   "execution_count": 73,
   "id": "dfdc848a",
   "metadata": {},
   "outputs": [],
   "source": [
    "# replaing the -1's in user_rating.rating with np.nan\n",
    "user_ratings.loc[user_ratings.rating == -1, \"rating\"] = np.nan"
   ]
  },
  {
   "cell_type": "code",
   "execution_count": 74,
   "id": "c60fac6f",
   "metadata": {},
   "outputs": [
    {
     "data": {
      "text/plain": [
       "user_id     0.000000\n",
       "anime_id    0.000000\n",
       "rating      0.188962\n",
       "dtype: float64"
      ]
     },
     "execution_count": 74,
     "metadata": {},
     "output_type": "execute_result"
    }
   ],
   "source": [
    "# number of mising values in user_rating\n",
    "user_ratings.isnull().mean() # ~18.9%"
   ]
  },
  {
   "cell_type": "code",
   "execution_count": 75,
   "id": "5e8e774d",
   "metadata": {},
   "outputs": [
    {
     "data": {
      "text/plain": [
       "anime_id    0.000000\n",
       "name        0.000000\n",
       "genre       0.005043\n",
       "type        0.002034\n",
       "episodes    0.000000\n",
       "rating      0.018708\n",
       "members     0.000000\n",
       "dtype: float64"
      ]
     },
     "execution_count": 75,
     "metadata": {},
     "output_type": "execute_result"
    }
   ],
   "source": [
    "#number of missing values in anime\n",
    "anime.isnull().mean()"
   ]
  },
  {
   "cell_type": "code",
   "execution_count": 76,
   "id": "e8e23689",
   "metadata": {},
   "outputs": [],
   "source": [
    "# merging anime and user_ratings\n",
    "user_ratings = pd.merge(user_ratings, anime, on = \"anime_id\")"
   ]
  },
  {
   "cell_type": "code",
   "execution_count": 77,
   "id": "64b24d1a",
   "metadata": {},
   "outputs": [
    {
     "data": {
      "text/plain": [
       "Index(['user_id', 'anime_id', 'rating_x', 'name', 'genre', 'type', 'episodes',\n",
       "       'rating_y', 'members'],\n",
       "      dtype='object')"
      ]
     },
     "execution_count": 77,
     "metadata": {},
     "output_type": "execute_result"
    }
   ],
   "source": [
    "user_ratings.columns"
   ]
  },
  {
   "cell_type": "code",
   "execution_count": 78,
   "id": "f765c9ef",
   "metadata": {},
   "outputs": [],
   "source": [
    "user_ratings.fillna(0, inplace = True)"
   ]
  },
  {
   "cell_type": "code",
   "execution_count": 79,
   "id": "c04702f4",
   "metadata": {},
   "outputs": [
    {
     "data": {
      "text/plain": [
       "user_id     0.0\n",
       "anime_id    0.0\n",
       "rating_x    0.0\n",
       "name        0.0\n",
       "genre       0.0\n",
       "type        0.0\n",
       "episodes    0.0\n",
       "rating_y    0.0\n",
       "members     0.0\n",
       "dtype: float64"
      ]
     },
     "execution_count": 79,
     "metadata": {},
     "output_type": "execute_result"
    }
   ],
   "source": [
    "user_ratings.isnull().mean()"
   ]
  },
  {
   "cell_type": "code",
   "execution_count": 80,
   "id": "de65f57c",
   "metadata": {},
   "outputs": [],
   "source": [
    "# dropping the unnecessary columns\n",
    "user_ratings.drop([\"genre\", \"type\", \"episodes\", \"rating_y\", \"members\"], axis = 1, inplace = True)\n",
    "#rename\n",
    "user_ratings.rename(columns = {\"rating_x\": \"rating\"}, inplace = True)\n",
    "user_ratings.rename(columns = {\"name\": \"anime_name\"}, inplace = True)"
   ]
  },
  {
   "cell_type": "code",
   "execution_count": 81,
   "id": "95f7fe6b",
   "metadata": {},
   "outputs": [
    {
     "data": {
      "text/plain": [
       "Index(['user_id', 'anime_id', 'rating', 'anime_name'], dtype='object')"
      ]
     },
     "execution_count": 81,
     "metadata": {},
     "output_type": "execute_result"
    }
   ],
   "source": [
    "user_ratings.columns #check"
   ]
  },
  {
   "cell_type": "code",
   "execution_count": 82,
   "id": "5449af39",
   "metadata": {},
   "outputs": [
    {
     "data": {
      "text/plain": [
       "7813727"
      ]
     },
     "execution_count": 82,
     "metadata": {},
     "output_type": "execute_result"
    }
   ],
   "source": [
    "len(user_ratings)"
   ]
  },
  {
   "cell_type": "code",
   "execution_count": 83,
   "id": "f62485bd",
   "metadata": {},
   "outputs": [
    {
     "data": {
      "text/html": [
       "<div>\n",
       "<style scoped>\n",
       "    .dataframe tbody tr th:only-of-type {\n",
       "        vertical-align: middle;\n",
       "    }\n",
       "\n",
       "    .dataframe tbody tr th {\n",
       "        vertical-align: top;\n",
       "    }\n",
       "\n",
       "    .dataframe thead th {\n",
       "        text-align: right;\n",
       "    }\n",
       "</style>\n",
       "<table border=\"1\" class=\"dataframe\">\n",
       "  <thead>\n",
       "    <tr style=\"text-align: right;\">\n",
       "      <th></th>\n",
       "      <th>user_id</th>\n",
       "      <th>anime_id</th>\n",
       "      <th>rating</th>\n",
       "      <th>anime_name</th>\n",
       "    </tr>\n",
       "  </thead>\n",
       "  <tbody>\n",
       "    <tr>\n",
       "      <th>0</th>\n",
       "      <td>1</td>\n",
       "      <td>20</td>\n",
       "      <td>0.0</td>\n",
       "      <td>Naruto</td>\n",
       "    </tr>\n",
       "    <tr>\n",
       "      <th>1</th>\n",
       "      <td>3</td>\n",
       "      <td>20</td>\n",
       "      <td>8.0</td>\n",
       "      <td>Naruto</td>\n",
       "    </tr>\n",
       "    <tr>\n",
       "      <th>2</th>\n",
       "      <td>5</td>\n",
       "      <td>20</td>\n",
       "      <td>6.0</td>\n",
       "      <td>Naruto</td>\n",
       "    </tr>\n",
       "    <tr>\n",
       "      <th>3</th>\n",
       "      <td>6</td>\n",
       "      <td>20</td>\n",
       "      <td>0.0</td>\n",
       "      <td>Naruto</td>\n",
       "    </tr>\n",
       "    <tr>\n",
       "      <th>4</th>\n",
       "      <td>10</td>\n",
       "      <td>20</td>\n",
       "      <td>0.0</td>\n",
       "      <td>Naruto</td>\n",
       "    </tr>\n",
       "  </tbody>\n",
       "</table>\n",
       "</div>"
      ],
      "text/plain": [
       "   user_id  anime_id  rating anime_name\n",
       "0        1        20     0.0     Naruto\n",
       "1        3        20     8.0     Naruto\n",
       "2        5        20     6.0     Naruto\n",
       "3        6        20     0.0     Naruto\n",
       "4       10        20     0.0     Naruto"
      ]
     },
     "execution_count": 83,
     "metadata": {},
     "output_type": "execute_result"
    }
   ],
   "source": [
    "user_ratings.head()"
   ]
  },
  {
   "cell_type": "code",
   "execution_count": 84,
   "id": "a7e0ea01",
   "metadata": {},
   "outputs": [],
   "source": [
    "user_ratings = user_ratings[user_ratings.user_id <= 1000]"
   ]
  },
  {
   "cell_type": "code",
   "execution_count": 85,
   "id": "89cff097",
   "metadata": {},
   "outputs": [
    {
     "data": {
      "text/plain": [
       "96479"
      ]
     },
     "execution_count": 85,
     "metadata": {},
     "output_type": "execute_result"
    }
   ],
   "source": [
    "len(user_ratings)"
   ]
  },
  {
   "cell_type": "code",
   "execution_count": 86,
   "id": "b2e26cb2",
   "metadata": {},
   "outputs": [
    {
     "data": {
      "text/html": [
       "<div>\n",
       "<style scoped>\n",
       "    .dataframe tbody tr th:only-of-type {\n",
       "        vertical-align: middle;\n",
       "    }\n",
       "\n",
       "    .dataframe tbody tr th {\n",
       "        vertical-align: top;\n",
       "    }\n",
       "\n",
       "    .dataframe thead th {\n",
       "        text-align: right;\n",
       "    }\n",
       "</style>\n",
       "<table border=\"1\" class=\"dataframe\">\n",
       "  <thead>\n",
       "    <tr style=\"text-align: right;\">\n",
       "      <th></th>\n",
       "      <th>user_id</th>\n",
       "      <th>anime_id</th>\n",
       "      <th>rating</th>\n",
       "      <th>anime_name</th>\n",
       "    </tr>\n",
       "  </thead>\n",
       "  <tbody>\n",
       "    <tr>\n",
       "      <th>0</th>\n",
       "      <td>1</td>\n",
       "      <td>20</td>\n",
       "      <td>0.0</td>\n",
       "      <td>Naruto</td>\n",
       "    </tr>\n",
       "    <tr>\n",
       "      <th>25925</th>\n",
       "      <td>1</td>\n",
       "      <td>24</td>\n",
       "      <td>0.0</td>\n",
       "      <td>School Rumble</td>\n",
       "    </tr>\n",
       "    <tr>\n",
       "      <th>33078</th>\n",
       "      <td>1</td>\n",
       "      <td>79</td>\n",
       "      <td>0.0</td>\n",
       "      <td>Shuffle!</td>\n",
       "    </tr>\n",
       "    <tr>\n",
       "      <th>40190</th>\n",
       "      <td>1</td>\n",
       "      <td>226</td>\n",
       "      <td>0.0</td>\n",
       "      <td>Elfen Lied</td>\n",
       "    </tr>\n",
       "    <tr>\n",
       "      <th>67696</th>\n",
       "      <td>1</td>\n",
       "      <td>241</td>\n",
       "      <td>0.0</td>\n",
       "      <td>Girls Bravo: First Season</td>\n",
       "    </tr>\n",
       "  </tbody>\n",
       "</table>\n",
       "</div>"
      ],
      "text/plain": [
       "       user_id  anime_id  rating                 anime_name\n",
       "0            1        20     0.0                     Naruto\n",
       "25925        1        24     0.0              School Rumble\n",
       "33078        1        79     0.0                   Shuffle!\n",
       "40190        1       226     0.0                 Elfen Lied\n",
       "67696        1       241     0.0  Girls Bravo: First Season"
      ]
     },
     "execution_count": 86,
     "metadata": {},
     "output_type": "execute_result"
    }
   ],
   "source": [
    "user_ratings = user_ratings.sort_values(by=['user_id', 'anime_id'])\n",
    "user_ratings.head()"
   ]
  },
  {
   "cell_type": "code",
   "execution_count": 87,
   "id": "e2b0113c",
   "metadata": {},
   "outputs": [
    {
     "data": {
      "text/plain": [
       "96479"
      ]
     },
     "execution_count": 87,
     "metadata": {},
     "output_type": "execute_result"
    }
   ],
   "source": [
    "user_ratings.shape[0]"
   ]
  },
  {
   "cell_type": "code",
   "execution_count": 88,
   "id": "84aba4cd",
   "metadata": {},
   "outputs": [
    {
     "data": {
      "text/html": [
       "<div>\n",
       "<style scoped>\n",
       "    .dataframe tbody tr th:only-of-type {\n",
       "        vertical-align: middle;\n",
       "    }\n",
       "\n",
       "    .dataframe tbody tr th {\n",
       "        vertical-align: top;\n",
       "    }\n",
       "\n",
       "    .dataframe thead th {\n",
       "        text-align: right;\n",
       "    }\n",
       "</style>\n",
       "<table border=\"1\" class=\"dataframe\">\n",
       "  <thead>\n",
       "    <tr style=\"text-align: right;\">\n",
       "      <th></th>\n",
       "      <th>user_id</th>\n",
       "      <th>anime_id</th>\n",
       "      <th>rating</th>\n",
       "    </tr>\n",
       "  </thead>\n",
       "  <tbody>\n",
       "    <tr>\n",
       "      <th>count</th>\n",
       "      <td>96479.000000</td>\n",
       "      <td>96479.000000</td>\n",
       "      <td>96479.000000</td>\n",
       "    </tr>\n",
       "    <tr>\n",
       "      <th>mean</th>\n",
       "      <td>511.330372</td>\n",
       "      <td>10864.815794</td>\n",
       "      <td>6.343515</td>\n",
       "    </tr>\n",
       "    <tr>\n",
       "      <th>std</th>\n",
       "      <td>279.701931</td>\n",
       "      <td>9117.207645</td>\n",
       "      <td>3.391450</td>\n",
       "    </tr>\n",
       "    <tr>\n",
       "      <th>min</th>\n",
       "      <td>1.000000</td>\n",
       "      <td>1.000000</td>\n",
       "      <td>0.000000</td>\n",
       "    </tr>\n",
       "    <tr>\n",
       "      <th>25%</th>\n",
       "      <td>285.000000</td>\n",
       "      <td>2472.000000</td>\n",
       "      <td>6.000000</td>\n",
       "    </tr>\n",
       "    <tr>\n",
       "      <th>50%</th>\n",
       "      <td>510.000000</td>\n",
       "      <td>9656.000000</td>\n",
       "      <td>8.000000</td>\n",
       "    </tr>\n",
       "    <tr>\n",
       "      <th>75%</th>\n",
       "      <td>754.000000</td>\n",
       "      <td>16762.000000</td>\n",
       "      <td>9.000000</td>\n",
       "    </tr>\n",
       "    <tr>\n",
       "      <th>max</th>\n",
       "      <td>1000.000000</td>\n",
       "      <td>34240.000000</td>\n",
       "      <td>10.000000</td>\n",
       "    </tr>\n",
       "  </tbody>\n",
       "</table>\n",
       "</div>"
      ],
      "text/plain": [
       "            user_id      anime_id        rating\n",
       "count  96479.000000  96479.000000  96479.000000\n",
       "mean     511.330372  10864.815794      6.343515\n",
       "std      279.701931   9117.207645      3.391450\n",
       "min        1.000000      1.000000      0.000000\n",
       "25%      285.000000   2472.000000      6.000000\n",
       "50%      510.000000   9656.000000      8.000000\n",
       "75%      754.000000  16762.000000      9.000000\n",
       "max     1000.000000  34240.000000     10.000000"
      ]
     },
     "execution_count": 88,
     "metadata": {},
     "output_type": "execute_result"
    }
   ],
   "source": [
    "user_ratings.describe()"
   ]
  },
  {
   "cell_type": "code",
   "execution_count": 89,
   "id": "2a09b9f7",
   "metadata": {},
   "outputs": [
    {
     "data": {
      "text/plain": [
       "{'divide': 'raise', 'over': 'raise', 'under': 'raise', 'invalid': 'raise'}"
      ]
     },
     "execution_count": 89,
     "metadata": {},
     "output_type": "execute_result"
    }
   ],
   "source": [
    "# setting to raise exceptions\n",
    "np.seterr(all = \"raise\")"
   ]
  },
  {
   "cell_type": "code",
   "execution_count": 90,
   "id": "8364cf49",
   "metadata": {},
   "outputs": [],
   "source": [
    "#split 70-30 for training - testing set\n",
    "train_df, valid_df = train_test_split(user_ratings, test_size=0.3)\n",
    "\n",
    "#resetting indices to avoid indexing errors in the future\n",
    "train_df = train_df.reset_index()[['user_id', 'anime_id', 'rating', 'anime_name']]\n",
    "valid_df = valid_df.reset_index()[['user_id', 'anime_id', 'rating', 'anime_name']]"
   ]
  },
  {
   "cell_type": "code",
   "execution_count": 91,
   "id": "9ff172b6",
   "metadata": {},
   "outputs": [
    {
     "data": {
      "text/html": [
       "<div>\n",
       "<style scoped>\n",
       "    .dataframe tbody tr th:only-of-type {\n",
       "        vertical-align: middle;\n",
       "    }\n",
       "\n",
       "    .dataframe tbody tr th {\n",
       "        vertical-align: top;\n",
       "    }\n",
       "\n",
       "    .dataframe thead th {\n",
       "        text-align: right;\n",
       "    }\n",
       "</style>\n",
       "<table border=\"1\" class=\"dataframe\">\n",
       "  <thead>\n",
       "    <tr style=\"text-align: right;\">\n",
       "      <th></th>\n",
       "      <th>user_id</th>\n",
       "      <th>anime_id</th>\n",
       "      <th>rating</th>\n",
       "      <th>anime_name</th>\n",
       "    </tr>\n",
       "  </thead>\n",
       "  <tbody>\n",
       "    <tr>\n",
       "      <th>0</th>\n",
       "      <td>183</td>\n",
       "      <td>30276</td>\n",
       "      <td>8.0</td>\n",
       "      <td>One Punch Man</td>\n",
       "    </tr>\n",
       "    <tr>\n",
       "      <th>1</th>\n",
       "      <td>127</td>\n",
       "      <td>813</td>\n",
       "      <td>9.0</td>\n",
       "      <td>Dragon Ball Z</td>\n",
       "    </tr>\n",
       "    <tr>\n",
       "      <th>2</th>\n",
       "      <td>455</td>\n",
       "      <td>1681</td>\n",
       "      <td>8.0</td>\n",
       "      <td>Brave Story</td>\n",
       "    </tr>\n",
       "    <tr>\n",
       "      <th>3</th>\n",
       "      <td>562</td>\n",
       "      <td>457</td>\n",
       "      <td>10.0</td>\n",
       "      <td>Mushishi</td>\n",
       "    </tr>\n",
       "    <tr>\n",
       "      <th>4</th>\n",
       "      <td>470</td>\n",
       "      <td>523</td>\n",
       "      <td>0.0</td>\n",
       "      <td>Tonari no Totoro</td>\n",
       "    </tr>\n",
       "  </tbody>\n",
       "</table>\n",
       "</div>"
      ],
      "text/plain": [
       "   user_id  anime_id  rating        anime_name\n",
       "0      183     30276     8.0     One Punch Man\n",
       "1      127       813     9.0     Dragon Ball Z\n",
       "2      455      1681     8.0       Brave Story\n",
       "3      562       457    10.0          Mushishi\n",
       "4      470       523     0.0  Tonari no Totoro"
      ]
     },
     "execution_count": 91,
     "metadata": {},
     "output_type": "execute_result"
    }
   ],
   "source": [
    "train_df.head()"
   ]
  },
  {
   "cell_type": "code",
   "execution_count": 92,
   "id": "272591c6",
   "metadata": {},
   "outputs": [
    {
     "data": {
      "text/html": [
       "<div>\n",
       "<style scoped>\n",
       "    .dataframe tbody tr th:only-of-type {\n",
       "        vertical-align: middle;\n",
       "    }\n",
       "\n",
       "    .dataframe tbody tr th {\n",
       "        vertical-align: top;\n",
       "    }\n",
       "\n",
       "    .dataframe thead th {\n",
       "        text-align: right;\n",
       "    }\n",
       "</style>\n",
       "<table border=\"1\" class=\"dataframe\">\n",
       "  <thead>\n",
       "    <tr style=\"text-align: right;\">\n",
       "      <th></th>\n",
       "      <th>user_id</th>\n",
       "      <th>anime_id</th>\n",
       "      <th>rating</th>\n",
       "      <th>anime_name</th>\n",
       "    </tr>\n",
       "  </thead>\n",
       "  <tbody>\n",
       "    <tr>\n",
       "      <th>33719</th>\n",
       "      <td>1</td>\n",
       "      <td>20</td>\n",
       "      <td>0.0</td>\n",
       "      <td>Naruto</td>\n",
       "    </tr>\n",
       "    <tr>\n",
       "      <th>33146</th>\n",
       "      <td>1</td>\n",
       "      <td>79</td>\n",
       "      <td>0.0</td>\n",
       "      <td>Shuffle!</td>\n",
       "    </tr>\n",
       "    <tr>\n",
       "      <th>44275</th>\n",
       "      <td>1</td>\n",
       "      <td>226</td>\n",
       "      <td>0.0</td>\n",
       "      <td>Elfen Lied</td>\n",
       "    </tr>\n",
       "    <tr>\n",
       "      <th>22115</th>\n",
       "      <td>1</td>\n",
       "      <td>241</td>\n",
       "      <td>0.0</td>\n",
       "      <td>Girls Bravo: First Season</td>\n",
       "    </tr>\n",
       "    <tr>\n",
       "      <th>40234</th>\n",
       "      <td>1</td>\n",
       "      <td>356</td>\n",
       "      <td>0.0</td>\n",
       "      <td>Fate/stay night</td>\n",
       "    </tr>\n",
       "  </tbody>\n",
       "</table>\n",
       "</div>"
      ],
      "text/plain": [
       "       user_id  anime_id  rating                 anime_name\n",
       "33719        1        20     0.0                     Naruto\n",
       "33146        1        79     0.0                   Shuffle!\n",
       "44275        1       226     0.0                 Elfen Lied\n",
       "22115        1       241     0.0  Girls Bravo: First Season\n",
       "40234        1       356     0.0            Fate/stay night"
      ]
     },
     "execution_count": 92,
     "metadata": {},
     "output_type": "execute_result"
    }
   ],
   "source": [
    "train_df = train_df.sort_values(by=['user_id', 'anime_id'])\n",
    "train_df.head()"
   ]
  },
  {
   "cell_type": "code",
   "execution_count": 93,
   "id": "0501e2c3",
   "metadata": {},
   "outputs": [
    {
     "data": {
      "text/html": [
       "<div>\n",
       "<style scoped>\n",
       "    .dataframe tbody tr th:only-of-type {\n",
       "        vertical-align: middle;\n",
       "    }\n",
       "\n",
       "    .dataframe tbody tr th {\n",
       "        vertical-align: top;\n",
       "    }\n",
       "\n",
       "    .dataframe thead th {\n",
       "        text-align: right;\n",
       "    }\n",
       "</style>\n",
       "<table border=\"1\" class=\"dataframe\">\n",
       "  <thead>\n",
       "    <tr style=\"text-align: right;\">\n",
       "      <th></th>\n",
       "      <th>user_id</th>\n",
       "      <th>anime_id</th>\n",
       "      <th>rating</th>\n",
       "    </tr>\n",
       "  </thead>\n",
       "  <tbody>\n",
       "    <tr>\n",
       "      <th>count</th>\n",
       "      <td>67535.000000</td>\n",
       "      <td>67535.000000</td>\n",
       "      <td>67535.000000</td>\n",
       "    </tr>\n",
       "    <tr>\n",
       "      <th>mean</th>\n",
       "      <td>510.765559</td>\n",
       "      <td>10836.002576</td>\n",
       "      <td>6.356793</td>\n",
       "    </tr>\n",
       "    <tr>\n",
       "      <th>std</th>\n",
       "      <td>279.906755</td>\n",
       "      <td>9094.935141</td>\n",
       "      <td>3.383208</td>\n",
       "    </tr>\n",
       "    <tr>\n",
       "      <th>min</th>\n",
       "      <td>1.000000</td>\n",
       "      <td>1.000000</td>\n",
       "      <td>0.000000</td>\n",
       "    </tr>\n",
       "    <tr>\n",
       "      <th>25%</th>\n",
       "      <td>282.000000</td>\n",
       "      <td>2472.000000</td>\n",
       "      <td>6.000000</td>\n",
       "    </tr>\n",
       "    <tr>\n",
       "      <th>50%</th>\n",
       "      <td>508.000000</td>\n",
       "      <td>9591.000000</td>\n",
       "      <td>8.000000</td>\n",
       "    </tr>\n",
       "    <tr>\n",
       "      <th>75%</th>\n",
       "      <td>753.000000</td>\n",
       "      <td>16742.000000</td>\n",
       "      <td>9.000000</td>\n",
       "    </tr>\n",
       "    <tr>\n",
       "      <th>max</th>\n",
       "      <td>1000.000000</td>\n",
       "      <td>34240.000000</td>\n",
       "      <td>10.000000</td>\n",
       "    </tr>\n",
       "  </tbody>\n",
       "</table>\n",
       "</div>"
      ],
      "text/plain": [
       "            user_id      anime_id        rating\n",
       "count  67535.000000  67535.000000  67535.000000\n",
       "mean     510.765559  10836.002576      6.356793\n",
       "std      279.906755   9094.935141      3.383208\n",
       "min        1.000000      1.000000      0.000000\n",
       "25%      282.000000   2472.000000      6.000000\n",
       "50%      508.000000   9591.000000      8.000000\n",
       "75%      753.000000  16742.000000      9.000000\n",
       "max     1000.000000  34240.000000     10.000000"
      ]
     },
     "execution_count": 93,
     "metadata": {},
     "output_type": "execute_result"
    }
   ],
   "source": [
    "train_df.describe()"
   ]
  },
  {
   "cell_type": "code",
   "execution_count": 94,
   "id": "35d97448",
   "metadata": {},
   "outputs": [
    {
     "data": {
      "text/plain": [
       "Index(['user_id', 'anime_id', 'rating', 'anime_name'], dtype='object')"
      ]
     },
     "execution_count": 94,
     "metadata": {},
     "output_type": "execute_result"
    }
   ],
   "source": [
    "train_df.columns"
   ]
  },
  {
   "cell_type": "code",
   "execution_count": 95,
   "id": "02348c16",
   "metadata": {},
   "outputs": [
    {
     "data": {
      "text/plain": [
       "Index(['user_id', 'anime_id', 'rating', 'anime_name'], dtype='object')"
      ]
     },
     "execution_count": 95,
     "metadata": {},
     "output_type": "execute_result"
    }
   ],
   "source": [
    "valid_df.columns"
   ]
  },
  {
   "cell_type": "code",
   "execution_count": 96,
   "id": "96cd5404",
   "metadata": {},
   "outputs": [
    {
     "data": {
      "text/html": [
       "<div>\n",
       "<style scoped>\n",
       "    .dataframe tbody tr th:only-of-type {\n",
       "        vertical-align: middle;\n",
       "    }\n",
       "\n",
       "    .dataframe tbody tr th {\n",
       "        vertical-align: top;\n",
       "    }\n",
       "\n",
       "    .dataframe thead th {\n",
       "        text-align: right;\n",
       "    }\n",
       "</style>\n",
       "<table border=\"1\" class=\"dataframe\">\n",
       "  <thead>\n",
       "    <tr style=\"text-align: right;\">\n",
       "      <th></th>\n",
       "      <th>user_id</th>\n",
       "      <th>anime_id</th>\n",
       "      <th>rating</th>\n",
       "      <th>anime_name</th>\n",
       "    </tr>\n",
       "  </thead>\n",
       "  <tbody>\n",
       "    <tr>\n",
       "      <th>0</th>\n",
       "      <td>656</td>\n",
       "      <td>9919</td>\n",
       "      <td>7.0</td>\n",
       "      <td>Ao no Exorcist</td>\n",
       "    </tr>\n",
       "    <tr>\n",
       "      <th>1</th>\n",
       "      <td>207</td>\n",
       "      <td>14345</td>\n",
       "      <td>0.0</td>\n",
       "      <td>Btooom!</td>\n",
       "    </tr>\n",
       "    <tr>\n",
       "      <th>2</th>\n",
       "      <td>382</td>\n",
       "      <td>2889</td>\n",
       "      <td>5.0</td>\n",
       "      <td>Bleach Movie 2: The DiamondDust Rebellion - Mo...</td>\n",
       "    </tr>\n",
       "    <tr>\n",
       "      <th>3</th>\n",
       "      <td>807</td>\n",
       "      <td>1030</td>\n",
       "      <td>10.0</td>\n",
       "      <td>Heisei Tanuki Gassen Ponpoko</td>\n",
       "    </tr>\n",
       "    <tr>\n",
       "      <th>4</th>\n",
       "      <td>54</td>\n",
       "      <td>30549</td>\n",
       "      <td>0.0</td>\n",
       "      <td>Soukyuu no Fafner: Dead Aggressor - Exodus 2nd...</td>\n",
       "    </tr>\n",
       "  </tbody>\n",
       "</table>\n",
       "</div>"
      ],
      "text/plain": [
       "   user_id  anime_id  rating  \\\n",
       "0      656      9919     7.0   \n",
       "1      207     14345     0.0   \n",
       "2      382      2889     5.0   \n",
       "3      807      1030    10.0   \n",
       "4       54     30549     0.0   \n",
       "\n",
       "                                          anime_name  \n",
       "0                                     Ao no Exorcist  \n",
       "1                                            Btooom!  \n",
       "2  Bleach Movie 2: The DiamondDust Rebellion - Mo...  \n",
       "3                       Heisei Tanuki Gassen Ponpoko  \n",
       "4  Soukyuu no Fafner: Dead Aggressor - Exodus 2nd...  "
      ]
     },
     "execution_count": 96,
     "metadata": {},
     "output_type": "execute_result"
    }
   ],
   "source": [
    "valid_df.head()"
   ]
  },
  {
   "cell_type": "code",
   "execution_count": 97,
   "id": "6aebe270",
   "metadata": {},
   "outputs": [
    {
     "data": {
      "text/html": [
       "<div>\n",
       "<style scoped>\n",
       "    .dataframe tbody tr th:only-of-type {\n",
       "        vertical-align: middle;\n",
       "    }\n",
       "\n",
       "    .dataframe tbody tr th {\n",
       "        vertical-align: top;\n",
       "    }\n",
       "\n",
       "    .dataframe thead th {\n",
       "        text-align: right;\n",
       "    }\n",
       "</style>\n",
       "<table border=\"1\" class=\"dataframe\">\n",
       "  <thead>\n",
       "    <tr style=\"text-align: right;\">\n",
       "      <th></th>\n",
       "      <th>user_id</th>\n",
       "      <th>anime_id</th>\n",
       "      <th>rating</th>\n",
       "      <th>anime_name</th>\n",
       "    </tr>\n",
       "  </thead>\n",
       "  <tbody>\n",
       "    <tr>\n",
       "      <th>5974</th>\n",
       "      <td>1</td>\n",
       "      <td>24</td>\n",
       "      <td>0.0</td>\n",
       "      <td>School Rumble</td>\n",
       "    </tr>\n",
       "    <tr>\n",
       "      <th>21411</th>\n",
       "      <td>1</td>\n",
       "      <td>355</td>\n",
       "      <td>0.0</td>\n",
       "      <td>Shakugan no Shana</td>\n",
       "    </tr>\n",
       "    <tr>\n",
       "      <th>16840</th>\n",
       "      <td>1</td>\n",
       "      <td>442</td>\n",
       "      <td>0.0</td>\n",
       "      <td>Naruto Movie 1: Dai Katsugeki!! Yuki Hime Shin...</td>\n",
       "    </tr>\n",
       "    <tr>\n",
       "      <th>14553</th>\n",
       "      <td>1</td>\n",
       "      <td>2025</td>\n",
       "      <td>0.0</td>\n",
       "      <td>Darker than Black: Kuro no Keiyakusha</td>\n",
       "    </tr>\n",
       "    <tr>\n",
       "      <th>26726</th>\n",
       "      <td>1</td>\n",
       "      <td>2144</td>\n",
       "      <td>0.0</td>\n",
       "      <td>Naruto Movie 3: Dai Koufun! Mikazuki Jima no A...</td>\n",
       "    </tr>\n",
       "  </tbody>\n",
       "</table>\n",
       "</div>"
      ],
      "text/plain": [
       "       user_id  anime_id  rating  \\\n",
       "5974         1        24     0.0   \n",
       "21411        1       355     0.0   \n",
       "16840        1       442     0.0   \n",
       "14553        1      2025     0.0   \n",
       "26726        1      2144     0.0   \n",
       "\n",
       "                                              anime_name  \n",
       "5974                                       School Rumble  \n",
       "21411                                  Shakugan no Shana  \n",
       "16840  Naruto Movie 1: Dai Katsugeki!! Yuki Hime Shin...  \n",
       "14553              Darker than Black: Kuro no Keiyakusha  \n",
       "26726  Naruto Movie 3: Dai Koufun! Mikazuki Jima no A...  "
      ]
     },
     "execution_count": 97,
     "metadata": {},
     "output_type": "execute_result"
    }
   ],
   "source": [
    "valid_df = valid_df.sort_values(by=['user_id', 'anime_id'])\n",
    "valid_df.head()"
   ]
  },
  {
   "cell_type": "code",
   "execution_count": 98,
   "id": "b6751666",
   "metadata": {},
   "outputs": [
    {
     "data": {
      "text/plain": [
       "(67535, 28944)"
      ]
     },
     "execution_count": 98,
     "metadata": {},
     "output_type": "execute_result"
    }
   ],
   "source": [
    "len(train_df), len(valid_df)"
   ]
  },
  {
   "cell_type": "code",
   "execution_count": 99,
   "id": "1429e5a0",
   "metadata": {},
   "outputs": [],
   "source": [
    "# indices start from 0\n",
    "train_df.iloc[:, :2] -= 1\n",
    "valid_df.iloc[:, :2] -= 1"
   ]
  },
  {
   "cell_type": "code",
   "execution_count": 100,
   "id": "06f7f117",
   "metadata": {},
   "outputs": [
    {
     "data": {
      "text/html": [
       "<div>\n",
       "<style scoped>\n",
       "    .dataframe tbody tr th:only-of-type {\n",
       "        vertical-align: middle;\n",
       "    }\n",
       "\n",
       "    .dataframe tbody tr th {\n",
       "        vertical-align: top;\n",
       "    }\n",
       "\n",
       "    .dataframe thead th {\n",
       "        text-align: right;\n",
       "    }\n",
       "</style>\n",
       "<table border=\"1\" class=\"dataframe\">\n",
       "  <thead>\n",
       "    <tr style=\"text-align: right;\">\n",
       "      <th></th>\n",
       "      <th>user_id</th>\n",
       "      <th>anime_id</th>\n",
       "      <th>rating</th>\n",
       "      <th>anime_name</th>\n",
       "    </tr>\n",
       "  </thead>\n",
       "  <tbody>\n",
       "    <tr>\n",
       "      <th>33719</th>\n",
       "      <td>0</td>\n",
       "      <td>19</td>\n",
       "      <td>0.0</td>\n",
       "      <td>Naruto</td>\n",
       "    </tr>\n",
       "    <tr>\n",
       "      <th>33146</th>\n",
       "      <td>0</td>\n",
       "      <td>78</td>\n",
       "      <td>0.0</td>\n",
       "      <td>Shuffle!</td>\n",
       "    </tr>\n",
       "    <tr>\n",
       "      <th>44275</th>\n",
       "      <td>0</td>\n",
       "      <td>225</td>\n",
       "      <td>0.0</td>\n",
       "      <td>Elfen Lied</td>\n",
       "    </tr>\n",
       "    <tr>\n",
       "      <th>22115</th>\n",
       "      <td>0</td>\n",
       "      <td>240</td>\n",
       "      <td>0.0</td>\n",
       "      <td>Girls Bravo: First Season</td>\n",
       "    </tr>\n",
       "    <tr>\n",
       "      <th>40234</th>\n",
       "      <td>0</td>\n",
       "      <td>355</td>\n",
       "      <td>0.0</td>\n",
       "      <td>Fate/stay night</td>\n",
       "    </tr>\n",
       "  </tbody>\n",
       "</table>\n",
       "</div>"
      ],
      "text/plain": [
       "       user_id  anime_id  rating                 anime_name\n",
       "33719        0        19     0.0                     Naruto\n",
       "33146        0        78     0.0                   Shuffle!\n",
       "44275        0       225     0.0                 Elfen Lied\n",
       "22115        0       240     0.0  Girls Bravo: First Season\n",
       "40234        0       355     0.0            Fate/stay night"
      ]
     },
     "execution_count": 100,
     "metadata": {},
     "output_type": "execute_result"
    }
   ],
   "source": [
    "train_df.head()"
   ]
  },
  {
   "cell_type": "code",
   "execution_count": 101,
   "id": "fccab8ae",
   "metadata": {},
   "outputs": [
    {
     "data": {
      "text/html": [
       "<div>\n",
       "<style scoped>\n",
       "    .dataframe tbody tr th:only-of-type {\n",
       "        vertical-align: middle;\n",
       "    }\n",
       "\n",
       "    .dataframe tbody tr th {\n",
       "        vertical-align: top;\n",
       "    }\n",
       "\n",
       "    .dataframe thead th {\n",
       "        text-align: right;\n",
       "    }\n",
       "</style>\n",
       "<table border=\"1\" class=\"dataframe\">\n",
       "  <thead>\n",
       "    <tr style=\"text-align: right;\">\n",
       "      <th></th>\n",
       "      <th>user_id</th>\n",
       "      <th>anime_id</th>\n",
       "      <th>rating</th>\n",
       "      <th>anime_name</th>\n",
       "    </tr>\n",
       "  </thead>\n",
       "  <tbody>\n",
       "    <tr>\n",
       "      <th>5974</th>\n",
       "      <td>0</td>\n",
       "      <td>23</td>\n",
       "      <td>0.0</td>\n",
       "      <td>School Rumble</td>\n",
       "    </tr>\n",
       "    <tr>\n",
       "      <th>21411</th>\n",
       "      <td>0</td>\n",
       "      <td>354</td>\n",
       "      <td>0.0</td>\n",
       "      <td>Shakugan no Shana</td>\n",
       "    </tr>\n",
       "    <tr>\n",
       "      <th>16840</th>\n",
       "      <td>0</td>\n",
       "      <td>441</td>\n",
       "      <td>0.0</td>\n",
       "      <td>Naruto Movie 1: Dai Katsugeki!! Yuki Hime Shin...</td>\n",
       "    </tr>\n",
       "    <tr>\n",
       "      <th>14553</th>\n",
       "      <td>0</td>\n",
       "      <td>2024</td>\n",
       "      <td>0.0</td>\n",
       "      <td>Darker than Black: Kuro no Keiyakusha</td>\n",
       "    </tr>\n",
       "    <tr>\n",
       "      <th>26726</th>\n",
       "      <td>0</td>\n",
       "      <td>2143</td>\n",
       "      <td>0.0</td>\n",
       "      <td>Naruto Movie 3: Dai Koufun! Mikazuki Jima no A...</td>\n",
       "    </tr>\n",
       "  </tbody>\n",
       "</table>\n",
       "</div>"
      ],
      "text/plain": [
       "       user_id  anime_id  rating  \\\n",
       "5974         0        23     0.0   \n",
       "21411        0       354     0.0   \n",
       "16840        0       441     0.0   \n",
       "14553        0      2024     0.0   \n",
       "26726        0      2143     0.0   \n",
       "\n",
       "                                              anime_name  \n",
       "5974                                       School Rumble  \n",
       "21411                                  Shakugan no Shana  \n",
       "16840  Naruto Movie 1: Dai Katsugeki!! Yuki Hime Shin...  \n",
       "14553              Darker than Black: Kuro no Keiyakusha  \n",
       "26726  Naruto Movie 3: Dai Koufun! Mikazuki Jima no A...  "
      ]
     },
     "execution_count": 101,
     "metadata": {},
     "output_type": "execute_result"
    }
   ],
   "source": [
    "valid_df.head()"
   ]
  },
  {
   "cell_type": "code",
   "execution_count": 102,
   "id": "f1eb5441",
   "metadata": {},
   "outputs": [
    {
     "data": {
      "text/plain": [
       "array([[0, 19, 0.0, 'Naruto'],\n",
       "       [0, 78, 0.0, 'Shuffle!'],\n",
       "       [0, 225, 0.0, 'Elfen Lied'],\n",
       "       ...,\n",
       "       [999, 11756, 9.0, 'Sword Art Online'],\n",
       "       [999, 12444, 10.0, 'Tasogare Otome x Amnesia'],\n",
       "       [999, 14288, 10.0, 'Sukitte Ii na yo.']], dtype=object)"
      ]
     },
     "execution_count": 102,
     "metadata": {},
     "output_type": "execute_result"
    }
   ],
   "source": [
    "# converting the dataframe into a numpy array\n",
    "train_matrix = train_df.to_numpy()\n",
    "train_matrix"
   ]
  },
  {
   "cell_type": "code",
   "execution_count": 103,
   "id": "1f6cb285",
   "metadata": {},
   "outputs": [
    {
     "data": {
      "text/plain": [
       "array([[0, 23, 0.0, 'School Rumble'],\n",
       "       [0, 354, 0.0, 'Shakugan no Shana'],\n",
       "       [0, 441, 0.0,\n",
       "        'Naruto Movie 1: Dai Katsugeki!! Yuki Hime Shinobu Houjou Dattebayo!'],\n",
       "       ...,\n",
       "       [999, 8073, 9.0, 'Highschool of the Dead'],\n",
       "       [999, 13758, 7.0, 'Sakurasou no Pet na Kanojo'],\n",
       "       [999, 14226, 10.0, 'Tonari no Kaibutsu-kun']], dtype=object)"
      ]
     },
     "execution_count": 103,
     "metadata": {},
     "output_type": "execute_result"
    }
   ],
   "source": [
    "test_matrix = valid_df.to_numpy()\n",
    "test_matrix"
   ]
  },
  {
   "cell_type": "code",
   "execution_count": 104,
   "id": "ecda1548",
   "metadata": {},
   "outputs": [],
   "source": [
    "class MF(object):\n",
    "    def __init__(self, Y, K, X=None, W=None, lambda_=0.1, alpha=0.2, epochs=200):\n",
    "        \"\"\"\n",
    "        constructor\n",
    "        :param Y: the utility matrix\n",
    "        :param K: the X columns and W rows\n",
    "        :param X: the items matrix\n",
    "        :param W: the users matrix\n",
    "        :param lambda_: regularization param of cost function to solve overFitting, default 0.1\n",
    "        :param alpha: learning rate for gradient descent, default 0.2\n",
    "        :param epochs: number of training loops, default 100\n",
    "        \"\"\"\n",
    "        self.__Y_raw_data = Y\n",
    "        # normalized data, update later in normalized_Y function\n",
    "        self.__Y = self.__Y_raw_data.copy()\n",
    "        self.__K = K\n",
    "\n",
    "        self.__lambda_ = lambda_\n",
    "        self.__alpha = alpha\n",
    "        self.__epochs = epochs\n",
    "        # number of users, items, and ratings\n",
    "        self.__users_count = int(np.max(Y[:, 0])) + 1\n",
    "        self.__items_count = int(np.max(Y[:, 1])) + 1\n",
    "        self.__ratings_count = Y.shape[0]\n",
    "        self.__mu = np.zeros(self.__users_count)\n",
    "\n",
    "        if X is None:\n",
    "            self.__X = np.random.randn(self.__items_count, K)\n",
    "        else:\n",
    "            self.__X = X\n",
    "        if W is None:\n",
    "            self.__W = np.random.randn(K, self.__users_count)\n",
    "        else:\n",
    "            self.__W = W\n",
    "\n",
    "    def __normalized(self):\n",
    "        \"\"\"\n",
    "        this method is used to normalized ratings\n",
    "        :return:\n",
    "        \"\"\"\n",
    "        mu = np.zeros(self.__users_count)\n",
    "\n",
    "        for i in range(self.__users_count):\n",
    "            indices_user_i = np.where(self.__Y_raw_data[:, 0] == i)[0].astype(np.int32)\n",
    "            ratings = []\n",
    "            for j in indices_user_i:\n",
    "                if float(self.__Y[j, 2]) != float(0):\n",
    "                    ratings.append(self.__Y[j, 2])\n",
    "            if len(ratings):\n",
    "                _mean = np.mean(ratings)\n",
    "            else:\n",
    "                _mean = 0\n",
    "            mu[i] = _mean\n",
    "            # normalized\n",
    "            if _mean != 0:\n",
    "                for j in indices_user_i:\n",
    "                    if float(self.__Y[j, 2]) != float(0):\n",
    "                        self.__Y[j, 2] -= mu[i]\n",
    "        self.__mu = mu\n",
    "\n",
    "    def __cost_function(self):\n",
    "        \"\"\"\n",
    "        this method is used to calculate the cost function\n",
    "        :return: cost function J\n",
    "        \"\"\"\n",
    "        J = 0\n",
    "        for i in range(self.__ratings_count):\n",
    "            user = int(self.__Y[i, 0])\n",
    "            item = int(self.__Y[i, 1])\n",
    "            rate = self.__Y[i, 2]\n",
    "            J += (1 / (2 * self.__ratings_count)) * np.square(rate - self.__X[item, :].dot(self.__W[:, user]))\n",
    "        # regularized\n",
    "        J += (self.__lambda_ / 2) * (\n",
    "                np.linalg.norm(self.__X, ord=\"fro\") + np.linalg.norm(self.__W, ord=\"fro\"))  # Frobenius Norm\n",
    "        return J\n",
    "\n",
    "    def __get_items_rated_by_user(self, user_id):\n",
    "        \"\"\"\n",
    "        get all items which are rated by user user_id and get the corresponding rates\n",
    "        :param user_id: id of target user\n",
    "        :return: array of item ids and ratings\n",
    "        \"\"\"\n",
    "        indices_user = np.where(self.__Y[:, 0] == user_id)[0].astype(np.int32)\n",
    "        item_ids = self.__Y[indices_user, 1].astype(np.int32)\n",
    "        ratings = self.__Y[indices_user, 2].astype(np.float32)\n",
    "        return item_ids, ratings\n",
    "\n",
    "    def __get_users_rating_item(self, item_id):\n",
    "        \"\"\"\n",
    "        get all users who rated item item_id and get the corresponding rates\n",
    "        :param item_id: id of item that need to find users who rated it\n",
    "        :return: array of user ids and ratings\n",
    "        \"\"\"\n",
    "        indices_item = np.where(self.__Y[:, 1] == item_id)[0].astype(np.int32)\n",
    "        user_ids = self.__Y[indices_item, 0].astype(np.int32)\n",
    "        ratings = self.__Y[indices_item, 2].astype(np.float32)\n",
    "        return user_ids, ratings\n",
    "\n",
    "    def __update_x(self):\n",
    "        \"\"\"\n",
    "        update rows of X matrix\n",
    "        :return:\n",
    "        \"\"\"\n",
    "        for i in range(self.__items_count):\n",
    "            user_ids, ratings = self.__get_users_rating_item(i)\n",
    "            Wi = self.__W[:, user_ids]\n",
    "            self.__X[i, :] = self.__X[i, :] - self.__alpha * (\n",
    "                        -(1 / self.__ratings_count) * ((ratings - np.dot(self.__X[i, :], Wi)).dot(Wi.T))\n",
    "                        + (self.__lambda_ * self.__X[i, :])).reshape((-1, self.__K))\n",
    "\n",
    "    def __update_w(self):\n",
    "        \"\"\"\n",
    "        update columns of W matrix\n",
    "        :return:\n",
    "        \"\"\"\n",
    "        for i in range(self.__users_count):\n",
    "            item_ids, ratings = self.__get_items_rated_by_user(i)\n",
    "            Xi = self.__X[item_ids, :]\n",
    "            self.__W[:, i] = self.__W[:, i] - self.__alpha * (\n",
    "                        -(1 / self.__ratings_count) * Xi.T.dot(ratings - Xi.dot(self.__W[:, i]))\n",
    "                        + self.__lambda_ * self.__W[:, i]).reshape((self.__K, ))\n",
    "\n",
    "    def matrix_factorization(self):\n",
    "        \"\"\"\n",
    "        implementation of matrix factorization algo\n",
    "        :return:\n",
    "        \"\"\"\n",
    "        self.__normalized()\n",
    "        for i in range(self.__epochs):\n",
    "            self.__update_x()\n",
    "            self.__update_w()\n",
    "            mse_train = self.mse_evaluate(self.__Y_raw_data)\n",
    "            print(\"epoch:\", i + 1, \"cost:\", self.__cost_function(), \"mse:\", mse_train)\n",
    "\n",
    "    def __predict(self, user_id, item_id):\n",
    "        \"\"\"\n",
    "        this method is used to make prediction about rating for item item_id of user user_id\n",
    "        :param user_id: id of user target\n",
    "        :param item_id: id of item target\n",
    "        :return: prediction\n",
    "        \"\"\"\n",
    "        pred_result = self.__X[item_id, :].dot(self.__W[:, user_id]) + self.__mu[user_id]\n",
    "        # truncate if results are out of range [0, 10]\n",
    "        if pred_result < 0:\n",
    "            return 0\n",
    "        elif pred_result > 10:\n",
    "            return 10\n",
    "        return pred_result\n",
    "\n",
    "    def mse_evaluate(self, testing_set):\n",
    "        \"\"\"\n",
    "        this method is used to evaluate the accuracy of our model using MSE\n",
    "        :param testing_set: our dataset for testing\n",
    "        :return: MSE\n",
    "        \"\"\"\n",
    "        number_of_test = testing_set.shape[0]\n",
    "        square_error = 0\n",
    "        for i in range(number_of_test):\n",
    "            prediction = self.__predict(testing_set[i, 0], testing_set[i, 1])\n",
    "            square_error += np.square(prediction - testing_set[i, 2])\n",
    "        mean_square_error = square_error / number_of_test\n",
    "        return mean_square_error\n",
    "\n",
    "    def __recommend(self, user_id):\n",
    "        \"\"\"\n",
    "        Determine all items should be recommended for user u\n",
    "        The decision is made based on all i such that:\n",
    "        self.pred(u, i) > 0. Suppose we are considering items which\n",
    "        have not been rated by u yet.\n",
    "        \"\"\"\n",
    "        indices_of_user = np.where(self.__Y[:, 0] == user_id)[0]\n",
    "        items_rated_by_user = self.__Y[indices_of_user, 1].tolist()\n",
    "        recommended_items = []\n",
    "        for i in range(self.__items_count):\n",
    "            if i not in items_rated_by_user:\n",
    "                rating = self.__predict(user_id, i)\n",
    "                if rating > 7:\n",
    "                    recommended_items.append(i)\n",
    "        return recommended_items\n",
    "\n",
    "    def print_recommendation(self, user_id):\n",
    "        \"\"\"\n",
    "        print all items which should be recommended for each user\n",
    "        \"\"\"\n",
    "        print('Recommendation: ')\n",
    "        recommended_items = self.__recommend(user_id)\n",
    "        print('Recommend item(s):', recommended_items, 'to user', user_id)\n",
    "\n"
   ]
  },
  {
   "cell_type": "code",
   "execution_count": 105,
   "id": "2ee39c7c",
   "metadata": {},
   "outputs": [
    {
     "name": "stdout",
     "output_type": "stream",
     "text": [
      "epoch: 1 cost: 38.73005362812637 mse: 14.2306641786887\n",
      "epoch: 2 cost: 37.703981773676674 mse: 13.957793630056438\n",
      "epoch: 3 cost: 36.71965179194599 mse: 13.69950309252473\n",
      "epoch: 4 cost: 35.77451016546333 mse: 13.455273852297898\n",
      "epoch: 5 cost: 34.866196357004895 mse: 13.225955953128702\n"
     ]
    },
    {
     "ename": "KeyboardInterrupt",
     "evalue": "",
     "output_type": "error",
     "traceback": [
      "\u001b[1;31m---------------------------------------------------------------------------\u001b[0m",
      "\u001b[1;31mKeyboardInterrupt\u001b[0m                         Traceback (most recent call last)",
      "\u001b[1;32m<ipython-input-105-1e38d0a1d8f4>\u001b[0m in \u001b[0;36m<module>\u001b[1;34m\u001b[0m\n\u001b[0;32m      1\u001b[0m \u001b[0mresult_train\u001b[0m \u001b[1;33m=\u001b[0m \u001b[0mMF\u001b[0m\u001b[1;33m(\u001b[0m\u001b[0mtrain_matrix\u001b[0m\u001b[1;33m,\u001b[0m \u001b[0mK\u001b[0m \u001b[1;33m=\u001b[0m \u001b[1;36m10\u001b[0m\u001b[1;33m)\u001b[0m\u001b[1;33m\u001b[0m\u001b[1;33m\u001b[0m\u001b[0m\n\u001b[1;32m----> 2\u001b[1;33m \u001b[0mresult_train\u001b[0m\u001b[1;33m.\u001b[0m\u001b[0mmatrix_factorization\u001b[0m\u001b[1;33m(\u001b[0m\u001b[1;33m)\u001b[0m\u001b[1;33m\u001b[0m\u001b[1;33m\u001b[0m\u001b[0m\n\u001b[0m\u001b[0;32m      3\u001b[0m \u001b[1;33m\u001b[0m\u001b[0m\n\u001b[0;32m      4\u001b[0m \u001b[0mtest_evaluate\u001b[0m \u001b[1;33m=\u001b[0m \u001b[0mresult_train\u001b[0m\u001b[1;33m.\u001b[0m\u001b[0mmse_evaluate\u001b[0m\u001b[1;33m(\u001b[0m\u001b[0mtest_matrix\u001b[0m\u001b[1;33m)\u001b[0m\u001b[1;33m\u001b[0m\u001b[1;33m\u001b[0m\u001b[0m\n\u001b[0;32m      5\u001b[0m \u001b[0mprint\u001b[0m\u001b[1;33m(\u001b[0m\u001b[1;34m\"Test MSE:\"\u001b[0m\u001b[1;33m,\u001b[0m \u001b[0mtest_evaluate\u001b[0m\u001b[1;33m)\u001b[0m\u001b[1;33m\u001b[0m\u001b[1;33m\u001b[0m\u001b[0m\n",
      "\u001b[1;32m<ipython-input-104-3a1fb275b55f>\u001b[0m in \u001b[0;36mmatrix_factorization\u001b[1;34m(self)\u001b[0m\n\u001b[0;32m    128\u001b[0m         \u001b[0mself\u001b[0m\u001b[1;33m.\u001b[0m\u001b[0m__normalized\u001b[0m\u001b[1;33m(\u001b[0m\u001b[1;33m)\u001b[0m\u001b[1;33m\u001b[0m\u001b[1;33m\u001b[0m\u001b[0m\n\u001b[0;32m    129\u001b[0m         \u001b[1;32mfor\u001b[0m \u001b[0mi\u001b[0m \u001b[1;32min\u001b[0m \u001b[0mrange\u001b[0m\u001b[1;33m(\u001b[0m\u001b[0mself\u001b[0m\u001b[1;33m.\u001b[0m\u001b[0m__epochs\u001b[0m\u001b[1;33m)\u001b[0m\u001b[1;33m:\u001b[0m\u001b[1;33m\u001b[0m\u001b[1;33m\u001b[0m\u001b[0m\n\u001b[1;32m--> 130\u001b[1;33m             \u001b[0mself\u001b[0m\u001b[1;33m.\u001b[0m\u001b[0m__update_x\u001b[0m\u001b[1;33m(\u001b[0m\u001b[1;33m)\u001b[0m\u001b[1;33m\u001b[0m\u001b[1;33m\u001b[0m\u001b[0m\n\u001b[0m\u001b[0;32m    131\u001b[0m             \u001b[0mself\u001b[0m\u001b[1;33m.\u001b[0m\u001b[0m__update_w\u001b[0m\u001b[1;33m(\u001b[0m\u001b[1;33m)\u001b[0m\u001b[1;33m\u001b[0m\u001b[1;33m\u001b[0m\u001b[0m\n\u001b[0;32m    132\u001b[0m             \u001b[0mmse_train\u001b[0m \u001b[1;33m=\u001b[0m \u001b[0mself\u001b[0m\u001b[1;33m.\u001b[0m\u001b[0mmse_evaluate\u001b[0m\u001b[1;33m(\u001b[0m\u001b[0mself\u001b[0m\u001b[1;33m.\u001b[0m\u001b[0m__Y_raw_data\u001b[0m\u001b[1;33m)\u001b[0m\u001b[1;33m\u001b[0m\u001b[1;33m\u001b[0m\u001b[0m\n",
      "\u001b[1;32m<ipython-input-104-3a1fb275b55f>\u001b[0m in \u001b[0;36m__update_x\u001b[1;34m(self)\u001b[0m\n\u001b[0;32m    103\u001b[0m         \"\"\"\n\u001b[0;32m    104\u001b[0m         \u001b[1;32mfor\u001b[0m \u001b[0mi\u001b[0m \u001b[1;32min\u001b[0m \u001b[0mrange\u001b[0m\u001b[1;33m(\u001b[0m\u001b[0mself\u001b[0m\u001b[1;33m.\u001b[0m\u001b[0m__items_count\u001b[0m\u001b[1;33m)\u001b[0m\u001b[1;33m:\u001b[0m\u001b[1;33m\u001b[0m\u001b[1;33m\u001b[0m\u001b[0m\n\u001b[1;32m--> 105\u001b[1;33m             \u001b[0muser_ids\u001b[0m\u001b[1;33m,\u001b[0m \u001b[0mratings\u001b[0m \u001b[1;33m=\u001b[0m \u001b[0mself\u001b[0m\u001b[1;33m.\u001b[0m\u001b[0m__get_users_rating_item\u001b[0m\u001b[1;33m(\u001b[0m\u001b[0mi\u001b[0m\u001b[1;33m)\u001b[0m\u001b[1;33m\u001b[0m\u001b[1;33m\u001b[0m\u001b[0m\n\u001b[0m\u001b[0;32m    106\u001b[0m             \u001b[0mWi\u001b[0m \u001b[1;33m=\u001b[0m \u001b[0mself\u001b[0m\u001b[1;33m.\u001b[0m\u001b[0m__W\u001b[0m\u001b[1;33m[\u001b[0m\u001b[1;33m:\u001b[0m\u001b[1;33m,\u001b[0m \u001b[0muser_ids\u001b[0m\u001b[1;33m]\u001b[0m\u001b[1;33m\u001b[0m\u001b[1;33m\u001b[0m\u001b[0m\n\u001b[0;32m    107\u001b[0m             self.__X[i, :] = self.__X[i, :] - self.__alpha * (\n",
      "\u001b[1;32m<ipython-input-104-3a1fb275b55f>\u001b[0m in \u001b[0;36m__get_users_rating_item\u001b[1;34m(self, item_id)\u001b[0m\n\u001b[0;32m     92\u001b[0m         \u001b[1;33m:\u001b[0m\u001b[1;32mreturn\u001b[0m\u001b[1;33m:\u001b[0m \u001b[0marray\u001b[0m \u001b[0mof\u001b[0m \u001b[0muser\u001b[0m \u001b[0mids\u001b[0m \u001b[1;32mand\u001b[0m \u001b[0mratings\u001b[0m\u001b[1;33m\u001b[0m\u001b[1;33m\u001b[0m\u001b[0m\n\u001b[0;32m     93\u001b[0m         \"\"\"\n\u001b[1;32m---> 94\u001b[1;33m         \u001b[0mindices_item\u001b[0m \u001b[1;33m=\u001b[0m \u001b[0mnp\u001b[0m\u001b[1;33m.\u001b[0m\u001b[0mwhere\u001b[0m\u001b[1;33m(\u001b[0m\u001b[0mself\u001b[0m\u001b[1;33m.\u001b[0m\u001b[0m__Y\u001b[0m\u001b[1;33m[\u001b[0m\u001b[1;33m:\u001b[0m\u001b[1;33m,\u001b[0m \u001b[1;36m1\u001b[0m\u001b[1;33m]\u001b[0m \u001b[1;33m==\u001b[0m \u001b[0mitem_id\u001b[0m\u001b[1;33m)\u001b[0m\u001b[1;33m[\u001b[0m\u001b[1;36m0\u001b[0m\u001b[1;33m]\u001b[0m\u001b[1;33m.\u001b[0m\u001b[0mastype\u001b[0m\u001b[1;33m(\u001b[0m\u001b[0mnp\u001b[0m\u001b[1;33m.\u001b[0m\u001b[0mint32\u001b[0m\u001b[1;33m)\u001b[0m\u001b[1;33m\u001b[0m\u001b[1;33m\u001b[0m\u001b[0m\n\u001b[0m\u001b[0;32m     95\u001b[0m         \u001b[0muser_ids\u001b[0m \u001b[1;33m=\u001b[0m \u001b[0mself\u001b[0m\u001b[1;33m.\u001b[0m\u001b[0m__Y\u001b[0m\u001b[1;33m[\u001b[0m\u001b[0mindices_item\u001b[0m\u001b[1;33m,\u001b[0m \u001b[1;36m0\u001b[0m\u001b[1;33m]\u001b[0m\u001b[1;33m.\u001b[0m\u001b[0mastype\u001b[0m\u001b[1;33m(\u001b[0m\u001b[0mnp\u001b[0m\u001b[1;33m.\u001b[0m\u001b[0mint32\u001b[0m\u001b[1;33m)\u001b[0m\u001b[1;33m\u001b[0m\u001b[1;33m\u001b[0m\u001b[0m\n\u001b[0;32m     96\u001b[0m         \u001b[0mratings\u001b[0m \u001b[1;33m=\u001b[0m \u001b[0mself\u001b[0m\u001b[1;33m.\u001b[0m\u001b[0m__Y\u001b[0m\u001b[1;33m[\u001b[0m\u001b[0mindices_item\u001b[0m\u001b[1;33m,\u001b[0m \u001b[1;36m2\u001b[0m\u001b[1;33m]\u001b[0m\u001b[1;33m.\u001b[0m\u001b[0mastype\u001b[0m\u001b[1;33m(\u001b[0m\u001b[0mnp\u001b[0m\u001b[1;33m.\u001b[0m\u001b[0mfloat32\u001b[0m\u001b[1;33m)\u001b[0m\u001b[1;33m\u001b[0m\u001b[1;33m\u001b[0m\u001b[0m\n",
      "\u001b[1;32m<__array_function__ internals>\u001b[0m in \u001b[0;36mwhere\u001b[1;34m(*args, **kwargs)\u001b[0m\n",
      "\u001b[1;31mKeyboardInterrupt\u001b[0m: "
     ]
    }
   ],
   "source": [
    "result_train = MF(train_matrix, K = 10)\n",
    "result_train.matrix_factorization()\n",
    "\n",
    "test_evaluate = result_train.mse_evaluate(test_matrix)\n",
    "print(\"Test MSE:\", test_evaluate)"
   ]
  },
  {
   "cell_type": "code",
   "execution_count": null,
   "id": "39db6ef2",
   "metadata": {},
   "outputs": [],
   "source": []
  }
 ],
 "metadata": {
  "kernelspec": {
   "display_name": "Python 3",
   "language": "python",
   "name": "python3"
  },
  "language_info": {
   "codemirror_mode": {
    "name": "ipython",
    "version": 3
   },
   "file_extension": ".py",
   "mimetype": "text/x-python",
   "name": "python",
   "nbconvert_exporter": "python",
   "pygments_lexer": "ipython3",
   "version": "3.9.1"
  }
 },
 "nbformat": 4,
 "nbformat_minor": 5
}
